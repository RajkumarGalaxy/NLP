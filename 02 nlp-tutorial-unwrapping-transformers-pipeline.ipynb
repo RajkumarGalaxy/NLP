{
 "cells": [
  {
   "cell_type": "markdown",
   "id": "dafbbaeb",
   "metadata": {
    "papermill": {
     "duration": 0.01962,
     "end_time": "2021-12-19T09:15:13.385261",
     "exception": false,
     "start_time": "2021-12-19T09:15:13.365641",
     "status": "completed"
    },
    "tags": []
   },
   "source": [
    "# Effortless NLP using HuggingFace's Tranformers Ecosystem"
   ]
  },
  {
   "cell_type": "markdown",
   "id": "f5356dbf",
   "metadata": {
    "papermill": {
     "duration": 0.018268,
     "end_time": "2021-12-19T09:15:13.422734",
     "exception": false,
     "start_time": "2021-12-19T09:15:13.404466",
     "status": "completed"
    },
    "tags": []
   },
   "source": [
    "![Image](https://raw.githubusercontent.com/RajkumarGalaxy/dataset/master/Images/pipeline_1.jpg)\n",
    "\n",
    "> Image by [Bekky Bekks](https://unsplash.com/@bekkybekks)\n",
    "### What is inside a transformer pipeline?"
   ]
  },
  {
   "cell_type": "markdown",
   "id": "aba1d388",
   "metadata": {
    "papermill": {
     "duration": 0.018436,
     "end_time": "2021-12-19T09:15:13.459810",
     "exception": false,
     "start_time": "2021-12-19T09:15:13.441374",
     "status": "completed"
    },
    "tags": []
   },
   "source": [
    "#### ------------------------------------------------ \n",
    "#### *Articles So Far In This Series*\n",
    "#### -> [[NLP Tutorial] Finish Tasks in Two Lines of Code](https://www.kaggle.com/rajkumarl/nlp-tutorial-finish-tasks-in-two-lines-of-code)\n",
    "#### -> [[NLP Tutorial] Unwrapping Transformers Pipeline](https://www.kaggle.com/rajkumarl/nlp-unwrapping-transformers-pipeline)\n",
    "#### -> [[NLP Tutorial] Exploring Tokenizers](https://www.kaggle.com/rajkumarl/nlp-tutorial-exploring-tokenizers)\n",
    "#### -> [[NLP Tutorial] Fine-Tuning in TensorFlow](https://www.kaggle.com/rajkumarl/nlp-tutorial-fine-tuning-in-tensorflow) \n",
    "#### -> [[NLP Tutorail] Fine-Tuning in Pytorch](https://www.kaggle.com/rajkumarl/nlp-tutorial-fine-tuning-in-pytorch) \n",
    "#### -> [[NLP Tutorail] Fine-Tuning with Trainer API](https://www.kaggle.com/rajkumarl/nlp-tutorial-fine-tuning-with-trainer-api) \n",
    "#### ------------------------------------------------ "
   ]
  },
  {
   "cell_type": "markdown",
   "id": "a7e0bce3",
   "metadata": {
    "papermill": {
     "duration": 0.018237,
     "end_time": "2021-12-19T09:15:13.496763",
     "exception": false,
     "start_time": "2021-12-19T09:15:13.478526",
     "status": "completed"
    },
    "tags": []
   },
   "source": [
    "**Pipeline** module in the **transformers** library offers a quick lauch of NLP tasks without any preprocessing or model building activities. \n",
    "\n",
    "Looking at the processes inside a pipeline may help us explore the libraries and customize as per our problem needs. \n",
    "\n",
    "Let's discuss the Sentiment Analysis task for the sake of simplicity."
   ]
  },
  {
   "cell_type": "code",
   "execution_count": 1,
   "id": "4f52846c",
   "metadata": {
    "execution": {
     "iopub.execute_input": "2021-12-19T09:15:13.542825Z",
     "iopub.status.busy": "2021-12-19T09:15:13.541897Z",
     "iopub.status.idle": "2021-12-19T09:15:19.822591Z",
     "shell.execute_reply": "2021-12-19T09:15:19.821299Z",
     "shell.execute_reply.started": "2021-11-16T10:38:53.222319Z"
    },
    "papermill": {
     "duration": 6.307502,
     "end_time": "2021-12-19T09:15:19.822791",
     "exception": false,
     "start_time": "2021-12-19T09:15:13.515289",
     "status": "completed"
    },
    "tags": []
   },
   "outputs": [
    {
     "name": "stderr",
     "output_type": "stream",
     "text": [
      "2021-12-19 09:15:14.218383: W tensorflow/stream_executor/platform/default/dso_loader.cc:60] Could not load dynamic library 'libcudart.so.11.0'; dlerror: libcudart.so.11.0: cannot open shared object file: No such file or directory; LD_LIBRARY_PATH: /opt/conda/lib\n",
      "2021-12-19 09:15:14.218518: I tensorflow/stream_executor/cuda/cudart_stub.cc:29] Ignore above cudart dlerror if you do not have a GPU set up on your machine.\n"
     ]
    }
   ],
   "source": [
    "# Make necessary imports\n",
    "\n",
    "# for array operations\n",
    "import numpy as np \n",
    "# TensorFlow framework\n",
    "import tensorflow as tf\n",
    "# PyTorch framework\n",
    "import torch\n",
    "# for pretty printing\n",
    "from pprint import pprint"
   ]
  },
  {
   "cell_type": "markdown",
   "id": "bff8a78f",
   "metadata": {
    "papermill": {
     "duration": 0.019045,
     "end_time": "2021-12-19T09:15:19.861640",
     "exception": false,
     "start_time": "2021-12-19T09:15:19.842595",
     "status": "completed"
    },
    "tags": []
   },
   "source": [
    "# Sentiment Analysis Using Pipeline\n",
    "\n",
    "Sentiment analysis is a binary text classification task in which the text is generally classified into one of the labels - positive and negative. The pipeline module downloads a suitable pre-trained transformer model, preprocesses the input text and outputs the sentiment label and its probability score value."
   ]
  },
  {
   "cell_type": "code",
   "execution_count": 2,
   "id": "18dfb608",
   "metadata": {
    "_kg_hide-output": true,
    "execution": {
     "iopub.execute_input": "2021-12-19T09:15:19.904701Z",
     "iopub.status.busy": "2021-12-19T09:15:19.903760Z",
     "iopub.status.idle": "2021-12-19T09:15:36.433461Z",
     "shell.execute_reply": "2021-12-19T09:15:36.432812Z",
     "shell.execute_reply.started": "2021-11-16T10:38:53.230134Z"
    },
    "papermill": {
     "duration": 16.552165,
     "end_time": "2021-12-19T09:15:36.433637",
     "exception": false,
     "start_time": "2021-12-19T09:15:19.881472",
     "status": "completed"
    },
    "tags": []
   },
   "outputs": [
    {
     "data": {
      "application/vnd.jupyter.widget-view+json": {
       "model_id": "76a9aa82fefe4475b1bef3320fbe71cf",
       "version_major": 2,
       "version_minor": 0
      },
      "text/plain": [
       "Downloading:   0%|          | 0.00/629 [00:00<?, ?B/s]"
      ]
     },
     "metadata": {},
     "output_type": "display_data"
    },
    {
     "data": {
      "application/vnd.jupyter.widget-view+json": {
       "model_id": "62f44fa88739458f89fbdd6532d87c47",
       "version_major": 2,
       "version_minor": 0
      },
      "text/plain": [
       "Downloading:   0%|          | 0.00/268M [00:00<?, ?B/s]"
      ]
     },
     "metadata": {},
     "output_type": "display_data"
    },
    {
     "data": {
      "application/vnd.jupyter.widget-view+json": {
       "model_id": "82a17703f6314df1827b9fa9f82474eb",
       "version_major": 2,
       "version_minor": 0
      },
      "text/plain": [
       "Downloading:   0%|          | 0.00/232k [00:00<?, ?B/s]"
      ]
     },
     "metadata": {},
     "output_type": "display_data"
    },
    {
     "data": {
      "application/vnd.jupyter.widget-view+json": {
       "model_id": "f2946df6b20f41398c6dca1178180343",
       "version_major": 2,
       "version_minor": 0
      },
      "text/plain": [
       "Downloading:   0%|          | 0.00/48.0 [00:00<?, ?B/s]"
      ]
     },
     "metadata": {},
     "output_type": "display_data"
    }
   ],
   "source": [
    "# pipeline module from the HF's transformers library\n",
    "from transformers import pipeline\n",
    "\n",
    "# download and cache a suitable pre-trained model\n",
    "classifier = pipeline('sentiment-analysis')"
   ]
  },
  {
   "cell_type": "markdown",
   "id": "f04c346a",
   "metadata": {
    "papermill": {
     "duration": 0.020541,
     "end_time": "2021-12-19T09:15:36.476068",
     "exception": false,
     "start_time": "2021-12-19T09:15:36.455527",
     "status": "completed"
    },
    "tags": []
   },
   "source": [
    "Using multiple text inputs at a time - "
   ]
  },
  {
   "cell_type": "code",
   "execution_count": 3,
   "id": "9d29bd17",
   "metadata": {
    "execution": {
     "iopub.execute_input": "2021-12-19T09:15:36.522001Z",
     "iopub.status.busy": "2021-12-19T09:15:36.521054Z",
     "iopub.status.idle": "2021-12-19T09:15:36.686854Z",
     "shell.execute_reply": "2021-12-19T09:15:36.686253Z",
     "shell.execute_reply.started": "2021-11-16T10:38:59.746919Z"
    },
    "papermill": {
     "duration": 0.189734,
     "end_time": "2021-12-19T09:15:36.687011",
     "exception": false,
     "start_time": "2021-12-19T09:15:36.497277",
     "status": "completed"
    },
    "tags": []
   },
   "outputs": [
    {
     "data": {
      "text/plain": [
       "[{'label': 'POSITIVE', 'score': 0.9998539090156555},\n",
       " {'label': 'POSITIVE', 'score': 0.999812662601471},\n",
       " {'label': 'NEGATIVE', 'score': 0.9996762275695801},\n",
       " {'label': 'POSITIVE', 'score': 0.998968243598938},\n",
       " {'label': 'NEGATIVE', 'score': 0.9858075380325317}]"
      ]
     },
     "execution_count": 3,
     "metadata": {},
     "output_type": "execute_result"
    }
   ],
   "source": [
    "texts = ['One of the best products I have ever used',\n",
    "            'They got thrilled with the movie', \n",
    "            'My car starts to underperform', \n",
    "            'I love to take icecreams along with milkshakes',\n",
    "            'Nobody enters my restaurant after that horror incident']\n",
    "classifier(texts)"
   ]
  },
  {
   "cell_type": "markdown",
   "id": "d90d53a5",
   "metadata": {
    "papermill": {
     "duration": 0.02094,
     "end_time": "2021-12-19T09:15:36.729470",
     "exception": false,
     "start_time": "2021-12-19T09:15:36.708530",
     "status": "completed"
    },
    "tags": []
   },
   "source": [
    "**Things to consider:**\n",
    "\n",
    "> While calling the 'pipeline', it downloads something in four steps. What are they?\n",
    "\n",
    "> We have just entered texts. It outputs sentiments as humans expect. How?\n",
    "\n",
    "Pipeline is a high-level wrapper that downloads a compatible tokenizer, a pre-trained model, a model head and other post-processing elements to deliver the expected output just with the inputs, but no other efforts. Further, pipeline does not expect its users to have knowledge in any frameworks such as PyTorch and TensorFlow.\n",
    "\n",
    "In this article, however, we are going to reproduce the results of pipeline with separate modules and APIs with our effort. We will explore the approaches for both PyTorch and TensorFlow."
   ]
  },
  {
   "cell_type": "markdown",
   "id": "baf4253c",
   "metadata": {
    "papermill": {
     "duration": 0.021048,
     "end_time": "2021-12-19T09:15:36.771998",
     "exception": false,
     "start_time": "2021-12-19T09:15:36.750950",
     "status": "completed"
    },
    "tags": []
   },
   "source": [
    "# Sentiment Analysis without Pipeline\n",
    "\n",
    "When we call Sentiment Analysis Pipeline, it fetches a particular checkpoint of pre-trained distilBERT. Tokenizer and Model are formulated based on that checkpoint. Let's bring that checkpoint to light!"
   ]
  },
  {
   "cell_type": "code",
   "execution_count": 4,
   "id": "331c94cf",
   "metadata": {
    "execution": {
     "iopub.execute_input": "2021-12-19T09:15:36.820867Z",
     "iopub.status.busy": "2021-12-19T09:15:36.820013Z",
     "iopub.status.idle": "2021-12-19T09:15:36.822614Z",
     "shell.execute_reply": "2021-12-19T09:15:36.822064Z",
     "shell.execute_reply.started": "2021-11-16T10:38:59.834257Z"
    },
    "papermill": {
     "duration": 0.028454,
     "end_time": "2021-12-19T09:15:36.822752",
     "exception": false,
     "start_time": "2021-12-19T09:15:36.794298",
     "status": "completed"
    },
    "tags": []
   },
   "outputs": [],
   "source": [
    "checkpoint = 'distilbert-base-uncased-finetuned-sst-2-english'"
   ]
  },
  {
   "cell_type": "markdown",
   "id": "88c14a8a",
   "metadata": {
    "papermill": {
     "duration": 0.021027,
     "end_time": "2021-12-19T09:15:36.865275",
     "exception": false,
     "start_time": "2021-12-19T09:15:36.844248",
     "status": "completed"
    },
    "tags": []
   },
   "source": [
    "### In TensorFlow"
   ]
  },
  {
   "cell_type": "code",
   "execution_count": 5,
   "id": "d590840b",
   "metadata": {
    "execution": {
     "iopub.execute_input": "2021-12-19T09:15:36.910872Z",
     "iopub.status.busy": "2021-12-19T09:15:36.910253Z",
     "iopub.status.idle": "2021-12-19T09:15:39.041245Z",
     "shell.execute_reply": "2021-12-19T09:15:39.041786Z",
     "shell.execute_reply.started": "2021-11-16T10:38:59.840839Z"
    },
    "papermill": {
     "duration": 2.155411,
     "end_time": "2021-12-19T09:15:39.041956",
     "exception": false,
     "start_time": "2021-12-19T09:15:36.886545",
     "status": "completed"
    },
    "tags": []
   },
   "outputs": [
    {
     "name": "stdout",
     "output_type": "stream",
     "text": [
      "{'attention_mask': <tf.Tensor: shape=(5, 14), dtype=int32, numpy=\n",
      "array([[1, 1, 1, 1, 1, 1, 1, 1, 1, 1, 1, 0, 0, 0],\n",
      "       [1, 1, 1, 1, 1, 1, 1, 1, 0, 0, 0, 0, 0, 0],\n",
      "       [1, 1, 1, 1, 1, 1, 1, 1, 1, 0, 0, 0, 0, 0],\n",
      "       [1, 1, 1, 1, 1, 1, 1, 1, 1, 1, 1, 1, 1, 1],\n",
      "       [1, 1, 1, 1, 1, 1, 1, 1, 1, 1, 0, 0, 0, 0]], dtype=int32)>,\n",
      " 'input_ids': <tf.Tensor: shape=(5, 14), dtype=int32, numpy=\n",
      "array([[  101,  2028,  1997,  1996,  2190,  3688,  1045,  2031,  2412,\n",
      "         2109,   102,     0,     0,     0],\n",
      "       [  101,  2027,  2288, 16082,  2007,  1996,  3185,   102,     0,\n",
      "            0,     0,     0,     0,     0],\n",
      "       [  101,  2026,  2482,  4627,  2000,  2104,  4842, 14192,   102,\n",
      "            0,     0,     0,     0,     0],\n",
      "       [  101,  1045,  2293,  2000,  2202,  3256, 16748, 13596,  2247,\n",
      "         2007,  6501,  7377,  9681,   102],\n",
      "       [  101,  6343,  8039,  2026,  4825,  2044,  2008,  5469,  5043,\n",
      "          102,     0,     0,     0,     0]], dtype=int32)>}\n"
     ]
    },
    {
     "name": "stderr",
     "output_type": "stream",
     "text": [
      "2021-12-19 09:15:39.014990: I tensorflow/compiler/jit/xla_cpu_device.cc:41] Not creating XLA devices, tf_xla_enable_xla_devices not set\n",
      "2021-12-19 09:15:39.018341: W tensorflow/stream_executor/platform/default/dso_loader.cc:60] Could not load dynamic library 'libcuda.so.1'; dlerror: libcuda.so.1: cannot open shared object file: No such file or directory; LD_LIBRARY_PATH: /opt/conda/lib\n",
      "2021-12-19 09:15:39.018376: W tensorflow/stream_executor/cuda/cuda_driver.cc:326] failed call to cuInit: UNKNOWN ERROR (303)\n",
      "2021-12-19 09:15:39.018429: I tensorflow/stream_executor/cuda/cuda_diagnostics.cc:156] kernel driver does not appear to be running on this host (70c859915ee9): /proc/driver/nvidia/version does not exist\n",
      "2021-12-19 09:15:39.020731: I tensorflow/core/platform/cpu_feature_guard.cc:142] This TensorFlow binary is optimized with oneAPI Deep Neural Network Library (oneDNN) to use the following CPU instructions in performance-critical operations:  AVX2 FMA\n",
      "To enable them in other operations, rebuild TensorFlow with the appropriate compiler flags.\n",
      "2021-12-19 09:15:39.022315: I tensorflow/compiler/jit/xla_gpu_device.cc:99] Not creating XLA devices, tf_xla_enable_xla_devices not set\n"
     ]
    }
   ],
   "source": [
    "from transformers import AutoTokenizer, TFAutoModelForSequenceClassification\n",
    "\n",
    "# build a tokenizer\n",
    "tokenizer = AutoTokenizer.from_pretrained(checkpoint)\n",
    "\n",
    "# convert raw text into number inputs\n",
    "inputs = tokenizer(texts, truncation=True, padding=True, return_tensors='tf')\n",
    "pprint(inputs) "
   ]
  },
  {
   "cell_type": "code",
   "execution_count": 6,
   "id": "f9c5d5b5",
   "metadata": {
    "execution": {
     "iopub.execute_input": "2021-12-19T09:15:39.090068Z",
     "iopub.status.busy": "2021-12-19T09:15:39.089123Z",
     "iopub.status.idle": "2021-12-19T09:15:49.933979Z",
     "shell.execute_reply": "2021-12-19T09:15:49.934541Z",
     "shell.execute_reply.started": "2021-11-16T10:39:02.682106Z"
    },
    "papermill": {
     "duration": 10.870661,
     "end_time": "2021-12-19T09:15:49.934707",
     "exception": false,
     "start_time": "2021-12-19T09:15:39.064046",
     "status": "completed"
    },
    "tags": []
   },
   "outputs": [
    {
     "data": {
      "application/vnd.jupyter.widget-view+json": {
       "model_id": "8f3108aea03d4d2494af63695b2b9a2e",
       "version_major": 2,
       "version_minor": 0
      },
      "text/plain": [
       "Downloading:   0%|          | 0.00/268M [00:00<?, ?B/s]"
      ]
     },
     "metadata": {},
     "output_type": "display_data"
    },
    {
     "name": "stderr",
     "output_type": "stream",
     "text": [
      "2021-12-19 09:15:47.954637: W tensorflow/python/util/util.cc:348] Sets are not currently considered sequences, but this may change in the future, so consider avoiding using them.\n",
      "All model checkpoint layers were used when initializing TFDistilBertForSequenceClassification.\n",
      "\n",
      "All the layers of TFDistilBertForSequenceClassification were initialized from the model checkpoint at distilbert-base-uncased-finetuned-sst-2-english.\n",
      "If your task is similar to the task the model of the checkpoint was trained on, you can already use TFDistilBertForSequenceClassification for predictions without further training.\n"
     ]
    },
    {
     "data": {
      "text/plain": [
       "TFSequenceClassifierOutput(loss=None, logits=<tf.Tensor: shape=(5, 2), dtype=float32, numpy=\n",
       "array([[-4.2369432,  4.594136 ],\n",
       "       [-4.137792 ,  4.4446945],\n",
       "       [ 4.448906 , -3.586285 ],\n",
       "       [-3.3940864,  3.4813333],\n",
       "       [ 2.320928 , -1.9198208]], dtype=float32)>, hidden_states=None, attentions=None)"
      ]
     },
     "execution_count": 6,
     "metadata": {},
     "output_type": "execute_result"
    }
   ],
   "source": [
    "# build model \n",
    "model = TFAutoModelForSequenceClassification.from_pretrained(checkpoint)\n",
    "# calculate outputs\n",
    "outputs = model(inputs)\n",
    "outputs"
   ]
  },
  {
   "cell_type": "markdown",
   "id": "30c0b034",
   "metadata": {
    "papermill": {
     "duration": 0.023429,
     "end_time": "2021-12-19T09:15:49.982505",
     "exception": false,
     "start_time": "2021-12-19T09:15:49.959076",
     "status": "completed"
    },
    "tags": []
   },
   "source": [
    "The outputs are logits. They need to be mapped to a probability distribution using softmax."
   ]
  },
  {
   "cell_type": "code",
   "execution_count": 7,
   "id": "dbbb23f7",
   "metadata": {
    "execution": {
     "iopub.execute_input": "2021-12-19T09:15:50.033890Z",
     "iopub.status.busy": "2021-12-19T09:15:50.032850Z",
     "iopub.status.idle": "2021-12-19T09:15:50.041178Z",
     "shell.execute_reply": "2021-12-19T09:15:50.040637Z",
     "shell.execute_reply.started": "2021-11-16T10:39:05.721094Z"
    },
    "papermill": {
     "duration": 0.03536,
     "end_time": "2021-12-19T09:15:50.041324",
     "exception": false,
     "start_time": "2021-12-19T09:15:50.005964",
     "status": "completed"
    },
    "tags": []
   },
   "outputs": [
    {
     "data": {
      "text/plain": [
       "array([[1.4609906e-04, 9.9985385e-01],\n",
       "       [1.8732331e-04, 9.9981266e-01],\n",
       "       [9.9967623e-01, 3.2375794e-04],\n",
       "       [1.0317984e-03, 9.9896824e-01],\n",
       "       [9.8580754e-01, 1.4192480e-02]], dtype=float32)"
      ]
     },
     "execution_count": 7,
     "metadata": {},
     "output_type": "execute_result"
    }
   ],
   "source": [
    "scores = tf.math.softmax(outputs.logits).numpy()\n",
    "scores"
   ]
  },
  {
   "cell_type": "markdown",
   "id": "f0ffe30b",
   "metadata": {
    "papermill": {
     "duration": 0.023316,
     "end_time": "2021-12-19T09:15:50.088542",
     "exception": false,
     "start_time": "2021-12-19T09:15:50.065226",
     "status": "completed"
    },
    "tags": []
   },
   "source": [
    "We get probability scores. How to interpret them as Negative or Positive label? How was the model configured in this regard?"
   ]
  },
  {
   "cell_type": "code",
   "execution_count": 8,
   "id": "19d6d85f",
   "metadata": {
    "execution": {
     "iopub.execute_input": "2021-12-19T09:15:50.142650Z",
     "iopub.status.busy": "2021-12-19T09:15:50.141762Z",
     "iopub.status.idle": "2021-12-19T09:15:50.144801Z",
     "shell.execute_reply": "2021-12-19T09:15:50.145248Z",
     "shell.execute_reply.started": "2021-11-16T10:39:05.729938Z"
    },
    "papermill": {
     "duration": 0.032671,
     "end_time": "2021-12-19T09:15:50.145409",
     "exception": false,
     "start_time": "2021-12-19T09:15:50.112738",
     "status": "completed"
    },
    "tags": []
   },
   "outputs": [
    {
     "data": {
      "text/plain": [
       "{0: 'NEGATIVE', 1: 'POSITIVE'}"
      ]
     },
     "execution_count": 8,
     "metadata": {},
     "output_type": "execute_result"
    }
   ],
   "source": [
    "model.config.id2label"
   ]
  },
  {
   "cell_type": "code",
   "execution_count": 9,
   "id": "fd8f060d",
   "metadata": {
    "execution": {
     "iopub.execute_input": "2021-12-19T09:15:50.202151Z",
     "iopub.status.busy": "2021-12-19T09:15:50.201032Z",
     "iopub.status.idle": "2021-12-19T09:15:50.204852Z",
     "shell.execute_reply": "2021-12-19T09:15:50.205561Z",
     "shell.execute_reply.started": "2021-11-16T10:39:05.745245Z"
    },
    "papermill": {
     "duration": 0.035995,
     "end_time": "2021-12-19T09:15:50.205811",
     "exception": false,
     "start_time": "2021-12-19T09:15:50.169816",
     "status": "completed"
    },
    "tags": []
   },
   "outputs": [
    {
     "name": "stdout",
     "output_type": "stream",
     "text": [
      "{'label': 'POSITIVE', 'score': 0.99985385}\n",
      "{'label': 'POSITIVE', 'score': 0.99981266}\n",
      "{'label': 'NEGATIVE', 'score': 0.9996762}\n",
      "{'label': 'POSITIVE', 'score': 0.99896824}\n",
      "{'label': 'NEGATIVE', 'score': 0.98580754}\n"
     ]
    }
   ],
   "source": [
    "# obtain position of max score\n",
    "ids = np.argmax(scores, axis=-1)\n",
    "# obtain the max score itself\n",
    "values = np.max(scores, axis=-1)\n",
    "# calculate the labels for each input\n",
    "labels = list(map(lambda i: model.config.id2label[i], ids))\n",
    "# print results as similar to a pipeline\n",
    "for i in range(len(texts)):\n",
    "    print(dict([('label',labels[i]), ('score',values[i])]))"
   ]
  },
  {
   "cell_type": "markdown",
   "id": "ceb9ddf6",
   "metadata": {
    "papermill": {
     "duration": 0.02461,
     "end_time": "2021-12-19T09:15:50.257257",
     "exception": false,
     "start_time": "2021-12-19T09:15:50.232647",
     "status": "completed"
    },
    "tags": []
   },
   "source": [
    "Yeah! We got the same output as obtained with Pipeline."
   ]
  },
  {
   "cell_type": "markdown",
   "id": "7eb5bbaa",
   "metadata": {
    "papermill": {
     "duration": 0.023947,
     "end_time": "2021-12-19T09:15:50.305619",
     "exception": false,
     "start_time": "2021-12-19T09:15:50.281672",
     "status": "completed"
    },
    "tags": []
   },
   "source": [
    "### In PyTorch"
   ]
  },
  {
   "cell_type": "code",
   "execution_count": 10,
   "id": "2ef8c4c4",
   "metadata": {
    "execution": {
     "iopub.execute_input": "2021-12-19T09:15:50.361351Z",
     "iopub.status.busy": "2021-12-19T09:15:50.359528Z",
     "iopub.status.idle": "2021-12-19T09:15:52.468359Z",
     "shell.execute_reply": "2021-12-19T09:15:52.468878Z",
     "shell.execute_reply.started": "2021-11-16T10:39:05.758617Z"
    },
    "papermill": {
     "duration": 2.139027,
     "end_time": "2021-12-19T09:15:52.469060",
     "exception": false,
     "start_time": "2021-12-19T09:15:50.330033",
     "status": "completed"
    },
    "tags": []
   },
   "outputs": [
    {
     "name": "stdout",
     "output_type": "stream",
     "text": [
      "{'attention_mask': tensor([[1, 1, 1, 1, 1, 1, 1, 1, 1, 1, 1, 0, 0, 0],\n",
      "        [1, 1, 1, 1, 1, 1, 1, 1, 0, 0, 0, 0, 0, 0],\n",
      "        [1, 1, 1, 1, 1, 1, 1, 1, 1, 0, 0, 0, 0, 0],\n",
      "        [1, 1, 1, 1, 1, 1, 1, 1, 1, 1, 1, 1, 1, 1],\n",
      "        [1, 1, 1, 1, 1, 1, 1, 1, 1, 1, 0, 0, 0, 0]]),\n",
      " 'input_ids': tensor([[  101,  2028,  1997,  1996,  2190,  3688,  1045,  2031,  2412,  2109,\n",
      "           102,     0,     0,     0],\n",
      "        [  101,  2027,  2288, 16082,  2007,  1996,  3185,   102,     0,     0,\n",
      "             0,     0,     0,     0],\n",
      "        [  101,  2026,  2482,  4627,  2000,  2104,  4842, 14192,   102,     0,\n",
      "             0,     0,     0,     0],\n",
      "        [  101,  1045,  2293,  2000,  2202,  3256, 16748, 13596,  2247,  2007,\n",
      "          6501,  7377,  9681,   102],\n",
      "        [  101,  6343,  8039,  2026,  4825,  2044,  2008,  5469,  5043,   102,\n",
      "             0,     0,     0,     0]])}\n"
     ]
    }
   ],
   "source": [
    "from transformers import AutoTokenizer, AutoModelForSequenceClassification\n",
    "\n",
    "# build a tokenizer\n",
    "tokenizer = AutoTokenizer.from_pretrained(checkpoint)\n",
    "\n",
    "# convert raw text into tensor inputs\n",
    "inputs = tokenizer(texts, truncation=True, padding=True, return_tensors='pt')\n",
    "pprint(inputs) "
   ]
  },
  {
   "cell_type": "code",
   "execution_count": 11,
   "id": "b4acc6e5",
   "metadata": {
    "execution": {
     "iopub.execute_input": "2021-12-19T09:15:52.526155Z",
     "iopub.status.busy": "2021-12-19T09:15:52.525510Z",
     "iopub.status.idle": "2021-12-19T09:15:55.389223Z",
     "shell.execute_reply": "2021-12-19T09:15:55.388674Z",
     "shell.execute_reply.started": "2021-11-16T10:39:09.216849Z"
    },
    "papermill": {
     "duration": 2.895129,
     "end_time": "2021-12-19T09:15:55.389369",
     "exception": false,
     "start_time": "2021-12-19T09:15:52.494240",
     "status": "completed"
    },
    "tags": []
   },
   "outputs": [
    {
     "data": {
      "text/plain": [
       "SequenceClassifierOutput(loss=None, logits=tensor([[-4.2369,  4.5941],\n",
       "        [-4.1378,  4.4447],\n",
       "        [ 4.4489, -3.5863],\n",
       "        [-3.3941,  3.4813],\n",
       "        [ 2.3209, -1.9198]], grad_fn=<AddmmBackward>), hidden_states=None, attentions=None)"
      ]
     },
     "execution_count": 11,
     "metadata": {},
     "output_type": "execute_result"
    }
   ],
   "source": [
    "# build model\n",
    "model = AutoModelForSequenceClassification.from_pretrained(checkpoint)\n",
    "# make predictions\n",
    "outputs = model(**inputs)\n",
    "outputs"
   ]
  },
  {
   "cell_type": "code",
   "execution_count": 12,
   "id": "1cf83ad1",
   "metadata": {
    "execution": {
     "iopub.execute_input": "2021-12-19T09:15:55.443752Z",
     "iopub.status.busy": "2021-12-19T09:15:55.442768Z",
     "iopub.status.idle": "2021-12-19T09:15:55.449268Z",
     "shell.execute_reply": "2021-12-19T09:15:55.449878Z",
     "shell.execute_reply.started": "2021-11-16T10:39:13.760062Z"
    },
    "papermill": {
     "duration": 0.035271,
     "end_time": "2021-12-19T09:15:55.450069",
     "exception": false,
     "start_time": "2021-12-19T09:15:55.414798",
     "status": "completed"
    },
    "tags": []
   },
   "outputs": [
    {
     "data": {
      "text/plain": [
       "array([[1.4609919e-04, 9.9985385e-01],\n",
       "       [1.8732368e-04, 9.9981266e-01],\n",
       "       [9.9967623e-01, 3.2375855e-04],\n",
       "       [1.0317975e-03, 9.9896824e-01],\n",
       "       [9.8580754e-01, 1.4192474e-02]], dtype=float32)"
      ]
     },
     "execution_count": 12,
     "metadata": {},
     "output_type": "execute_result"
    }
   ],
   "source": [
    "# convert logits into prob scores using softmax\n",
    "scores = torch.nn.functional.softmax(outputs.logits, dim=-1).detach().numpy()\n",
    "scores"
   ]
  },
  {
   "cell_type": "code",
   "execution_count": 13,
   "id": "8ec973be",
   "metadata": {
    "execution": {
     "iopub.execute_input": "2021-12-19T09:15:55.504680Z",
     "iopub.status.busy": "2021-12-19T09:15:55.503730Z",
     "iopub.status.idle": "2021-12-19T09:15:55.512257Z",
     "shell.execute_reply": "2021-12-19T09:15:55.511763Z",
     "shell.execute_reply.started": "2021-11-16T10:44:09.735224Z"
    },
    "papermill": {
     "duration": 0.036796,
     "end_time": "2021-12-19T09:15:55.512397",
     "exception": false,
     "start_time": "2021-12-19T09:15:55.475601",
     "status": "completed"
    },
    "tags": []
   },
   "outputs": [
    {
     "name": "stdout",
     "output_type": "stream",
     "text": [
      "{'label': 'POSITIVE', 'score': 0.99985385}\n",
      "{'label': 'POSITIVE', 'score': 0.99981266}\n",
      "{'label': 'NEGATIVE', 'score': 0.9996762}\n",
      "{'label': 'POSITIVE', 'score': 0.99896824}\n",
      "{'label': 'NEGATIVE', 'score': 0.98580754}\n"
     ]
    }
   ],
   "source": [
    "# calculate the max score position\n",
    "ids = np.argmax(scores, axis=-1)\n",
    "# calculate the max score itself\n",
    "values = np.max(scores, axis=-1)\n",
    "# identify the setiment labels \n",
    "labels = list(map(lambda i: model.config.id2label[i], ids))\n",
    "# print the results as similar to pipeline\n",
    "for i in range(len(texts)):\n",
    "    print({'label':labels[i], 'score':values[i]})"
   ]
  },
  {
   "cell_type": "markdown",
   "id": "22606841",
   "metadata": {
    "papermill": {
     "duration": 0.025625,
     "end_time": "2021-12-19T09:15:55.563704",
     "exception": false,
     "start_time": "2021-12-19T09:15:55.538079",
     "status": "completed"
    },
    "tags": []
   },
   "source": [
    "That's awesome! We could reproduce the exact results."
   ]
  },
  {
   "cell_type": "markdown",
   "id": "601d8523",
   "metadata": {
    "papermill": {
     "duration": 0.025057,
     "end_time": "2021-12-19T09:15:55.614451",
     "exception": false,
     "start_time": "2021-12-19T09:15:55.589394",
     "status": "completed"
    },
    "tags": []
   },
   "source": [
    "Key reference: [HuggingFace's NLP Course](https://huggingface.co/course)"
   ]
  },
  {
   "cell_type": "markdown",
   "id": "d5fed2f8",
   "metadata": {
    "papermill": {
     "duration": 0.025546,
     "end_time": "2021-12-19T09:15:55.665656",
     "exception": false,
     "start_time": "2021-12-19T09:15:55.640110",
     "status": "completed"
    },
    "tags": []
   },
   "source": [
    "### Thank you for your valuable time!"
   ]
  }
 ],
 "metadata": {
  "kernelspec": {
   "display_name": "Python 3",
   "language": "python",
   "name": "python3"
  },
  "language_info": {
   "codemirror_mode": {
    "name": "ipython",
    "version": 3
   },
   "file_extension": ".py",
   "mimetype": "text/x-python",
   "name": "python",
   "nbconvert_exporter": "python",
   "pygments_lexer": "ipython3",
   "version": "3.7.10"
  },
  "papermill": {
   "default_parameters": {},
   "duration": 53.777905,
   "end_time": "2021-12-19T09:15:58.950459",
   "environment_variables": {},
   "exception": null,
   "input_path": "__notebook__.ipynb",
   "output_path": "__notebook__.ipynb",
   "parameters": {},
   "start_time": "2021-12-19T09:15:05.172554",
   "version": "2.3.3"
  },
  "widgets": {
   "application/vnd.jupyter.widget-state+json": {
    "state": {
     "01bc5d97f92049898a5a6a4ebd0274d7": {
      "model_module": "@jupyter-widgets/controls",
      "model_module_version": "1.5.0",
      "model_name": "ProgressStyleModel",
      "state": {
       "_model_module": "@jupyter-widgets/controls",
       "_model_module_version": "1.5.0",
       "_model_name": "ProgressStyleModel",
       "_view_count": null,
       "_view_module": "@jupyter-widgets/base",
       "_view_module_version": "1.2.0",
       "_view_name": "StyleView",
       "bar_color": null,
       "description_width": ""
      }
     },
     "03b2442670b94a1dac0b1e0a0a66f3ba": {
      "model_module": "@jupyter-widgets/controls",
      "model_module_version": "1.5.0",
      "model_name": "FloatProgressModel",
      "state": {
       "_dom_classes": [],
       "_model_module": "@jupyter-widgets/controls",
       "_model_module_version": "1.5.0",
       "_model_name": "FloatProgressModel",
       "_view_count": null,
       "_view_module": "@jupyter-widgets/controls",
       "_view_module_version": "1.5.0",
       "_view_name": "ProgressView",
       "bar_style": "success",
       "description": "",
       "description_tooltip": null,
       "layout": "IPY_MODEL_b941584511c9461f9799e6808eb1eb50",
       "max": 231508.0,
       "min": 0.0,
       "orientation": "horizontal",
       "style": "IPY_MODEL_dfc2813e7f5a45a381284a07b0d6c336",
       "value": 231508.0
      }
     },
     "09de74eb1cc84be2b41b3f7cb9b12a00": {
      "model_module": "@jupyter-widgets/base",
      "model_module_version": "1.2.0",
      "model_name": "LayoutModel",
      "state": {
       "_model_module": "@jupyter-widgets/base",
       "_model_module_version": "1.2.0",
       "_model_name": "LayoutModel",
       "_view_count": null,
       "_view_module": "@jupyter-widgets/base",
       "_view_module_version": "1.2.0",
       "_view_name": "LayoutView",
       "align_content": null,
       "align_items": null,
       "align_self": null,
       "border": null,
       "bottom": null,
       "display": null,
       "flex": null,
       "flex_flow": null,
       "grid_area": null,
       "grid_auto_columns": null,
       "grid_auto_flow": null,
       "grid_auto_rows": null,
       "grid_column": null,
       "grid_gap": null,
       "grid_row": null,
       "grid_template_areas": null,
       "grid_template_columns": null,
       "grid_template_rows": null,
       "height": null,
       "justify_content": null,
       "justify_items": null,
       "left": null,
       "margin": null,
       "max_height": null,
       "max_width": null,
       "min_height": null,
       "min_width": null,
       "object_fit": null,
       "object_position": null,
       "order": null,
       "overflow": null,
       "overflow_x": null,
       "overflow_y": null,
       "padding": null,
       "right": null,
       "top": null,
       "visibility": null,
       "width": null
      }
     },
     "10a4211cede4479fb504f984a300ef61": {
      "model_module": "@jupyter-widgets/controls",
      "model_module_version": "1.5.0",
      "model_name": "HTMLModel",
      "state": {
       "_dom_classes": [],
       "_model_module": "@jupyter-widgets/controls",
       "_model_module_version": "1.5.0",
       "_model_name": "HTMLModel",
       "_view_count": null,
       "_view_module": "@jupyter-widgets/controls",
       "_view_module_version": "1.5.0",
       "_view_name": "HTMLView",
       "description": "",
       "description_tooltip": null,
       "layout": "IPY_MODEL_34cd2a7cb815485ea26c5ed8e4f609f6",
       "placeholder": "​",
       "style": "IPY_MODEL_111dbeb171c740b681e0bc2d48e306d4",
       "value": " 232k/232k [00:00&lt;00:00, 880kB/s]"
      }
     },
     "111dbeb171c740b681e0bc2d48e306d4": {
      "model_module": "@jupyter-widgets/controls",
      "model_module_version": "1.5.0",
      "model_name": "DescriptionStyleModel",
      "state": {
       "_model_module": "@jupyter-widgets/controls",
       "_model_module_version": "1.5.0",
       "_model_name": "DescriptionStyleModel",
       "_view_count": null,
       "_view_module": "@jupyter-widgets/base",
       "_view_module_version": "1.2.0",
       "_view_name": "StyleView",
       "description_width": ""
      }
     },
     "144c49fae9ee4b88bf87d9e5dd9ca8e7": {
      "model_module": "@jupyter-widgets/base",
      "model_module_version": "1.2.0",
      "model_name": "LayoutModel",
      "state": {
       "_model_module": "@jupyter-widgets/base",
       "_model_module_version": "1.2.0",
       "_model_name": "LayoutModel",
       "_view_count": null,
       "_view_module": "@jupyter-widgets/base",
       "_view_module_version": "1.2.0",
       "_view_name": "LayoutView",
       "align_content": null,
       "align_items": null,
       "align_self": null,
       "border": null,
       "bottom": null,
       "display": null,
       "flex": null,
       "flex_flow": null,
       "grid_area": null,
       "grid_auto_columns": null,
       "grid_auto_flow": null,
       "grid_auto_rows": null,
       "grid_column": null,
       "grid_gap": null,
       "grid_row": null,
       "grid_template_areas": null,
       "grid_template_columns": null,
       "grid_template_rows": null,
       "height": null,
       "justify_content": null,
       "justify_items": null,
       "left": null,
       "margin": null,
       "max_height": null,
       "max_width": null,
       "min_height": null,
       "min_width": null,
       "object_fit": null,
       "object_position": null,
       "order": null,
       "overflow": null,
       "overflow_x": null,
       "overflow_y": null,
       "padding": null,
       "right": null,
       "top": null,
       "visibility": null,
       "width": null
      }
     },
     "22a84cc960134b3ba76c5cd547d89338": {
      "model_module": "@jupyter-widgets/base",
      "model_module_version": "1.2.0",
      "model_name": "LayoutModel",
      "state": {
       "_model_module": "@jupyter-widgets/base",
       "_model_module_version": "1.2.0",
       "_model_name": "LayoutModel",
       "_view_count": null,
       "_view_module": "@jupyter-widgets/base",
       "_view_module_version": "1.2.0",
       "_view_name": "LayoutView",
       "align_content": null,
       "align_items": null,
       "align_self": null,
       "border": null,
       "bottom": null,
       "display": null,
       "flex": null,
       "flex_flow": null,
       "grid_area": null,
       "grid_auto_columns": null,
       "grid_auto_flow": null,
       "grid_auto_rows": null,
       "grid_column": null,
       "grid_gap": null,
       "grid_row": null,
       "grid_template_areas": null,
       "grid_template_columns": null,
       "grid_template_rows": null,
       "height": null,
       "justify_content": null,
       "justify_items": null,
       "left": null,
       "margin": null,
       "max_height": null,
       "max_width": null,
       "min_height": null,
       "min_width": null,
       "object_fit": null,
       "object_position": null,
       "order": null,
       "overflow": null,
       "overflow_x": null,
       "overflow_y": null,
       "padding": null,
       "right": null,
       "top": null,
       "visibility": null,
       "width": null
      }
     },
     "2568a0ebc61742159990fd751a522446": {
      "model_module": "@jupyter-widgets/controls",
      "model_module_version": "1.5.0",
      "model_name": "FloatProgressModel",
      "state": {
       "_dom_classes": [],
       "_model_module": "@jupyter-widgets/controls",
       "_model_module_version": "1.5.0",
       "_model_name": "FloatProgressModel",
       "_view_count": null,
       "_view_module": "@jupyter-widgets/controls",
       "_view_module_version": "1.5.0",
       "_view_name": "ProgressView",
       "bar_style": "success",
       "description": "",
       "description_tooltip": null,
       "layout": "IPY_MODEL_3e9a2bfa35f24f99bead2cba9c60d78d",
       "max": 267844284.0,
       "min": 0.0,
       "orientation": "horizontal",
       "style": "IPY_MODEL_f1b1b511be9341ac9326a4c70b5f0fc7",
       "value": 267844284.0
      }
     },
     "27dd136601fc4ed2b0c2e3e901550949": {
      "model_module": "@jupyter-widgets/base",
      "model_module_version": "1.2.0",
      "model_name": "LayoutModel",
      "state": {
       "_model_module": "@jupyter-widgets/base",
       "_model_module_version": "1.2.0",
       "_model_name": "LayoutModel",
       "_view_count": null,
       "_view_module": "@jupyter-widgets/base",
       "_view_module_version": "1.2.0",
       "_view_name": "LayoutView",
       "align_content": null,
       "align_items": null,
       "align_self": null,
       "border": null,
       "bottom": null,
       "display": null,
       "flex": null,
       "flex_flow": null,
       "grid_area": null,
       "grid_auto_columns": null,
       "grid_auto_flow": null,
       "grid_auto_rows": null,
       "grid_column": null,
       "grid_gap": null,
       "grid_row": null,
       "grid_template_areas": null,
       "grid_template_columns": null,
       "grid_template_rows": null,
       "height": null,
       "justify_content": null,
       "justify_items": null,
       "left": null,
       "margin": null,
       "max_height": null,
       "max_width": null,
       "min_height": null,
       "min_width": null,
       "object_fit": null,
       "object_position": null,
       "order": null,
       "overflow": null,
       "overflow_x": null,
       "overflow_y": null,
       "padding": null,
       "right": null,
       "top": null,
       "visibility": null,
       "width": null
      }
     },
     "2cf432b004f34ecdab86fa87efa46d8e": {
      "model_module": "@jupyter-widgets/base",
      "model_module_version": "1.2.0",
      "model_name": "LayoutModel",
      "state": {
       "_model_module": "@jupyter-widgets/base",
       "_model_module_version": "1.2.0",
       "_model_name": "LayoutModel",
       "_view_count": null,
       "_view_module": "@jupyter-widgets/base",
       "_view_module_version": "1.2.0",
       "_view_name": "LayoutView",
       "align_content": null,
       "align_items": null,
       "align_self": null,
       "border": null,
       "bottom": null,
       "display": null,
       "flex": null,
       "flex_flow": null,
       "grid_area": null,
       "grid_auto_columns": null,
       "grid_auto_flow": null,
       "grid_auto_rows": null,
       "grid_column": null,
       "grid_gap": null,
       "grid_row": null,
       "grid_template_areas": null,
       "grid_template_columns": null,
       "grid_template_rows": null,
       "height": null,
       "justify_content": null,
       "justify_items": null,
       "left": null,
       "margin": null,
       "max_height": null,
       "max_width": null,
       "min_height": null,
       "min_width": null,
       "object_fit": null,
       "object_position": null,
       "order": null,
       "overflow": null,
       "overflow_x": null,
       "overflow_y": null,
       "padding": null,
       "right": null,
       "top": null,
       "visibility": null,
       "width": null
      }
     },
     "2e550c4bf9274376a01bb497c0d7aaab": {
      "model_module": "@jupyter-widgets/controls",
      "model_module_version": "1.5.0",
      "model_name": "ProgressStyleModel",
      "state": {
       "_model_module": "@jupyter-widgets/controls",
       "_model_module_version": "1.5.0",
       "_model_name": "ProgressStyleModel",
       "_view_count": null,
       "_view_module": "@jupyter-widgets/base",
       "_view_module_version": "1.2.0",
       "_view_name": "StyleView",
       "bar_color": null,
       "description_width": ""
      }
     },
     "326ed1d180b3481cb3a6fa6975f4f125": {
      "model_module": "@jupyter-widgets/base",
      "model_module_version": "1.2.0",
      "model_name": "LayoutModel",
      "state": {
       "_model_module": "@jupyter-widgets/base",
       "_model_module_version": "1.2.0",
       "_model_name": "LayoutModel",
       "_view_count": null,
       "_view_module": "@jupyter-widgets/base",
       "_view_module_version": "1.2.0",
       "_view_name": "LayoutView",
       "align_content": null,
       "align_items": null,
       "align_self": null,
       "border": null,
       "bottom": null,
       "display": null,
       "flex": null,
       "flex_flow": null,
       "grid_area": null,
       "grid_auto_columns": null,
       "grid_auto_flow": null,
       "grid_auto_rows": null,
       "grid_column": null,
       "grid_gap": null,
       "grid_row": null,
       "grid_template_areas": null,
       "grid_template_columns": null,
       "grid_template_rows": null,
       "height": null,
       "justify_content": null,
       "justify_items": null,
       "left": null,
       "margin": null,
       "max_height": null,
       "max_width": null,
       "min_height": null,
       "min_width": null,
       "object_fit": null,
       "object_position": null,
       "order": null,
       "overflow": null,
       "overflow_x": null,
       "overflow_y": null,
       "padding": null,
       "right": null,
       "top": null,
       "visibility": null,
       "width": null
      }
     },
     "34cd2a7cb815485ea26c5ed8e4f609f6": {
      "model_module": "@jupyter-widgets/base",
      "model_module_version": "1.2.0",
      "model_name": "LayoutModel",
      "state": {
       "_model_module": "@jupyter-widgets/base",
       "_model_module_version": "1.2.0",
       "_model_name": "LayoutModel",
       "_view_count": null,
       "_view_module": "@jupyter-widgets/base",
       "_view_module_version": "1.2.0",
       "_view_name": "LayoutView",
       "align_content": null,
       "align_items": null,
       "align_self": null,
       "border": null,
       "bottom": null,
       "display": null,
       "flex": null,
       "flex_flow": null,
       "grid_area": null,
       "grid_auto_columns": null,
       "grid_auto_flow": null,
       "grid_auto_rows": null,
       "grid_column": null,
       "grid_gap": null,
       "grid_row": null,
       "grid_template_areas": null,
       "grid_template_columns": null,
       "grid_template_rows": null,
       "height": null,
       "justify_content": null,
       "justify_items": null,
       "left": null,
       "margin": null,
       "max_height": null,
       "max_width": null,
       "min_height": null,
       "min_width": null,
       "object_fit": null,
       "object_position": null,
       "order": null,
       "overflow": null,
       "overflow_x": null,
       "overflow_y": null,
       "padding": null,
       "right": null,
       "top": null,
       "visibility": null,
       "width": null
      }
     },
     "3a68228091684259932059b69ae633c6": {
      "model_module": "@jupyter-widgets/base",
      "model_module_version": "1.2.0",
      "model_name": "LayoutModel",
      "state": {
       "_model_module": "@jupyter-widgets/base",
       "_model_module_version": "1.2.0",
       "_model_name": "LayoutModel",
       "_view_count": null,
       "_view_module": "@jupyter-widgets/base",
       "_view_module_version": "1.2.0",
       "_view_name": "LayoutView",
       "align_content": null,
       "align_items": null,
       "align_self": null,
       "border": null,
       "bottom": null,
       "display": null,
       "flex": null,
       "flex_flow": null,
       "grid_area": null,
       "grid_auto_columns": null,
       "grid_auto_flow": null,
       "grid_auto_rows": null,
       "grid_column": null,
       "grid_gap": null,
       "grid_row": null,
       "grid_template_areas": null,
       "grid_template_columns": null,
       "grid_template_rows": null,
       "height": null,
       "justify_content": null,
       "justify_items": null,
       "left": null,
       "margin": null,
       "max_height": null,
       "max_width": null,
       "min_height": null,
       "min_width": null,
       "object_fit": null,
       "object_position": null,
       "order": null,
       "overflow": null,
       "overflow_x": null,
       "overflow_y": null,
       "padding": null,
       "right": null,
       "top": null,
       "visibility": null,
       "width": null
      }
     },
     "3e9a2bfa35f24f99bead2cba9c60d78d": {
      "model_module": "@jupyter-widgets/base",
      "model_module_version": "1.2.0",
      "model_name": "LayoutModel",
      "state": {
       "_model_module": "@jupyter-widgets/base",
       "_model_module_version": "1.2.0",
       "_model_name": "LayoutModel",
       "_view_count": null,
       "_view_module": "@jupyter-widgets/base",
       "_view_module_version": "1.2.0",
       "_view_name": "LayoutView",
       "align_content": null,
       "align_items": null,
       "align_self": null,
       "border": null,
       "bottom": null,
       "display": null,
       "flex": null,
       "flex_flow": null,
       "grid_area": null,
       "grid_auto_columns": null,
       "grid_auto_flow": null,
       "grid_auto_rows": null,
       "grid_column": null,
       "grid_gap": null,
       "grid_row": null,
       "grid_template_areas": null,
       "grid_template_columns": null,
       "grid_template_rows": null,
       "height": null,
       "justify_content": null,
       "justify_items": null,
       "left": null,
       "margin": null,
       "max_height": null,
       "max_width": null,
       "min_height": null,
       "min_width": null,
       "object_fit": null,
       "object_position": null,
       "order": null,
       "overflow": null,
       "overflow_x": null,
       "overflow_y": null,
       "padding": null,
       "right": null,
       "top": null,
       "visibility": null,
       "width": null
      }
     },
     "4025ff5a45fe45b5951204a085998f67": {
      "model_module": "@jupyter-widgets/controls",
      "model_module_version": "1.5.0",
      "model_name": "HTMLModel",
      "state": {
       "_dom_classes": [],
       "_model_module": "@jupyter-widgets/controls",
       "_model_module_version": "1.5.0",
       "_model_name": "HTMLModel",
       "_view_count": null,
       "_view_module": "@jupyter-widgets/controls",
       "_view_module_version": "1.5.0",
       "_view_name": "HTMLView",
       "description": "",
       "description_tooltip": null,
       "layout": "IPY_MODEL_09de74eb1cc84be2b41b3f7cb9b12a00",
       "placeholder": "​",
       "style": "IPY_MODEL_8f76fce383da49a68d7818f1b66b921b",
       "value": "Downloading: 100%"
      }
     },
     "41f5b0b695bd4e2abd1c300b0905f325": {
      "model_module": "@jupyter-widgets/controls",
      "model_module_version": "1.5.0",
      "model_name": "DescriptionStyleModel",
      "state": {
       "_model_module": "@jupyter-widgets/controls",
       "_model_module_version": "1.5.0",
       "_model_name": "DescriptionStyleModel",
       "_view_count": null,
       "_view_module": "@jupyter-widgets/base",
       "_view_module_version": "1.2.0",
       "_view_name": "StyleView",
       "description_width": ""
      }
     },
     "43bb8053b9404ffc8486fdfd2ef7f82b": {
      "model_module": "@jupyter-widgets/controls",
      "model_module_version": "1.5.0",
      "model_name": "DescriptionStyleModel",
      "state": {
       "_model_module": "@jupyter-widgets/controls",
       "_model_module_version": "1.5.0",
       "_model_name": "DescriptionStyleModel",
       "_view_count": null,
       "_view_module": "@jupyter-widgets/base",
       "_view_module_version": "1.2.0",
       "_view_name": "StyleView",
       "description_width": ""
      }
     },
     "4ad67c19121e4d91b2083216515cba36": {
      "model_module": "@jupyter-widgets/base",
      "model_module_version": "1.2.0",
      "model_name": "LayoutModel",
      "state": {
       "_model_module": "@jupyter-widgets/base",
       "_model_module_version": "1.2.0",
       "_model_name": "LayoutModel",
       "_view_count": null,
       "_view_module": "@jupyter-widgets/base",
       "_view_module_version": "1.2.0",
       "_view_name": "LayoutView",
       "align_content": null,
       "align_items": null,
       "align_self": null,
       "border": null,
       "bottom": null,
       "display": null,
       "flex": null,
       "flex_flow": null,
       "grid_area": null,
       "grid_auto_columns": null,
       "grid_auto_flow": null,
       "grid_auto_rows": null,
       "grid_column": null,
       "grid_gap": null,
       "grid_row": null,
       "grid_template_areas": null,
       "grid_template_columns": null,
       "grid_template_rows": null,
       "height": null,
       "justify_content": null,
       "justify_items": null,
       "left": null,
       "margin": null,
       "max_height": null,
       "max_width": null,
       "min_height": null,
       "min_width": null,
       "object_fit": null,
       "object_position": null,
       "order": null,
       "overflow": null,
       "overflow_x": null,
       "overflow_y": null,
       "padding": null,
       "right": null,
       "top": null,
       "visibility": null,
       "width": null
      }
     },
     "62f44fa88739458f89fbdd6532d87c47": {
      "model_module": "@jupyter-widgets/controls",
      "model_module_version": "1.5.0",
      "model_name": "HBoxModel",
      "state": {
       "_dom_classes": [],
       "_model_module": "@jupyter-widgets/controls",
       "_model_module_version": "1.5.0",
       "_model_name": "HBoxModel",
       "_view_count": null,
       "_view_module": "@jupyter-widgets/controls",
       "_view_module_version": "1.5.0",
       "_view_name": "HBoxView",
       "box_style": "",
       "children": [
        "IPY_MODEL_ea9d2d417d644ec6bc4e14b5e494f40c",
        "IPY_MODEL_2568a0ebc61742159990fd751a522446",
        "IPY_MODEL_f6f71bcf0f514b9ab8a0a973651e3316"
       ],
       "layout": "IPY_MODEL_a0c70365422943bd8ab85507561cd117"
      }
     },
     "65213643525943e498c6f0ed5a011edd": {
      "model_module": "@jupyter-widgets/controls",
      "model_module_version": "1.5.0",
      "model_name": "FloatProgressModel",
      "state": {
       "_dom_classes": [],
       "_model_module": "@jupyter-widgets/controls",
       "_model_module_version": "1.5.0",
       "_model_name": "FloatProgressModel",
       "_view_count": null,
       "_view_module": "@jupyter-widgets/controls",
       "_view_module_version": "1.5.0",
       "_view_name": "ProgressView",
       "bar_style": "success",
       "description": "",
       "description_tooltip": null,
       "layout": "IPY_MODEL_2cf432b004f34ecdab86fa87efa46d8e",
       "max": 48.0,
       "min": 0.0,
       "orientation": "horizontal",
       "style": "IPY_MODEL_6592a3327b014d33a6d3c009f07011f8",
       "value": 48.0
      }
     },
     "6592a3327b014d33a6d3c009f07011f8": {
      "model_module": "@jupyter-widgets/controls",
      "model_module_version": "1.5.0",
      "model_name": "ProgressStyleModel",
      "state": {
       "_model_module": "@jupyter-widgets/controls",
       "_model_module_version": "1.5.0",
       "_model_name": "ProgressStyleModel",
       "_view_count": null,
       "_view_module": "@jupyter-widgets/base",
       "_view_module_version": "1.2.0",
       "_view_name": "StyleView",
       "bar_color": null,
       "description_width": ""
      }
     },
     "6912b263f9a049729e1c3276e183bf4d": {
      "model_module": "@jupyter-widgets/controls",
      "model_module_version": "1.5.0",
      "model_name": "HTMLModel",
      "state": {
       "_dom_classes": [],
       "_model_module": "@jupyter-widgets/controls",
       "_model_module_version": "1.5.0",
       "_model_name": "HTMLModel",
       "_view_count": null,
       "_view_module": "@jupyter-widgets/controls",
       "_view_module_version": "1.5.0",
       "_view_name": "HTMLView",
       "description": "",
       "description_tooltip": null,
       "layout": "IPY_MODEL_c1a6bce75afa4e878c5bef63bb968e30",
       "placeholder": "​",
       "style": "IPY_MODEL_8e481d76bb8c45cab2340a8dabed1d09",
       "value": "Downloading: 100%"
      }
     },
     "76a9aa82fefe4475b1bef3320fbe71cf": {
      "model_module": "@jupyter-widgets/controls",
      "model_module_version": "1.5.0",
      "model_name": "HBoxModel",
      "state": {
       "_dom_classes": [],
       "_model_module": "@jupyter-widgets/controls",
       "_model_module_version": "1.5.0",
       "_model_name": "HBoxModel",
       "_view_count": null,
       "_view_module": "@jupyter-widgets/controls",
       "_view_module_version": "1.5.0",
       "_view_name": "HBoxView",
       "box_style": "",
       "children": [
        "IPY_MODEL_6912b263f9a049729e1c3276e183bf4d",
        "IPY_MODEL_a25dae4bae414d49b1a35be4a981f476",
        "IPY_MODEL_bf5fdd2ec6714a5183962976407ce79c"
       ],
       "layout": "IPY_MODEL_ee9df2d0d23045b69f53283d85eec147"
      }
     },
     "786e46172d61461ab17d57563ef725ab": {
      "model_module": "@jupyter-widgets/controls",
      "model_module_version": "1.5.0",
      "model_name": "HTMLModel",
      "state": {
       "_dom_classes": [],
       "_model_module": "@jupyter-widgets/controls",
       "_model_module_version": "1.5.0",
       "_model_name": "HTMLModel",
       "_view_count": null,
       "_view_module": "@jupyter-widgets/controls",
       "_view_module_version": "1.5.0",
       "_view_name": "HTMLView",
       "description": "",
       "description_tooltip": null,
       "layout": "IPY_MODEL_ef0e940de5a14542a35a85bfea10cb05",
       "placeholder": "​",
       "style": "IPY_MODEL_85c9bacc11aa4d7c8db7e6d3f6dd0b9f",
       "value": "Downloading: 100%"
      }
     },
     "82a17703f6314df1827b9fa9f82474eb": {
      "model_module": "@jupyter-widgets/controls",
      "model_module_version": "1.5.0",
      "model_name": "HBoxModel",
      "state": {
       "_dom_classes": [],
       "_model_module": "@jupyter-widgets/controls",
       "_model_module_version": "1.5.0",
       "_model_name": "HBoxModel",
       "_view_count": null,
       "_view_module": "@jupyter-widgets/controls",
       "_view_module_version": "1.5.0",
       "_view_name": "HBoxView",
       "box_style": "",
       "children": [
        "IPY_MODEL_786e46172d61461ab17d57563ef725ab",
        "IPY_MODEL_03b2442670b94a1dac0b1e0a0a66f3ba",
        "IPY_MODEL_10a4211cede4479fb504f984a300ef61"
       ],
       "layout": "IPY_MODEL_144c49fae9ee4b88bf87d9e5dd9ca8e7"
      }
     },
     "85c9bacc11aa4d7c8db7e6d3f6dd0b9f": {
      "model_module": "@jupyter-widgets/controls",
      "model_module_version": "1.5.0",
      "model_name": "DescriptionStyleModel",
      "state": {
       "_model_module": "@jupyter-widgets/controls",
       "_model_module_version": "1.5.0",
       "_model_name": "DescriptionStyleModel",
       "_view_count": null,
       "_view_module": "@jupyter-widgets/base",
       "_view_module_version": "1.2.0",
       "_view_name": "StyleView",
       "description_width": ""
      }
     },
     "8c7911633abf4bbfa76645730d2eff78": {
      "model_module": "@jupyter-widgets/base",
      "model_module_version": "1.2.0",
      "model_name": "LayoutModel",
      "state": {
       "_model_module": "@jupyter-widgets/base",
       "_model_module_version": "1.2.0",
       "_model_name": "LayoutModel",
       "_view_count": null,
       "_view_module": "@jupyter-widgets/base",
       "_view_module_version": "1.2.0",
       "_view_name": "LayoutView",
       "align_content": null,
       "align_items": null,
       "align_self": null,
       "border": null,
       "bottom": null,
       "display": null,
       "flex": null,
       "flex_flow": null,
       "grid_area": null,
       "grid_auto_columns": null,
       "grid_auto_flow": null,
       "grid_auto_rows": null,
       "grid_column": null,
       "grid_gap": null,
       "grid_row": null,
       "grid_template_areas": null,
       "grid_template_columns": null,
       "grid_template_rows": null,
       "height": null,
       "justify_content": null,
       "justify_items": null,
       "left": null,
       "margin": null,
       "max_height": null,
       "max_width": null,
       "min_height": null,
       "min_width": null,
       "object_fit": null,
       "object_position": null,
       "order": null,
       "overflow": null,
       "overflow_x": null,
       "overflow_y": null,
       "padding": null,
       "right": null,
       "top": null,
       "visibility": null,
       "width": null
      }
     },
     "8cacfe35f65f4d5696847c90b859b41d": {
      "model_module": "@jupyter-widgets/base",
      "model_module_version": "1.2.0",
      "model_name": "LayoutModel",
      "state": {
       "_model_module": "@jupyter-widgets/base",
       "_model_module_version": "1.2.0",
       "_model_name": "LayoutModel",
       "_view_count": null,
       "_view_module": "@jupyter-widgets/base",
       "_view_module_version": "1.2.0",
       "_view_name": "LayoutView",
       "align_content": null,
       "align_items": null,
       "align_self": null,
       "border": null,
       "bottom": null,
       "display": null,
       "flex": null,
       "flex_flow": null,
       "grid_area": null,
       "grid_auto_columns": null,
       "grid_auto_flow": null,
       "grid_auto_rows": null,
       "grid_column": null,
       "grid_gap": null,
       "grid_row": null,
       "grid_template_areas": null,
       "grid_template_columns": null,
       "grid_template_rows": null,
       "height": null,
       "justify_content": null,
       "justify_items": null,
       "left": null,
       "margin": null,
       "max_height": null,
       "max_width": null,
       "min_height": null,
       "min_width": null,
       "object_fit": null,
       "object_position": null,
       "order": null,
       "overflow": null,
       "overflow_x": null,
       "overflow_y": null,
       "padding": null,
       "right": null,
       "top": null,
       "visibility": null,
       "width": null
      }
     },
     "8df3ff153d7041f2a0414ee36f0950e1": {
      "model_module": "@jupyter-widgets/controls",
      "model_module_version": "1.5.0",
      "model_name": "FloatProgressModel",
      "state": {
       "_dom_classes": [],
       "_model_module": "@jupyter-widgets/controls",
       "_model_module_version": "1.5.0",
       "_model_name": "FloatProgressModel",
       "_view_count": null,
       "_view_module": "@jupyter-widgets/controls",
       "_view_module_version": "1.5.0",
       "_view_name": "ProgressView",
       "bar_style": "success",
       "description": "",
       "description_tooltip": null,
       "layout": "IPY_MODEL_94e5372d8725481ba22c8172b427369e",
       "max": 267949840.0,
       "min": 0.0,
       "orientation": "horizontal",
       "style": "IPY_MODEL_01bc5d97f92049898a5a6a4ebd0274d7",
       "value": 267949840.0
      }
     },
     "8e481d76bb8c45cab2340a8dabed1d09": {
      "model_module": "@jupyter-widgets/controls",
      "model_module_version": "1.5.0",
      "model_name": "DescriptionStyleModel",
      "state": {
       "_model_module": "@jupyter-widgets/controls",
       "_model_module_version": "1.5.0",
       "_model_name": "DescriptionStyleModel",
       "_view_count": null,
       "_view_module": "@jupyter-widgets/base",
       "_view_module_version": "1.2.0",
       "_view_name": "StyleView",
       "description_width": ""
      }
     },
     "8f3108aea03d4d2494af63695b2b9a2e": {
      "model_module": "@jupyter-widgets/controls",
      "model_module_version": "1.5.0",
      "model_name": "HBoxModel",
      "state": {
       "_dom_classes": [],
       "_model_module": "@jupyter-widgets/controls",
       "_model_module_version": "1.5.0",
       "_model_name": "HBoxModel",
       "_view_count": null,
       "_view_module": "@jupyter-widgets/controls",
       "_view_module_version": "1.5.0",
       "_view_name": "HBoxView",
       "box_style": "",
       "children": [
        "IPY_MODEL_4025ff5a45fe45b5951204a085998f67",
        "IPY_MODEL_8df3ff153d7041f2a0414ee36f0950e1",
        "IPY_MODEL_c5ec4b9450204ad8b4d01313522defd1"
       ],
       "layout": "IPY_MODEL_8c7911633abf4bbfa76645730d2eff78"
      }
     },
     "8f76fce383da49a68d7818f1b66b921b": {
      "model_module": "@jupyter-widgets/controls",
      "model_module_version": "1.5.0",
      "model_name": "DescriptionStyleModel",
      "state": {
       "_model_module": "@jupyter-widgets/controls",
       "_model_module_version": "1.5.0",
       "_model_name": "DescriptionStyleModel",
       "_view_count": null,
       "_view_module": "@jupyter-widgets/base",
       "_view_module_version": "1.2.0",
       "_view_name": "StyleView",
       "description_width": ""
      }
     },
     "94e5372d8725481ba22c8172b427369e": {
      "model_module": "@jupyter-widgets/base",
      "model_module_version": "1.2.0",
      "model_name": "LayoutModel",
      "state": {
       "_model_module": "@jupyter-widgets/base",
       "_model_module_version": "1.2.0",
       "_model_name": "LayoutModel",
       "_view_count": null,
       "_view_module": "@jupyter-widgets/base",
       "_view_module_version": "1.2.0",
       "_view_name": "LayoutView",
       "align_content": null,
       "align_items": null,
       "align_self": null,
       "border": null,
       "bottom": null,
       "display": null,
       "flex": null,
       "flex_flow": null,
       "grid_area": null,
       "grid_auto_columns": null,
       "grid_auto_flow": null,
       "grid_auto_rows": null,
       "grid_column": null,
       "grid_gap": null,
       "grid_row": null,
       "grid_template_areas": null,
       "grid_template_columns": null,
       "grid_template_rows": null,
       "height": null,
       "justify_content": null,
       "justify_items": null,
       "left": null,
       "margin": null,
       "max_height": null,
       "max_width": null,
       "min_height": null,
       "min_width": null,
       "object_fit": null,
       "object_position": null,
       "order": null,
       "overflow": null,
       "overflow_x": null,
       "overflow_y": null,
       "padding": null,
       "right": null,
       "top": null,
       "visibility": null,
       "width": null
      }
     },
     "a0c70365422943bd8ab85507561cd117": {
      "model_module": "@jupyter-widgets/base",
      "model_module_version": "1.2.0",
      "model_name": "LayoutModel",
      "state": {
       "_model_module": "@jupyter-widgets/base",
       "_model_module_version": "1.2.0",
       "_model_name": "LayoutModel",
       "_view_count": null,
       "_view_module": "@jupyter-widgets/base",
       "_view_module_version": "1.2.0",
       "_view_name": "LayoutView",
       "align_content": null,
       "align_items": null,
       "align_self": null,
       "border": null,
       "bottom": null,
       "display": null,
       "flex": null,
       "flex_flow": null,
       "grid_area": null,
       "grid_auto_columns": null,
       "grid_auto_flow": null,
       "grid_auto_rows": null,
       "grid_column": null,
       "grid_gap": null,
       "grid_row": null,
       "grid_template_areas": null,
       "grid_template_columns": null,
       "grid_template_rows": null,
       "height": null,
       "justify_content": null,
       "justify_items": null,
       "left": null,
       "margin": null,
       "max_height": null,
       "max_width": null,
       "min_height": null,
       "min_width": null,
       "object_fit": null,
       "object_position": null,
       "order": null,
       "overflow": null,
       "overflow_x": null,
       "overflow_y": null,
       "padding": null,
       "right": null,
       "top": null,
       "visibility": null,
       "width": null
      }
     },
     "a25dae4bae414d49b1a35be4a981f476": {
      "model_module": "@jupyter-widgets/controls",
      "model_module_version": "1.5.0",
      "model_name": "FloatProgressModel",
      "state": {
       "_dom_classes": [],
       "_model_module": "@jupyter-widgets/controls",
       "_model_module_version": "1.5.0",
       "_model_name": "FloatProgressModel",
       "_view_count": null,
       "_view_module": "@jupyter-widgets/controls",
       "_view_module_version": "1.5.0",
       "_view_name": "ProgressView",
       "bar_style": "success",
       "description": "",
       "description_tooltip": null,
       "layout": "IPY_MODEL_8cacfe35f65f4d5696847c90b859b41d",
       "max": 629.0,
       "min": 0.0,
       "orientation": "horizontal",
       "style": "IPY_MODEL_2e550c4bf9274376a01bb497c0d7aaab",
       "value": 629.0
      }
     },
     "acf70ce0b60f4c6cbf784034d5bfd1b5": {
      "model_module": "@jupyter-widgets/controls",
      "model_module_version": "1.5.0",
      "model_name": "HTMLModel",
      "state": {
       "_dom_classes": [],
       "_model_module": "@jupyter-widgets/controls",
       "_model_module_version": "1.5.0",
       "_model_name": "HTMLModel",
       "_view_count": null,
       "_view_module": "@jupyter-widgets/controls",
       "_view_module_version": "1.5.0",
       "_view_name": "HTMLView",
       "description": "",
       "description_tooltip": null,
       "layout": "IPY_MODEL_22a84cc960134b3ba76c5cd547d89338",
       "placeholder": "​",
       "style": "IPY_MODEL_fabf2e73122f483f83bb7e3cb6e2c0f0",
       "value": "Downloading: 100%"
      }
     },
     "b594b3b1ae3c4cbca8abc16035345b95": {
      "model_module": "@jupyter-widgets/base",
      "model_module_version": "1.2.0",
      "model_name": "LayoutModel",
      "state": {
       "_model_module": "@jupyter-widgets/base",
       "_model_module_version": "1.2.0",
       "_model_name": "LayoutModel",
       "_view_count": null,
       "_view_module": "@jupyter-widgets/base",
       "_view_module_version": "1.2.0",
       "_view_name": "LayoutView",
       "align_content": null,
       "align_items": null,
       "align_self": null,
       "border": null,
       "bottom": null,
       "display": null,
       "flex": null,
       "flex_flow": null,
       "grid_area": null,
       "grid_auto_columns": null,
       "grid_auto_flow": null,
       "grid_auto_rows": null,
       "grid_column": null,
       "grid_gap": null,
       "grid_row": null,
       "grid_template_areas": null,
       "grid_template_columns": null,
       "grid_template_rows": null,
       "height": null,
       "justify_content": null,
       "justify_items": null,
       "left": null,
       "margin": null,
       "max_height": null,
       "max_width": null,
       "min_height": null,
       "min_width": null,
       "object_fit": null,
       "object_position": null,
       "order": null,
       "overflow": null,
       "overflow_x": null,
       "overflow_y": null,
       "padding": null,
       "right": null,
       "top": null,
       "visibility": null,
       "width": null
      }
     },
     "b941584511c9461f9799e6808eb1eb50": {
      "model_module": "@jupyter-widgets/base",
      "model_module_version": "1.2.0",
      "model_name": "LayoutModel",
      "state": {
       "_model_module": "@jupyter-widgets/base",
       "_model_module_version": "1.2.0",
       "_model_name": "LayoutModel",
       "_view_count": null,
       "_view_module": "@jupyter-widgets/base",
       "_view_module_version": "1.2.0",
       "_view_name": "LayoutView",
       "align_content": null,
       "align_items": null,
       "align_self": null,
       "border": null,
       "bottom": null,
       "display": null,
       "flex": null,
       "flex_flow": null,
       "grid_area": null,
       "grid_auto_columns": null,
       "grid_auto_flow": null,
       "grid_auto_rows": null,
       "grid_column": null,
       "grid_gap": null,
       "grid_row": null,
       "grid_template_areas": null,
       "grid_template_columns": null,
       "grid_template_rows": null,
       "height": null,
       "justify_content": null,
       "justify_items": null,
       "left": null,
       "margin": null,
       "max_height": null,
       "max_width": null,
       "min_height": null,
       "min_width": null,
       "object_fit": null,
       "object_position": null,
       "order": null,
       "overflow": null,
       "overflow_x": null,
       "overflow_y": null,
       "padding": null,
       "right": null,
       "top": null,
       "visibility": null,
       "width": null
      }
     },
     "bf5fdd2ec6714a5183962976407ce79c": {
      "model_module": "@jupyter-widgets/controls",
      "model_module_version": "1.5.0",
      "model_name": "HTMLModel",
      "state": {
       "_dom_classes": [],
       "_model_module": "@jupyter-widgets/controls",
       "_model_module_version": "1.5.0",
       "_model_name": "HTMLModel",
       "_view_count": null,
       "_view_module": "@jupyter-widgets/controls",
       "_view_module_version": "1.5.0",
       "_view_name": "HTMLView",
       "description": "",
       "description_tooltip": null,
       "layout": "IPY_MODEL_3a68228091684259932059b69ae633c6",
       "placeholder": "​",
       "style": "IPY_MODEL_41f5b0b695bd4e2abd1c300b0905f325",
       "value": " 629/629 [00:00&lt;00:00, 19.3kB/s]"
      }
     },
     "c1a6bce75afa4e878c5bef63bb968e30": {
      "model_module": "@jupyter-widgets/base",
      "model_module_version": "1.2.0",
      "model_name": "LayoutModel",
      "state": {
       "_model_module": "@jupyter-widgets/base",
       "_model_module_version": "1.2.0",
       "_model_name": "LayoutModel",
       "_view_count": null,
       "_view_module": "@jupyter-widgets/base",
       "_view_module_version": "1.2.0",
       "_view_name": "LayoutView",
       "align_content": null,
       "align_items": null,
       "align_self": null,
       "border": null,
       "bottom": null,
       "display": null,
       "flex": null,
       "flex_flow": null,
       "grid_area": null,
       "grid_auto_columns": null,
       "grid_auto_flow": null,
       "grid_auto_rows": null,
       "grid_column": null,
       "grid_gap": null,
       "grid_row": null,
       "grid_template_areas": null,
       "grid_template_columns": null,
       "grid_template_rows": null,
       "height": null,
       "justify_content": null,
       "justify_items": null,
       "left": null,
       "margin": null,
       "max_height": null,
       "max_width": null,
       "min_height": null,
       "min_width": null,
       "object_fit": null,
       "object_position": null,
       "order": null,
       "overflow": null,
       "overflow_x": null,
       "overflow_y": null,
       "padding": null,
       "right": null,
       "top": null,
       "visibility": null,
       "width": null
      }
     },
     "c58d5266cd444fef866b0bc78014e36c": {
      "model_module": "@jupyter-widgets/controls",
      "model_module_version": "1.5.0",
      "model_name": "DescriptionStyleModel",
      "state": {
       "_model_module": "@jupyter-widgets/controls",
       "_model_module_version": "1.5.0",
       "_model_name": "DescriptionStyleModel",
       "_view_count": null,
       "_view_module": "@jupyter-widgets/base",
       "_view_module_version": "1.2.0",
       "_view_name": "StyleView",
       "description_width": ""
      }
     },
     "c5ec4b9450204ad8b4d01313522defd1": {
      "model_module": "@jupyter-widgets/controls",
      "model_module_version": "1.5.0",
      "model_name": "HTMLModel",
      "state": {
       "_dom_classes": [],
       "_model_module": "@jupyter-widgets/controls",
       "_model_module_version": "1.5.0",
       "_model_name": "HTMLModel",
       "_view_count": null,
       "_view_module": "@jupyter-widgets/controls",
       "_view_module_version": "1.5.0",
       "_view_name": "HTMLView",
       "description": "",
       "description_tooltip": null,
       "layout": "IPY_MODEL_27dd136601fc4ed2b0c2e3e901550949",
       "placeholder": "​",
       "style": "IPY_MODEL_cb12d28342934d0a9c1bcc90306074c1",
       "value": " 268M/268M [00:07&lt;00:00, 38.7MB/s]"
      }
     },
     "c8de2806ca214897b101f874b0704057": {
      "model_module": "@jupyter-widgets/controls",
      "model_module_version": "1.5.0",
      "model_name": "DescriptionStyleModel",
      "state": {
       "_model_module": "@jupyter-widgets/controls",
       "_model_module_version": "1.5.0",
       "_model_name": "DescriptionStyleModel",
       "_view_count": null,
       "_view_module": "@jupyter-widgets/base",
       "_view_module_version": "1.2.0",
       "_view_name": "StyleView",
       "description_width": ""
      }
     },
     "cb12d28342934d0a9c1bcc90306074c1": {
      "model_module": "@jupyter-widgets/controls",
      "model_module_version": "1.5.0",
      "model_name": "DescriptionStyleModel",
      "state": {
       "_model_module": "@jupyter-widgets/controls",
       "_model_module_version": "1.5.0",
       "_model_name": "DescriptionStyleModel",
       "_view_count": null,
       "_view_module": "@jupyter-widgets/base",
       "_view_module_version": "1.2.0",
       "_view_name": "StyleView",
       "description_width": ""
      }
     },
     "db8b6664912e48a2aa6fb8bd6299b0ba": {
      "model_module": "@jupyter-widgets/controls",
      "model_module_version": "1.5.0",
      "model_name": "HTMLModel",
      "state": {
       "_dom_classes": [],
       "_model_module": "@jupyter-widgets/controls",
       "_model_module_version": "1.5.0",
       "_model_name": "HTMLModel",
       "_view_count": null,
       "_view_module": "@jupyter-widgets/controls",
       "_view_module_version": "1.5.0",
       "_view_name": "HTMLView",
       "description": "",
       "description_tooltip": null,
       "layout": "IPY_MODEL_dc1a9c555ac94034b4d743eca85682e8",
       "placeholder": "​",
       "style": "IPY_MODEL_43bb8053b9404ffc8486fdfd2ef7f82b",
       "value": " 48.0/48.0 [00:00&lt;00:00, 1.46kB/s]"
      }
     },
     "dc1a9c555ac94034b4d743eca85682e8": {
      "model_module": "@jupyter-widgets/base",
      "model_module_version": "1.2.0",
      "model_name": "LayoutModel",
      "state": {
       "_model_module": "@jupyter-widgets/base",
       "_model_module_version": "1.2.0",
       "_model_name": "LayoutModel",
       "_view_count": null,
       "_view_module": "@jupyter-widgets/base",
       "_view_module_version": "1.2.0",
       "_view_name": "LayoutView",
       "align_content": null,
       "align_items": null,
       "align_self": null,
       "border": null,
       "bottom": null,
       "display": null,
       "flex": null,
       "flex_flow": null,
       "grid_area": null,
       "grid_auto_columns": null,
       "grid_auto_flow": null,
       "grid_auto_rows": null,
       "grid_column": null,
       "grid_gap": null,
       "grid_row": null,
       "grid_template_areas": null,
       "grid_template_columns": null,
       "grid_template_rows": null,
       "height": null,
       "justify_content": null,
       "justify_items": null,
       "left": null,
       "margin": null,
       "max_height": null,
       "max_width": null,
       "min_height": null,
       "min_width": null,
       "object_fit": null,
       "object_position": null,
       "order": null,
       "overflow": null,
       "overflow_x": null,
       "overflow_y": null,
       "padding": null,
       "right": null,
       "top": null,
       "visibility": null,
       "width": null
      }
     },
     "dfc2813e7f5a45a381284a07b0d6c336": {
      "model_module": "@jupyter-widgets/controls",
      "model_module_version": "1.5.0",
      "model_name": "ProgressStyleModel",
      "state": {
       "_model_module": "@jupyter-widgets/controls",
       "_model_module_version": "1.5.0",
       "_model_name": "ProgressStyleModel",
       "_view_count": null,
       "_view_module": "@jupyter-widgets/base",
       "_view_module_version": "1.2.0",
       "_view_name": "StyleView",
       "bar_color": null,
       "description_width": ""
      }
     },
     "ea9d2d417d644ec6bc4e14b5e494f40c": {
      "model_module": "@jupyter-widgets/controls",
      "model_module_version": "1.5.0",
      "model_name": "HTMLModel",
      "state": {
       "_dom_classes": [],
       "_model_module": "@jupyter-widgets/controls",
       "_model_module_version": "1.5.0",
       "_model_name": "HTMLModel",
       "_view_count": null,
       "_view_module": "@jupyter-widgets/controls",
       "_view_module_version": "1.5.0",
       "_view_name": "HTMLView",
       "description": "",
       "description_tooltip": null,
       "layout": "IPY_MODEL_b594b3b1ae3c4cbca8abc16035345b95",
       "placeholder": "​",
       "style": "IPY_MODEL_c58d5266cd444fef866b0bc78014e36c",
       "value": "Downloading: 100%"
      }
     },
     "ee9df2d0d23045b69f53283d85eec147": {
      "model_module": "@jupyter-widgets/base",
      "model_module_version": "1.2.0",
      "model_name": "LayoutModel",
      "state": {
       "_model_module": "@jupyter-widgets/base",
       "_model_module_version": "1.2.0",
       "_model_name": "LayoutModel",
       "_view_count": null,
       "_view_module": "@jupyter-widgets/base",
       "_view_module_version": "1.2.0",
       "_view_name": "LayoutView",
       "align_content": null,
       "align_items": null,
       "align_self": null,
       "border": null,
       "bottom": null,
       "display": null,
       "flex": null,
       "flex_flow": null,
       "grid_area": null,
       "grid_auto_columns": null,
       "grid_auto_flow": null,
       "grid_auto_rows": null,
       "grid_column": null,
       "grid_gap": null,
       "grid_row": null,
       "grid_template_areas": null,
       "grid_template_columns": null,
       "grid_template_rows": null,
       "height": null,
       "justify_content": null,
       "justify_items": null,
       "left": null,
       "margin": null,
       "max_height": null,
       "max_width": null,
       "min_height": null,
       "min_width": null,
       "object_fit": null,
       "object_position": null,
       "order": null,
       "overflow": null,
       "overflow_x": null,
       "overflow_y": null,
       "padding": null,
       "right": null,
       "top": null,
       "visibility": null,
       "width": null
      }
     },
     "ef0e940de5a14542a35a85bfea10cb05": {
      "model_module": "@jupyter-widgets/base",
      "model_module_version": "1.2.0",
      "model_name": "LayoutModel",
      "state": {
       "_model_module": "@jupyter-widgets/base",
       "_model_module_version": "1.2.0",
       "_model_name": "LayoutModel",
       "_view_count": null,
       "_view_module": "@jupyter-widgets/base",
       "_view_module_version": "1.2.0",
       "_view_name": "LayoutView",
       "align_content": null,
       "align_items": null,
       "align_self": null,
       "border": null,
       "bottom": null,
       "display": null,
       "flex": null,
       "flex_flow": null,
       "grid_area": null,
       "grid_auto_columns": null,
       "grid_auto_flow": null,
       "grid_auto_rows": null,
       "grid_column": null,
       "grid_gap": null,
       "grid_row": null,
       "grid_template_areas": null,
       "grid_template_columns": null,
       "grid_template_rows": null,
       "height": null,
       "justify_content": null,
       "justify_items": null,
       "left": null,
       "margin": null,
       "max_height": null,
       "max_width": null,
       "min_height": null,
       "min_width": null,
       "object_fit": null,
       "object_position": null,
       "order": null,
       "overflow": null,
       "overflow_x": null,
       "overflow_y": null,
       "padding": null,
       "right": null,
       "top": null,
       "visibility": null,
       "width": null
      }
     },
     "f1b1b511be9341ac9326a4c70b5f0fc7": {
      "model_module": "@jupyter-widgets/controls",
      "model_module_version": "1.5.0",
      "model_name": "ProgressStyleModel",
      "state": {
       "_model_module": "@jupyter-widgets/controls",
       "_model_module_version": "1.5.0",
       "_model_name": "ProgressStyleModel",
       "_view_count": null,
       "_view_module": "@jupyter-widgets/base",
       "_view_module_version": "1.2.0",
       "_view_name": "StyleView",
       "bar_color": null,
       "description_width": ""
      }
     },
     "f2946df6b20f41398c6dca1178180343": {
      "model_module": "@jupyter-widgets/controls",
      "model_module_version": "1.5.0",
      "model_name": "HBoxModel",
      "state": {
       "_dom_classes": [],
       "_model_module": "@jupyter-widgets/controls",
       "_model_module_version": "1.5.0",
       "_model_name": "HBoxModel",
       "_view_count": null,
       "_view_module": "@jupyter-widgets/controls",
       "_view_module_version": "1.5.0",
       "_view_name": "HBoxView",
       "box_style": "",
       "children": [
        "IPY_MODEL_acf70ce0b60f4c6cbf784034d5bfd1b5",
        "IPY_MODEL_65213643525943e498c6f0ed5a011edd",
        "IPY_MODEL_db8b6664912e48a2aa6fb8bd6299b0ba"
       ],
       "layout": "IPY_MODEL_4ad67c19121e4d91b2083216515cba36"
      }
     },
     "f6f71bcf0f514b9ab8a0a973651e3316": {
      "model_module": "@jupyter-widgets/controls",
      "model_module_version": "1.5.0",
      "model_name": "HTMLModel",
      "state": {
       "_dom_classes": [],
       "_model_module": "@jupyter-widgets/controls",
       "_model_module_version": "1.5.0",
       "_model_name": "HTMLModel",
       "_view_count": null,
       "_view_module": "@jupyter-widgets/controls",
       "_view_module_version": "1.5.0",
       "_view_name": "HTMLView",
       "description": "",
       "description_tooltip": null,
       "layout": "IPY_MODEL_326ed1d180b3481cb3a6fa6975f4f125",
       "placeholder": "​",
       "style": "IPY_MODEL_c8de2806ca214897b101f874b0704057",
       "value": " 268M/268M [00:07&lt;00:00, 31.7MB/s]"
      }
     },
     "fabf2e73122f483f83bb7e3cb6e2c0f0": {
      "model_module": "@jupyter-widgets/controls",
      "model_module_version": "1.5.0",
      "model_name": "DescriptionStyleModel",
      "state": {
       "_model_module": "@jupyter-widgets/controls",
       "_model_module_version": "1.5.0",
       "_model_name": "DescriptionStyleModel",
       "_view_count": null,
       "_view_module": "@jupyter-widgets/base",
       "_view_module_version": "1.2.0",
       "_view_name": "StyleView",
       "description_width": ""
      }
     }
    },
    "version_major": 2,
    "version_minor": 0
   }
  }
 },
 "nbformat": 4,
 "nbformat_minor": 5
}
