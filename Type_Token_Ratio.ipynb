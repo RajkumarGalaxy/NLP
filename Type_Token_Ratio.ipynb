{
  "nbformat": 4,
  "nbformat_minor": 0,
  "metadata": {
    "colab": {
      "name": "Type_Token_Ratio.ipynb",
      "provenance": [],
      "authorship_tag": "ABX9TyPClanInsTBsuuOXdc5y2w7",
      "include_colab_link": true
    },
    "kernelspec": {
      "name": "python3",
      "display_name": "Python 3"
    }
  },
  "cells": [
    {
      "cell_type": "markdown",
      "metadata": {
        "id": "view-in-github",
        "colab_type": "text"
      },
      "source": [
        "<a href=\"https://colab.research.google.com/github/RajkumarGalaxy/rajkumar_nltk/blob/master/Type_Token_Ratio.ipynb\" target=\"_parent\"><img src=\"https://colab.research.google.com/assets/colab-badge.svg\" alt=\"Open In Colab\"/></a>"
      ]
    },
    {
      "cell_type": "markdown",
      "metadata": {
        "id": "swq86AaWGs8M",
        "colab_type": "text"
      },
      "source": [
        "# Python Code to calculate Type-Token-Ratio of documents in a corpus\n",
        "\n",
        "### It gives the lexural density of the document\n",
        "\n",
        "#### Using nltk platform by [Rajkumar Lakshmanamoorthy](https://github.com/RajkumarGalaxy)"
      ]
    },
    {
      "cell_type": "code",
      "metadata": {
        "id": "6hxJci5lHi5_",
        "colab_type": "code",
        "colab": {}
      },
      "source": [
        "import nltk\n",
        "import pandas as pd"
      ],
      "execution_count": 80,
      "outputs": []
    },
    {
      "cell_type": "code",
      "metadata": {
        "id": "GbXib2wPHyV7",
        "colab_type": "code",
        "colab": {
          "base_uri": "https://localhost:8080/",
          "height": 102
        },
        "outputId": "d3099d58-3bea-4645-b355-b03b5b4d78e6"
      },
      "source": [
        "nltk.download('gutenberg')\n",
        "nltk.download('stopwords')"
      ],
      "execution_count": 81,
      "outputs": [
        {
          "output_type": "stream",
          "text": [
            "[nltk_data] Downloading package gutenberg to /root/nltk_data...\n",
            "[nltk_data]   Package gutenberg is already up-to-date!\n",
            "[nltk_data] Downloading package stopwords to /root/nltk_data...\n",
            "[nltk_data]   Package stopwords is already up-to-date!\n"
          ],
          "name": "stdout"
        },
        {
          "output_type": "execute_result",
          "data": {
            "text/plain": [
              "True"
            ]
          },
          "metadata": {
            "tags": []
          },
          "execution_count": 81
        }
      ]
    },
    {
      "cell_type": "markdown",
      "metadata": {
        "id": "S9Eg92x1ItpA",
        "colab_type": "text"
      },
      "source": [
        "### Set path of documents in corpus"
      ]
    },
    {
      "cell_type": "code",
      "metadata": {
        "id": "ylq8vtejIETi",
        "colab_type": "code",
        "colab": {}
      },
      "source": [
        "path_stop = nltk.corpus.stopwords.words('english')\n",
        "path_bryant = nltk.corpus.gutenberg.words(\"bryant-stories.txt\")\n",
        "path_emma = nltk.corpus.gutenberg.words(\"austen-emma.txt\")"
      ],
      "execution_count": 82,
      "outputs": []
    },
    {
      "cell_type": "markdown",
      "metadata": {
        "id": "DxPMqogNI3tz",
        "colab_type": "text"
      },
      "source": [
        "### Tokenization and Preprocessing"
      ]
    },
    {
      "cell_type": "code",
      "metadata": {
        "id": "SW604uDXJBti",
        "colab_type": "code",
        "colab": {}
      },
      "source": [
        "stop_words = set(path_stop)\n",
        "bryant_words = nltk.Text(path_bryant)\n",
        "emma_words = nltk.Text(path_emma)\n",
        "\n",
        "limit = 20000\n",
        "\n",
        "bryant_words = [w.lower() for w in bryant_words if w.isalpha()]\n",
        "bryant_words = [w for w in bryant_words if w not in stop_words][:limit]\n",
        "\n",
        "emma_words = [w.lower() for w in emma_words if w.isalpha()]\n",
        "emma_words = [w for w in emma_words if w not in stop_words][:limit]"
      ],
      "execution_count": 83,
      "outputs": []
    },
    {
      "cell_type": "markdown",
      "metadata": {
        "id": "BRWOCT5JKSvT",
        "colab_type": "text"
      },
      "source": [
        "### Calculate TTR for documents"
      ]
    },
    {
      "cell_type": "code",
      "metadata": {
        "id": "fLTrTU3nKGWm",
        "colab_type": "code",
        "colab": {}
      },
      "source": [
        "bryant_token = len(bryant_words)\n",
        "bryant_type = len(set(bryant_words))\n",
        "bryant_TTR = bryant_type / bryant_token\n",
        "\n",
        "emma_token = len(emma_words)\n",
        "emma_type = len(set(emma_words))\n",
        "emma_TTR = emma_type / emma_token"
      ],
      "execution_count": 84,
      "outputs": []
    },
    {
      "cell_type": "markdown",
      "metadata": {
        "id": "kwulsKEmLB34",
        "colab_type": "text"
      },
      "source": [
        "### Tabulate Calculated values for easy comparison "
      ]
    },
    {
      "cell_type": "code",
      "metadata": {
        "id": "tR1IBgHALNlU",
        "colab_type": "code",
        "colab": {
          "base_uri": "https://localhost:8080/",
          "height": 68
        },
        "outputId": "b50d1981-64a1-4457-a6cd-e15203bce48a"
      },
      "source": [
        "table = pd.DataFrame(columns = ['Type', 'Token', 'TTR'])\n",
        "table.loc['bryant-stories'] = [bryant_type, bryant_token, bryant_TTR]\n",
        "table.loc['austen-emma'] = [emma_type, emma_token, emma_TTR]\n",
        "\n",
        "print(table)"
      ],
      "execution_count": 85,
      "outputs": [
        {
          "output_type": "stream",
          "text": [
            "                  Type    Token      TTR\n",
            "bryant-stories  3435.0  20000.0  0.17175\n",
            "austen-emma     3786.0  20000.0  0.18930\n"
          ],
          "name": "stdout"
        }
      ]
    },
    {
      "cell_type": "markdown",
      "metadata": {
        "id": "4T4-3bzuPS2a",
        "colab_type": "text"
      },
      "source": [
        "## Insight:\n",
        "\n",
        "### Austen-emma has high lexical density when compared to Bryant-stories.\n",
        "### Vocabulary of Austen-emma is relatively larger!\n",
        "\n",
        "\n",
        "## Moral:\n",
        "\n",
        "### Read Austen-Emma to learn more new words ;)"
      ]
    }
  ]
}