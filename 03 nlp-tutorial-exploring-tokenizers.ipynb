{
 "cells": [
  {
   "cell_type": "markdown",
   "id": "1c09c357",
   "metadata": {
    "papermill": {
     "duration": 0.039895,
     "end_time": "2021-12-19T09:15:08.203320",
     "exception": false,
     "start_time": "2021-12-19T09:15:08.163425",
     "status": "completed"
    },
    "tags": []
   },
   "source": [
    "# Effortless NLP using HuggingFace's Tranformers Ecosystem"
   ]
  },
  {
   "cell_type": "markdown",
   "id": "f827e53f",
   "metadata": {
    "papermill": {
     "duration": 0.040007,
     "end_time": "2021-12-19T09:15:08.283937",
     "exception": false,
     "start_time": "2021-12-19T09:15:08.243930",
     "status": "completed"
    },
    "tags": []
   },
   "source": [
    "![Image](https://raw.githubusercontent.com/RajkumarGalaxy/dataset/master/Images/keyboard_1.jpg)\n",
    "\n",
    "> Image by [Markus Winkler](https://unsplash.com/@markuswinkler)\n",
    "### How Text is converted into Numbers in a meaningful way?"
   ]
  },
  {
   "cell_type": "markdown",
   "id": "b32eadd1",
   "metadata": {
    "papermill": {
     "duration": 0.038498,
     "end_time": "2021-12-19T09:15:08.362925",
     "exception": false,
     "start_time": "2021-12-19T09:15:08.324427",
     "status": "completed"
    },
    "tags": []
   },
   "source": [
    "#### ------------------------------------------------ \n",
    "#### *Articles So Far In This Series*\n",
    "#### -> [[NLP Tutorial] Finish Tasks in Two Lines of Code](https://www.kaggle.com/rajkumarl/nlp-tutorial-finish-tasks-in-two-lines-of-code)\n",
    "#### -> [[NLP Tutorial] Unwrapping Transformers Pipeline](https://www.kaggle.com/rajkumarl/nlp-unwrapping-transformers-pipeline)\n",
    "#### -> [[NLP Tutorial] Exploring Tokenizers](https://www.kaggle.com/rajkumarl/nlp-tutorial-exploring-tokenizers)\n",
    "#### -> [[NLP Tutorial] Fine-Tuning in TensorFlow](https://www.kaggle.com/rajkumarl/nlp-tutorial-fine-tuning-in-tensorflow) \n",
    "#### -> [[NLP Tutorail] Fine-Tuning in Pytorch](https://www.kaggle.com/rajkumarl/nlp-tutorial-fine-tuning-in-pytorch) \n",
    "#### -> [[NLP Tutorail] Fine-Tuning with Trainer API](https://www.kaggle.com/rajkumarl/nlp-tutorial-fine-tuning-with-trainer-api) \n",
    "#### ------------------------------------------------ "
   ]
  },
  {
   "cell_type": "markdown",
   "id": "3fbac52d",
   "metadata": {
    "papermill": {
     "duration": 0.040542,
     "end_time": "2021-12-19T09:15:08.443528",
     "exception": false,
     "start_time": "2021-12-19T09:15:08.402986",
     "status": "completed"
    },
    "tags": []
   },
   "source": [
    "**Tokenizers** API in the **Transformers** library offers essential preprocessing activities such as tokenization, padding, truncating, batching, and so on. \n",
    "\n",
    "Let's discuss the Tokenizers API and its different functionalities with use cases."
   ]
  },
  {
   "cell_type": "markdown",
   "id": "3ad5bb3f",
   "metadata": {
    "papermill": {
     "duration": 0.049364,
     "end_time": "2021-12-19T09:15:08.538544",
     "exception": false,
     "start_time": "2021-12-19T09:15:08.489180",
     "status": "completed"
    },
    "tags": []
   },
   "source": [
    "# Prepare Environment and Data"
   ]
  },
  {
   "cell_type": "code",
   "execution_count": 1,
   "id": "a6a24c61",
   "metadata": {
    "_kg_hide-output": true,
    "execution": {
     "iopub.execute_input": "2021-12-19T09:15:08.644746Z",
     "iopub.status.busy": "2021-12-19T09:15:08.644093Z",
     "iopub.status.idle": "2021-12-19T09:15:15.608888Z",
     "shell.execute_reply": "2021-12-19T09:15:15.608086Z",
     "shell.execute_reply.started": "2021-11-18T07:38:34.030701Z"
    },
    "papermill": {
     "duration": 7.021227,
     "end_time": "2021-12-19T09:15:15.609058",
     "exception": false,
     "start_time": "2021-12-19T09:15:08.587831",
     "status": "completed"
    },
    "tags": []
   },
   "outputs": [
    {
     "name": "stderr",
     "output_type": "stream",
     "text": [
      "2021-12-19 09:15:09.314048: W tensorflow/stream_executor/platform/default/dso_loader.cc:60] Could not load dynamic library 'libcudart.so.11.0'; dlerror: libcudart.so.11.0: cannot open shared object file: No such file or directory; LD_LIBRARY_PATH: /opt/conda/lib\n",
      "2021-12-19 09:15:09.314169: I tensorflow/stream_executor/cuda/cudart_stub.cc:29] Ignore above cudart dlerror if you do not have a GPU set up on your machine.\n"
     ]
    }
   ],
   "source": [
    "# Make necessary imports\n",
    "\n",
    "# for array operations \n",
    "import numpy as np \n",
    "# for data handling\n",
    "import pandas as pd\n",
    "# TensorFlow framework\n",
    "import tensorflow as tf\n",
    "# PyTorch framework\n",
    "import torch\n",
    "# for pretty printing\n",
    "from pprint import pprint"
   ]
  },
  {
   "cell_type": "code",
   "execution_count": 2,
   "id": "0b1a0d72",
   "metadata": {
    "execution": {
     "iopub.execute_input": "2021-12-19T09:15:15.695563Z",
     "iopub.status.busy": "2021-12-19T09:15:15.694883Z",
     "iopub.status.idle": "2021-12-19T09:15:15.793533Z",
     "shell.execute_reply": "2021-12-19T09:15:15.794061Z",
     "shell.execute_reply.started": "2021-11-18T07:38:40.274624Z"
    },
    "papermill": {
     "duration": 0.143358,
     "end_time": "2021-12-19T09:15:15.794226",
     "exception": false,
     "start_time": "2021-12-19T09:15:15.650868",
     "status": "completed"
    },
    "tags": []
   },
   "outputs": [
    {
     "data": {
      "text/html": [
       "<div>\n",
       "<style scoped>\n",
       "    .dataframe tbody tr th:only-of-type {\n",
       "        vertical-align: middle;\n",
       "    }\n",
       "\n",
       "    .dataframe tbody tr th {\n",
       "        vertical-align: top;\n",
       "    }\n",
       "\n",
       "    .dataframe thead th {\n",
       "        text-align: right;\n",
       "    }\n",
       "</style>\n",
       "<table border=\"1\" class=\"dataframe\">\n",
       "  <thead>\n",
       "    <tr style=\"text-align: right;\">\n",
       "      <th></th>\n",
       "      <th>post_id</th>\n",
       "      <th>comment_id</th>\n",
       "      <th>txt</th>\n",
       "      <th>url</th>\n",
       "      <th>offensiveness_score</th>\n",
       "    </tr>\n",
       "  </thead>\n",
       "  <tbody>\n",
       "    <tr>\n",
       "      <th>0</th>\n",
       "      <td>42g75o</td>\n",
       "      <td>cza1q49</td>\n",
       "      <td>&gt; The difference in average earnings between m...</td>\n",
       "      <td>https://www.reddit.com/r/changemyview/comments...</td>\n",
       "      <td>-0.083</td>\n",
       "    </tr>\n",
       "    <tr>\n",
       "      <th>1</th>\n",
       "      <td>42g75o</td>\n",
       "      <td>cza1wdh</td>\n",
       "      <td>The myth is that the \"gap\" is entirely based o...</td>\n",
       "      <td>https://www.reddit.com/r/changemyview/comments...</td>\n",
       "      <td>-0.022</td>\n",
       "    </tr>\n",
       "    <tr>\n",
       "      <th>2</th>\n",
       "      <td>42g75o</td>\n",
       "      <td>cza23qx</td>\n",
       "      <td>[deleted]</td>\n",
       "      <td>https://www.reddit.com/r/changemyview/comments...</td>\n",
       "      <td>0.167</td>\n",
       "    </tr>\n",
       "    <tr>\n",
       "      <th>3</th>\n",
       "      <td>42g75o</td>\n",
       "      <td>cza2bw8</td>\n",
       "      <td>The assertion is that women get paid less for ...</td>\n",
       "      <td>https://www.reddit.com/r/changemyview/comments...</td>\n",
       "      <td>-0.146</td>\n",
       "    </tr>\n",
       "    <tr>\n",
       "      <th>4</th>\n",
       "      <td>42g75o</td>\n",
       "      <td>cza2iji</td>\n",
       "      <td>You said in the OP that's not what they're mea...</td>\n",
       "      <td>https://www.reddit.com/r/changemyview/comments...</td>\n",
       "      <td>-0.083</td>\n",
       "    </tr>\n",
       "  </tbody>\n",
       "</table>\n",
       "</div>"
      ],
      "text/plain": [
       "  post_id comment_id                                                txt  \\\n",
       "0  42g75o    cza1q49  > The difference in average earnings between m...   \n",
       "1  42g75o    cza1wdh  The myth is that the \"gap\" is entirely based o...   \n",
       "2  42g75o    cza23qx                                          [deleted]   \n",
       "3  42g75o    cza2bw8  The assertion is that women get paid less for ...   \n",
       "4  42g75o    cza2iji  You said in the OP that's not what they're mea...   \n",
       "\n",
       "                                                 url  offensiveness_score  \n",
       "0  https://www.reddit.com/r/changemyview/comments...               -0.083  \n",
       "1  https://www.reddit.com/r/changemyview/comments...               -0.022  \n",
       "2  https://www.reddit.com/r/changemyview/comments...                0.167  \n",
       "3  https://www.reddit.com/r/changemyview/comments...               -0.146  \n",
       "4  https://www.reddit.com/r/changemyview/comments...               -0.083  "
      ]
     },
     "execution_count": 2,
     "metadata": {},
     "output_type": "execute_result"
    }
   ],
   "source": [
    "# download a text data\n",
    "data = pd.read_csv('../input/ruddit-jigsaw-dataset/Dataset/ruddit_with_text.csv')\n",
    "data.head()"
   ]
  },
  {
   "cell_type": "markdown",
   "id": "3fd7258c",
   "metadata": {
    "papermill": {
     "duration": 0.039082,
     "end_time": "2021-12-19T09:15:15.872479",
     "exception": false,
     "start_time": "2021-12-19T09:15:15.833397",
     "status": "completed"
    },
    "tags": []
   },
   "source": [
    "# Encoding Texts\n",
    "\n",
    "A tokenizer encodes texts into numbers that a model can understand."
   ]
  },
  {
   "cell_type": "code",
   "execution_count": 3,
   "id": "c3b16ea4",
   "metadata": {
    "_kg_hide-output": true,
    "execution": {
     "iopub.execute_input": "2021-12-19T09:15:15.957110Z",
     "iopub.status.busy": "2021-12-19T09:15:15.956282Z",
     "iopub.status.idle": "2021-12-19T09:15:20.924000Z",
     "shell.execute_reply": "2021-12-19T09:15:20.923386Z",
     "shell.execute_reply.started": "2021-11-18T07:38:40.388868Z"
    },
    "papermill": {
     "duration": 5.012521,
     "end_time": "2021-12-19T09:15:20.924158",
     "exception": false,
     "start_time": "2021-12-19T09:15:15.911637",
     "status": "completed"
    },
    "tags": []
   },
   "outputs": [
    {
     "data": {
      "application/vnd.jupyter.widget-view+json": {
       "model_id": "5b10fd719fa14953bbcfd5cfc887c06a",
       "version_major": 2,
       "version_minor": 0
      },
      "text/plain": [
       "Downloading:   0%|          | 0.00/570 [00:00<?, ?B/s]"
      ]
     },
     "metadata": {},
     "output_type": "display_data"
    },
    {
     "data": {
      "application/vnd.jupyter.widget-view+json": {
       "model_id": "296e71c68e7140f5818508417c1b2d5e",
       "version_major": 2,
       "version_minor": 0
      },
      "text/plain": [
       "Downloading:   0%|          | 0.00/213k [00:00<?, ?B/s]"
      ]
     },
     "metadata": {},
     "output_type": "display_data"
    },
    {
     "data": {
      "application/vnd.jupyter.widget-view+json": {
       "model_id": "cbb535596efc43a29a4ce43af058ac65",
       "version_major": 2,
       "version_minor": 0
      },
      "text/plain": [
       "Downloading:   0%|          | 0.00/436k [00:00<?, ?B/s]"
      ]
     },
     "metadata": {},
     "output_type": "display_data"
    },
    {
     "data": {
      "application/vnd.jupyter.widget-view+json": {
       "model_id": "963bc750791841e1bc9154f0a5043292",
       "version_major": 2,
       "version_minor": 0
      },
      "text/plain": [
       "Downloading:   0%|          | 0.00/29.0 [00:00<?, ?B/s]"
      ]
     },
     "metadata": {},
     "output_type": "display_data"
    }
   ],
   "source": [
    "# AutoTokenizer module from the HF's transformers library\n",
    "from transformers import AutoTokenizer\n",
    "\n",
    "# download and cache a suitable pre-trained tokenizer\n",
    "tokenizer = AutoTokenizer.from_pretrained('bert-base-cased')"
   ]
  },
  {
   "cell_type": "code",
   "execution_count": 4,
   "id": "45c2704a",
   "metadata": {
    "execution": {
     "iopub.execute_input": "2021-12-19T09:15:21.022051Z",
     "iopub.status.busy": "2021-12-19T09:15:21.021292Z",
     "iopub.status.idle": "2021-12-19T09:15:21.027400Z",
     "shell.execute_reply": "2021-12-19T09:15:21.026906Z",
     "shell.execute_reply.started": "2021-11-18T07:38:41.810776Z"
    },
    "papermill": {
     "duration": 0.058822,
     "end_time": "2021-12-19T09:15:21.027590",
     "exception": false,
     "start_time": "2021-12-19T09:15:20.968768",
     "status": "completed"
    },
    "tags": []
   },
   "outputs": [
    {
     "name": "stdout",
     "output_type": "stream",
     "text": [
      "<class 'str'>\n"
     ]
    },
    {
     "data": {
      "text/plain": [
       "'The assertion is that women get paid less for the *same* jobs, and that they get paid less *because* they are women. '"
      ]
     },
     "execution_count": 4,
     "metadata": {},
     "output_type": "execute_result"
    }
   ],
   "source": [
    "# extract a text for our work\n",
    "text = data.loc[3,'txt']\n",
    "# Is it a string?\n",
    "print(type(text))\n",
    "# What text does it have?\n",
    "text"
   ]
  },
  {
   "cell_type": "code",
   "execution_count": 5,
   "id": "ce44ea46",
   "metadata": {
    "execution": {
     "iopub.execute_input": "2021-12-19T09:15:21.119291Z",
     "iopub.status.busy": "2021-12-19T09:15:21.118626Z",
     "iopub.status.idle": "2021-12-19T09:15:21.124385Z",
     "shell.execute_reply": "2021-12-19T09:15:21.124910Z",
     "shell.execute_reply.started": "2021-11-18T07:38:41.82632Z"
    },
    "papermill": {
     "duration": 0.054605,
     "end_time": "2021-12-19T09:15:21.125094",
     "exception": false,
     "start_time": "2021-12-19T09:15:21.070489",
     "status": "completed"
    },
    "tags": []
   },
   "outputs": [
    {
     "data": {
      "text/plain": [
       "['The',\n",
       " 'assertion',\n",
       " 'is',\n",
       " 'that',\n",
       " 'women',\n",
       " 'get',\n",
       " 'paid',\n",
       " 'less',\n",
       " 'for',\n",
       " 'the',\n",
       " '*',\n",
       " 'same',\n",
       " '*',\n",
       " 'jobs',\n",
       " ',',\n",
       " 'and',\n",
       " 'that',\n",
       " 'they',\n",
       " 'get',\n",
       " 'paid',\n",
       " 'less',\n",
       " '*',\n",
       " 'because',\n",
       " '*',\n",
       " 'they',\n",
       " 'are',\n",
       " 'women',\n",
       " '.']"
      ]
     },
     "execution_count": 5,
     "metadata": {},
     "output_type": "execute_result"
    }
   ],
   "source": [
    "# obtain the tokens\n",
    "tokens = tokenizer.tokenize(text)\n",
    "tokens"
   ]
  },
  {
   "cell_type": "code",
   "execution_count": 6,
   "id": "be0a863e",
   "metadata": {
    "execution": {
     "iopub.execute_input": "2021-12-19T09:15:21.216760Z",
     "iopub.status.busy": "2021-12-19T09:15:21.215990Z",
     "iopub.status.idle": "2021-12-19T09:15:21.221246Z",
     "shell.execute_reply": "2021-12-19T09:15:21.221776Z",
     "shell.execute_reply.started": "2021-11-18T07:38:41.836007Z"
    },
    "papermill": {
     "duration": 0.052974,
     "end_time": "2021-12-19T09:15:21.221943",
     "exception": false,
     "start_time": "2021-12-19T09:15:21.168969",
     "status": "completed"
    },
    "tags": []
   },
   "outputs": [
    {
     "data": {
      "text/plain": [
       "[1109,\n",
       " 26878,\n",
       " 1110,\n",
       " 1115,\n",
       " 1535,\n",
       " 1243,\n",
       " 3004,\n",
       " 1750,\n",
       " 1111,\n",
       " 1103,\n",
       " 115,\n",
       " 1269,\n",
       " 115,\n",
       " 5448,\n",
       " 117,\n",
       " 1105,\n",
       " 1115,\n",
       " 1152,\n",
       " 1243,\n",
       " 3004,\n",
       " 1750,\n",
       " 115,\n",
       " 1272,\n",
       " 115,\n",
       " 1152,\n",
       " 1132,\n",
       " 1535,\n",
       " 119]"
      ]
     },
     "execution_count": 6,
     "metadata": {},
     "output_type": "execute_result"
    }
   ],
   "source": [
    "# convert the tokens into numeric representation\n",
    "inputs = tokenizer.convert_tokens_to_ids(tokens)\n",
    "inputs"
   ]
  },
  {
   "cell_type": "markdown",
   "id": "a001e032",
   "metadata": {
    "papermill": {
     "duration": 0.044663,
     "end_time": "2021-12-19T09:15:21.310537",
     "exception": false,
     "start_time": "2021-12-19T09:15:21.265874",
     "status": "completed"
    },
    "tags": []
   },
   "source": [
    "Aha! We cannot understand these numerical representations, but a **BERT model** can! "
   ]
  },
  {
   "cell_type": "markdown",
   "id": "dfcb4d3f",
   "metadata": {
    "papermill": {
     "duration": 0.043967,
     "end_time": "2021-12-19T09:15:21.401008",
     "exception": false,
     "start_time": "2021-12-19T09:15:21.357041",
     "status": "completed"
    },
    "tags": []
   },
   "source": [
    "# Decode back into Texts"
   ]
  },
  {
   "cell_type": "code",
   "execution_count": 7,
   "id": "242ecdb4",
   "metadata": {
    "execution": {
     "iopub.execute_input": "2021-12-19T09:15:21.491146Z",
     "iopub.status.busy": "2021-12-19T09:15:21.490480Z",
     "iopub.status.idle": "2021-12-19T09:15:21.495186Z",
     "shell.execute_reply": "2021-12-19T09:15:21.495841Z",
     "shell.execute_reply.started": "2021-11-18T07:38:41.84562Z"
    },
    "papermill": {
     "duration": 0.05139,
     "end_time": "2021-12-19T09:15:21.496043",
     "exception": false,
     "start_time": "2021-12-19T09:15:21.444653",
     "status": "completed"
    },
    "tags": []
   },
   "outputs": [
    {
     "data": {
      "text/plain": [
       "'The assertion is that women get paid less for the * same * jobs, and that they get paid less * because * they are women.'"
      ]
     },
     "execution_count": 7,
     "metadata": {},
     "output_type": "execute_result"
    }
   ],
   "source": [
    "decoded = tokenizer.decode(inputs)\n",
    "decoded"
   ]
  },
  {
   "cell_type": "markdown",
   "id": "64a1e86a",
   "metadata": {
    "papermill": {
     "duration": 0.043463,
     "end_time": "2021-12-19T09:15:21.582898",
     "exception": false,
     "start_time": "2021-12-19T09:15:21.539435",
     "status": "completed"
    },
    "tags": []
   },
   "source": [
    "The `decode` method not only decodes the numbers back to tokens, but also merges the tokens exactly similar to the original text."
   ]
  },
  {
   "cell_type": "markdown",
   "id": "fbc517ad",
   "metadata": {
    "papermill": {
     "duration": 0.04574,
     "end_time": "2021-12-19T09:15:21.674156",
     "exception": false,
     "start_time": "2021-12-19T09:15:21.628416",
     "status": "completed"
    },
    "tags": []
   },
   "source": [
    "# Issues with Modeling\n",
    "\n",
    "We can do sentiment analysis with the above pre-processed text. However there are some common issues caused based on how the model was originally trained with its inputs."
   ]
  },
  {
   "cell_type": "markdown",
   "id": "ed2b42d4",
   "metadata": {
    "papermill": {
     "duration": 0.044221,
     "end_time": "2021-12-19T09:15:21.762302",
     "exception": false,
     "start_time": "2021-12-19T09:15:21.718081",
     "status": "completed"
    },
    "tags": []
   },
   "source": [
    "# Issue #1 Batching\n",
    "\n",
    "Transformers models expect inputs in batches in TWO dimensions. The frst refers to batch size and the second refers to the sequence length."
   ]
  },
  {
   "cell_type": "code",
   "execution_count": 8,
   "id": "dbda8536",
   "metadata": {
    "execution": {
     "iopub.execute_input": "2021-12-19T09:15:21.854767Z",
     "iopub.status.busy": "2021-12-19T09:15:21.854125Z",
     "iopub.status.idle": "2021-12-19T09:15:39.781741Z",
     "shell.execute_reply": "2021-12-19T09:15:39.782210Z",
     "shell.execute_reply.started": "2021-11-18T07:38:41.855804Z"
    },
    "papermill": {
     "duration": 17.976237,
     "end_time": "2021-12-19T09:15:39.782395",
     "exception": false,
     "start_time": "2021-12-19T09:15:21.806158",
     "status": "completed"
    },
    "tags": []
   },
   "outputs": [
    {
     "data": {
      "application/vnd.jupyter.widget-view+json": {
       "model_id": "4930a4acfb5145df9c0fc358278915c2",
       "version_major": 2,
       "version_minor": 0
      },
      "text/plain": [
       "Downloading:   0%|          | 0.00/527M [00:00<?, ?B/s]"
      ]
     },
     "metadata": {},
     "output_type": "display_data"
    },
    {
     "name": "stderr",
     "output_type": "stream",
     "text": [
      "2021-12-19 09:15:36.661062: I tensorflow/compiler/jit/xla_cpu_device.cc:41] Not creating XLA devices, tf_xla_enable_xla_devices not set\n",
      "2021-12-19 09:15:36.664662: W tensorflow/stream_executor/platform/default/dso_loader.cc:60] Could not load dynamic library 'libcuda.so.1'; dlerror: libcuda.so.1: cannot open shared object file: No such file or directory; LD_LIBRARY_PATH: /opt/conda/lib\n",
      "2021-12-19 09:15:36.664701: W tensorflow/stream_executor/cuda/cuda_driver.cc:326] failed call to cuInit: UNKNOWN ERROR (303)\n",
      "2021-12-19 09:15:36.664730: I tensorflow/stream_executor/cuda/cuda_diagnostics.cc:156] kernel driver does not appear to be running on this host (7897a5272bad): /proc/driver/nvidia/version does not exist\n",
      "2021-12-19 09:15:36.666063: I tensorflow/core/platform/cpu_feature_guard.cc:142] This TensorFlow binary is optimized with oneAPI Deep Neural Network Library (oneDNN) to use the following CPU instructions in performance-critical operations:  AVX2 FMA\n",
      "To enable them in other operations, rebuild TensorFlow with the appropriate compiler flags.\n",
      "2021-12-19 09:15:36.666495: I tensorflow/compiler/jit/xla_gpu_device.cc:99] Not creating XLA devices, tf_xla_enable_xla_devices not set\n",
      "All model checkpoint layers were used when initializing TFBertForSequenceClassification.\n",
      "\n",
      "Some layers of TFBertForSequenceClassification were not initialized from the model checkpoint at bert-base-cased and are newly initialized: ['classifier']\n",
      "You should probably TRAIN this model on a down-stream task to be able to use it for predictions and inference.\n"
     ]
    },
    {
     "name": "stdout",
     "output_type": "stream",
     "text": [
      "<class 'IndexError'> list index out of range\n"
     ]
    }
   ],
   "source": [
    "# In TensorFlow\n",
    "from transformers import TFAutoModelForSequenceClassification\n",
    "# fetch the same model as like tokenizer\n",
    "tf_model = TFAutoModelForSequenceClassification.from_pretrained('bert-base-cased')\n",
    "ids = tf.constant(inputs)\n",
    "try:\n",
    "    tf_model(ids)\n",
    "except Exception as e:\n",
    "    print(type(e), e)"
   ]
  },
  {
   "cell_type": "code",
   "execution_count": 9,
   "id": "665572a6",
   "metadata": {
    "execution": {
     "iopub.execute_input": "2021-12-19T09:15:39.877827Z",
     "iopub.status.busy": "2021-12-19T09:15:39.877151Z",
     "iopub.status.idle": "2021-12-19T09:15:40.125205Z",
     "shell.execute_reply": "2021-12-19T09:15:40.124672Z",
     "shell.execute_reply.started": "2021-11-18T07:38:46.64462Z"
    },
    "papermill": {
     "duration": 0.29674,
     "end_time": "2021-12-19T09:15:40.125399",
     "exception": false,
     "start_time": "2021-12-19T09:15:39.828659",
     "status": "completed"
    },
    "tags": []
   },
   "outputs": [
    {
     "data": {
      "text/plain": [
       "<tf.Tensor: shape=(1, 2), dtype=float32, numpy=array([[-0.51531273,  0.11103971]], dtype=float32)>"
      ]
     },
     "execution_count": 9,
     "metadata": {},
     "output_type": "execute_result"
    }
   ],
   "source": [
    "# nest inputs inside a list to form a batch, \n",
    "# i.e, increase dimension\n",
    "ids = tf.constant([inputs])\n",
    "tf_model(ids).logits "
   ]
  },
  {
   "cell_type": "code",
   "execution_count": 10,
   "id": "789b0cba",
   "metadata": {
    "execution": {
     "iopub.execute_input": "2021-12-19T09:15:40.226789Z",
     "iopub.status.busy": "2021-12-19T09:15:40.226057Z",
     "iopub.status.idle": "2021-12-19T09:15:57.146415Z",
     "shell.execute_reply": "2021-12-19T09:15:57.145837Z",
     "shell.execute_reply.started": "2021-11-18T07:38:46.878446Z"
    },
    "papermill": {
     "duration": 16.972513,
     "end_time": "2021-12-19T09:15:57.146575",
     "exception": false,
     "start_time": "2021-12-19T09:15:40.174062",
     "status": "completed"
    },
    "tags": []
   },
   "outputs": [
    {
     "data": {
      "application/vnd.jupyter.widget-view+json": {
       "model_id": "7c04719cbc6b4688afa9ceb56e8c571e",
       "version_major": 2,
       "version_minor": 0
      },
      "text/plain": [
       "Downloading:   0%|          | 0.00/436M [00:00<?, ?B/s]"
      ]
     },
     "metadata": {},
     "output_type": "display_data"
    },
    {
     "name": "stderr",
     "output_type": "stream",
     "text": [
      "Some weights of the model checkpoint at bert-base-cased were not used when initializing BertForSequenceClassification: ['cls.predictions.bias', 'cls.predictions.transform.dense.weight', 'cls.predictions.transform.dense.bias', 'cls.predictions.decoder.weight', 'cls.seq_relationship.weight', 'cls.seq_relationship.bias', 'cls.predictions.transform.LayerNorm.weight', 'cls.predictions.transform.LayerNorm.bias']\n",
      "- This IS expected if you are initializing BertForSequenceClassification from the checkpoint of a model trained on another task or with another architecture (e.g. initializing a BertForSequenceClassification model from a BertForPreTraining model).\n",
      "- This IS NOT expected if you are initializing BertForSequenceClassification from the checkpoint of a model that you expect to be exactly identical (initializing a BertForSequenceClassification model from a BertForSequenceClassification model).\n",
      "Some weights of BertForSequenceClassification were not initialized from the model checkpoint at bert-base-cased and are newly initialized: ['classifier.weight', 'classifier.bias']\n",
      "You should probably TRAIN this model on a down-stream task to be able to use it for predictions and inference.\n"
     ]
    },
    {
     "name": "stdout",
     "output_type": "stream",
     "text": [
      "ValueError: not enough values to unpack (expected 2, got 1)\n"
     ]
    }
   ],
   "source": [
    "# In PyTorch\n",
    "from transformers import AutoModelForSequenceClassification\n",
    "# fetch the same model as like tokenizer\n",
    "pt_model = AutoModelForSequenceClassification.from_pretrained('bert-base-cased')\n",
    "# convert inputs into a tensor\n",
    "ids = torch.tensor(inputs)\n",
    "# make prediction\n",
    "try:\n",
    "    pt_model(ids)\n",
    "except ValueError as e:\n",
    "    print('ValueError:', e)"
   ]
  },
  {
   "cell_type": "code",
   "execution_count": 11,
   "id": "770cc6c4",
   "metadata": {
    "execution": {
     "iopub.execute_input": "2021-12-19T09:15:57.254528Z",
     "iopub.status.busy": "2021-12-19T09:15:57.253879Z",
     "iopub.status.idle": "2021-12-19T09:15:57.500436Z",
     "shell.execute_reply": "2021-12-19T09:15:57.501039Z",
     "shell.execute_reply.started": "2021-11-18T07:38:52.515668Z"
    },
    "papermill": {
     "duration": 0.304545,
     "end_time": "2021-12-19T09:15:57.501216",
     "exception": false,
     "start_time": "2021-12-19T09:15:57.196671",
     "status": "completed"
    },
    "tags": []
   },
   "outputs": [
    {
     "data": {
      "text/plain": [
       "tensor([[-0.5233, -0.4122]], grad_fn=<AddmmBackward>)"
      ]
     },
     "execution_count": 11,
     "metadata": {},
     "output_type": "execute_result"
    }
   ],
   "source": [
    "# nest inputs inside a list to form a batch\n",
    "ids = torch.tensor([inputs])\n",
    "# make prediction on batched inputs\n",
    "pt_model(ids).logits"
   ]
  },
  {
   "cell_type": "markdown",
   "id": "dd45bdc8",
   "metadata": {
    "papermill": {
     "duration": 0.04638,
     "end_time": "2021-12-19T09:15:57.595376",
     "exception": false,
     "start_time": "2021-12-19T09:15:57.548996",
     "status": "completed"
    },
    "tags": []
   },
   "source": [
    "# Issue #2 Padding\n",
    "\n",
    "Models expect a batch of text ids as inputs. But texts are usually of different lengths. Tensors cannot be formulated with different input sizes. They must be rectangle in shape. Here, we go with padding. We pad the short sentences with some *padding id* to match its length to the longest sequence in the batch."
   ]
  },
  {
   "cell_type": "code",
   "execution_count": 12,
   "id": "9aa8887b",
   "metadata": {
    "_kg_hide-input": true,
    "_kg_hide-output": true,
    "execution": {
     "iopub.execute_input": "2021-12-19T09:15:57.694084Z",
     "iopub.status.busy": "2021-12-19T09:15:57.693340Z",
     "iopub.status.idle": "2021-12-19T09:15:57.716528Z",
     "shell.execute_reply": "2021-12-19T09:15:57.717016Z",
     "shell.execute_reply.started": "2021-11-18T07:38:52.700927Z"
    },
    "papermill": {
     "duration": 0.074512,
     "end_time": "2021-12-19T09:15:57.717182",
     "exception": false,
     "start_time": "2021-12-19T09:15:57.642670",
     "status": "completed"
    },
    "tags": []
   },
   "outputs": [
    {
     "data": {
      "text/html": [
       "<div>\n",
       "<style scoped>\n",
       "    .dataframe tbody tr th:only-of-type {\n",
       "        vertical-align: middle;\n",
       "    }\n",
       "\n",
       "    .dataframe tbody tr th {\n",
       "        vertical-align: top;\n",
       "    }\n",
       "\n",
       "    .dataframe thead th {\n",
       "        text-align: right;\n",
       "    }\n",
       "</style>\n",
       "<table border=\"1\" class=\"dataframe\">\n",
       "  <thead>\n",
       "    <tr style=\"text-align: right;\">\n",
       "      <th></th>\n",
       "      <th>post_id</th>\n",
       "      <th>comment_id</th>\n",
       "      <th>txt</th>\n",
       "      <th>url</th>\n",
       "      <th>offensiveness_score</th>\n",
       "      <th>txt_len</th>\n",
       "    </tr>\n",
       "  </thead>\n",
       "  <tbody>\n",
       "    <tr>\n",
       "      <th>3838</th>\n",
       "      <td>cfh0mi</td>\n",
       "      <td>euaefq9</td>\n",
       "      <td>I will never forget that night</td>\n",
       "      <td>https://www.reddit.com/r/AFL/comments/cfh0mi/m...</td>\n",
       "      <td>-0.638</td>\n",
       "      <td>30</td>\n",
       "    </tr>\n",
       "    <tr>\n",
       "      <th>4432</th>\n",
       "      <td>agy6wg</td>\n",
       "      <td>eebms8h</td>\n",
       "      <td>IM PICKIN UP GOOD VIBRATIONS 🎶</td>\n",
       "      <td>https://i.redd.it/i28vnrmfsza21.jpg/eebms8h/</td>\n",
       "      <td>-0.604</td>\n",
       "      <td>31</td>\n",
       "    </tr>\n",
       "    <tr>\n",
       "      <th>3027</th>\n",
       "      <td>74gz19</td>\n",
       "      <td>dnz8pjw</td>\n",
       "      <td>&gt;killing it\\n\\n...at golf.</td>\n",
       "      <td>http://thehill.com/blogs/blog-briefing-room/ne...</td>\n",
       "      <td>-0.375</td>\n",
       "      <td>24</td>\n",
       "    </tr>\n",
       "    <tr>\n",
       "      <th>4457</th>\n",
       "      <td>aljcyq</td>\n",
       "      <td>efgilg0</td>\n",
       "      <td>Why the hell wouldn't it</td>\n",
       "      <td>https://i.redd.it/cdf8v3lbgnd21.jpg/efgilg0/</td>\n",
       "      <td>-0.104</td>\n",
       "      <td>24</td>\n",
       "    </tr>\n",
       "    <tr>\n",
       "      <th>4412</th>\n",
       "      <td>aaahgo</td>\n",
       "      <td>ecr5nws</td>\n",
       "      <td>Welp, my heart just broke.</td>\n",
       "      <td>https://i.redd.it/wvy18k6ex0721.png/ecr5nws/</td>\n",
       "      <td>-0.479</td>\n",
       "      <td>26</td>\n",
       "    </tr>\n",
       "  </tbody>\n",
       "</table>\n",
       "</div>"
      ],
      "text/plain": [
       "     post_id comment_id                              txt  \\\n",
       "3838  cfh0mi    euaefq9   I will never forget that night   \n",
       "4432  agy6wg    eebms8h  IM PICKIN UP GOOD VIBRATIONS 🎶    \n",
       "3027  74gz19    dnz8pjw       >killing it\\n\\n...at golf.   \n",
       "4457  aljcyq    efgilg0         Why the hell wouldn't it   \n",
       "4412  aaahgo    ecr5nws       Welp, my heart just broke.   \n",
       "\n",
       "                                                    url  offensiveness_score  \\\n",
       "3838  https://www.reddit.com/r/AFL/comments/cfh0mi/m...               -0.638   \n",
       "4432       https://i.redd.it/i28vnrmfsza21.jpg/eebms8h/               -0.604   \n",
       "3027  http://thehill.com/blogs/blog-briefing-room/ne...               -0.375   \n",
       "4457       https://i.redd.it/cdf8v3lbgnd21.jpg/efgilg0/               -0.104   \n",
       "4412       https://i.redd.it/wvy18k6ex0721.png/ecr5nws/               -0.479   \n",
       "\n",
       "      txt_len  \n",
       "3838       30  \n",
       "4432       31  \n",
       "3027       24  \n",
       "4457       24  \n",
       "4412       26  "
      ]
     },
     "execution_count": 12,
     "metadata": {},
     "output_type": "execute_result"
    }
   ],
   "source": [
    "# obtain data where txt is short\n",
    "# no seed set. So we may see different data every time\n",
    "data['txt_len'] = data['txt'].apply(lambda x: len(x))\n",
    "data[np.multiply(data['txt_len']<32, data['txt_len']>23)].sample(5)"
   ]
  },
  {
   "cell_type": "code",
   "execution_count": 13,
   "id": "f3aa1bf0",
   "metadata": {
    "execution": {
     "iopub.execute_input": "2021-12-19T09:15:57.817997Z",
     "iopub.status.busy": "2021-12-19T09:15:57.817279Z",
     "iopub.status.idle": "2021-12-19T09:15:57.826416Z",
     "shell.execute_reply": "2021-12-19T09:15:57.827645Z",
     "shell.execute_reply.started": "2021-11-18T07:38:52.732172Z"
    },
    "papermill": {
     "duration": 0.063118,
     "end_time": "2021-12-19T09:15:57.827879",
     "exception": false,
     "start_time": "2021-12-19T09:15:57.764761",
     "status": "completed"
    },
    "tags": []
   },
   "outputs": [
    {
     "name": "stdout",
     "output_type": "stream",
     "text": [
      "Sure, if it's private, why not?\n",
      "I never said I hated anyone.\n",
      "Take them to our leader.\n"
     ]
    }
   ],
   "source": [
    "# take some random texts of different lengths\n",
    "texts = data.loc[[182, 332, 3804], 'txt'].values\n",
    "print(*texts, sep='\\n')"
   ]
  },
  {
   "cell_type": "code",
   "execution_count": 14,
   "id": "b0160c67",
   "metadata": {
    "execution": {
     "iopub.execute_input": "2021-12-19T09:15:57.953097Z",
     "iopub.status.busy": "2021-12-19T09:15:57.950497Z",
     "iopub.status.idle": "2021-12-19T09:15:57.960472Z",
     "shell.execute_reply": "2021-12-19T09:15:57.961213Z",
     "shell.execute_reply.started": "2021-11-18T07:38:52.7525Z"
    },
    "papermill": {
     "duration": 0.071463,
     "end_time": "2021-12-19T09:15:57.961476",
     "exception": false,
     "start_time": "2021-12-19T09:15:57.890013",
     "status": "completed"
    },
    "tags": []
   },
   "outputs": [
    {
     "data": {
      "text/plain": [
       "[[6542, 117, 1191, 1122, 112, 188, 2029, 117, 1725, 1136, 136],\n",
       " [146, 1309, 1163, 146, 5687, 2256, 119],\n",
       " [5055, 1172, 1106, 1412, 2301, 119]]"
      ]
     },
     "execution_count": 14,
     "metadata": {},
     "output_type": "execute_result"
    }
   ],
   "source": [
    "# Extract tokens\n",
    "tokens = [tokenizer.tokenize(txt) for txt in texts]\n",
    "# obtain ids\n",
    "ids = [tokenizer.convert_tokens_to_ids(token) for token in tokens]\n",
    "ids"
   ]
  },
  {
   "cell_type": "markdown",
   "id": "8cc11552",
   "metadata": {
    "papermill": {
     "duration": 0.059915,
     "end_time": "2021-12-19T09:15:58.081602",
     "exception": false,
     "start_time": "2021-12-19T09:15:58.021687",
     "status": "completed"
    },
    "tags": []
   },
   "source": [
    "Tokens are of different lengths. They cannot be formulated as tensors. Let's check it!"
   ]
  },
  {
   "cell_type": "code",
   "execution_count": 15,
   "id": "8fd7b854",
   "metadata": {
    "execution": {
     "iopub.execute_input": "2021-12-19T09:15:58.216908Z",
     "iopub.status.busy": "2021-12-19T09:15:58.216107Z",
     "iopub.status.idle": "2021-12-19T09:15:58.219438Z",
     "shell.execute_reply": "2021-12-19T09:15:58.217471Z",
     "shell.execute_reply.started": "2021-11-18T07:38:52.770146Z"
    },
    "papermill": {
     "duration": 0.07166,
     "end_time": "2021-12-19T09:15:58.219618",
     "exception": false,
     "start_time": "2021-12-19T09:15:58.147958",
     "status": "completed"
    },
    "tags": []
   },
   "outputs": [
    {
     "name": "stdout",
     "output_type": "stream",
     "text": [
      "ValueError: Can't convert non-rectangular Python sequence to Tensor.\n"
     ]
    }
   ],
   "source": [
    "# In TensorFlow\n",
    "try:\n",
    "    tf.constant(ids)\n",
    "except ValueError as e:\n",
    "    print('ValueError:', e)"
   ]
  },
  {
   "cell_type": "code",
   "execution_count": 16,
   "id": "630a89f2",
   "metadata": {
    "execution": {
     "iopub.execute_input": "2021-12-19T09:15:58.328178Z",
     "iopub.status.busy": "2021-12-19T09:15:58.327126Z",
     "iopub.status.idle": "2021-12-19T09:15:58.333484Z",
     "shell.execute_reply": "2021-12-19T09:15:58.332403Z",
     "shell.execute_reply.started": "2021-11-18T07:38:52.785334Z"
    },
    "papermill": {
     "duration": 0.06592,
     "end_time": "2021-12-19T09:15:58.333815",
     "exception": false,
     "start_time": "2021-12-19T09:15:58.267895",
     "status": "completed"
    },
    "tags": []
   },
   "outputs": [
    {
     "name": "stdout",
     "output_type": "stream",
     "text": [
      "ValueError: expected sequence of length 11 at dim 1 (got 7)\n"
     ]
    }
   ],
   "source": [
    "# In PyTorch\n",
    "try:\n",
    "    torch.tensor(ids)\n",
    "except ValueError as e:\n",
    "    print('ValueError:', e)"
   ]
  },
  {
   "cell_type": "markdown",
   "id": "fa437da3",
   "metadata": {
    "papermill": {
     "duration": 0.048928,
     "end_time": "2021-12-19T09:15:58.434390",
     "exception": false,
     "start_time": "2021-12-19T09:15:58.385462",
     "status": "completed"
    },
    "tags": []
   },
   "source": [
    "Let's do padding manually to have ids of equal length"
   ]
  },
  {
   "cell_type": "code",
   "execution_count": 17,
   "id": "507726fd",
   "metadata": {
    "execution": {
     "iopub.execute_input": "2021-12-19T09:15:58.542964Z",
     "iopub.status.busy": "2021-12-19T09:15:58.542217Z",
     "iopub.status.idle": "2021-12-19T09:15:58.546647Z",
     "shell.execute_reply": "2021-12-19T09:15:58.546115Z",
     "shell.execute_reply.started": "2021-11-18T07:38:52.807622Z"
    },
    "papermill": {
     "duration": 0.062257,
     "end_time": "2021-12-19T09:15:58.546790",
     "exception": false,
     "start_time": "2021-12-19T09:15:58.484533",
     "status": "completed"
    },
    "tags": []
   },
   "outputs": [
    {
     "name": "stdout",
     "output_type": "stream",
     "text": [
      "11\n"
     ]
    },
    {
     "data": {
      "text/plain": [
       "array([[6542,  117, 1191, 1122,  112,  188, 2029,  117, 1725, 1136,  136],\n",
       "       [ 146, 1309, 1163,  146, 5687, 2256,  119,    0,    0,    0,    0],\n",
       "       [5055, 1172, 1106, 1412, 2301,  119,    0,    0,    0,    0,    0]])"
      ]
     },
     "execution_count": 17,
     "metadata": {},
     "output_type": "execute_result"
    }
   ],
   "source": [
    "max_len = len(max(ids, key=len))\n",
    "print(max_len)\n",
    "rectangular_ids = [i + [0]*(max_len-len(i)) for i in ids]\n",
    "np.array(rectangular_ids)"
   ]
  },
  {
   "cell_type": "markdown",
   "id": "8c78478d",
   "metadata": {
    "papermill": {
     "duration": 0.049082,
     "end_time": "2021-12-19T09:15:58.646130",
     "exception": false,
     "start_time": "2021-12-19T09:15:58.597048",
     "status": "completed"
    },
    "tags": []
   },
   "source": [
    "We have successfully padded short sentences. Now they are ready to be converted into tensors, and make predictions."
   ]
  },
  {
   "cell_type": "code",
   "execution_count": 18,
   "id": "85edc4c3",
   "metadata": {
    "execution": {
     "iopub.execute_input": "2021-12-19T09:15:58.752041Z",
     "iopub.status.busy": "2021-12-19T09:15:58.751346Z",
     "iopub.status.idle": "2021-12-19T09:15:58.753088Z",
     "shell.execute_reply": "2021-12-19T09:15:58.753693Z",
     "shell.execute_reply.started": "2021-11-18T07:38:52.825825Z"
    },
    "papermill": {
     "duration": 0.057215,
     "end_time": "2021-12-19T09:15:58.753865",
     "exception": false,
     "start_time": "2021-12-19T09:15:58.696650",
     "status": "completed"
    },
    "tags": []
   },
   "outputs": [],
   "source": [
    "# In TensorFlow\n",
    "# We can have three different tensors for three sentences\n",
    "tf_individual_tensors = [tf.constant([i]) for i in ids]\n",
    "# We can have one tensor containing three sentences\n",
    "tf_batched_tensors = tf.constant(rectangular_ids)"
   ]
  },
  {
   "cell_type": "code",
   "execution_count": 19,
   "id": "e56a36f7",
   "metadata": {
    "execution": {
     "iopub.execute_input": "2021-12-19T09:15:58.859081Z",
     "iopub.status.busy": "2021-12-19T09:15:58.858406Z",
     "iopub.status.idle": "2021-12-19T09:15:58.862785Z",
     "shell.execute_reply": "2021-12-19T09:15:58.863345Z",
     "shell.execute_reply.started": "2021-11-18T07:38:52.834443Z"
    },
    "papermill": {
     "duration": 0.059412,
     "end_time": "2021-12-19T09:15:58.863535",
     "exception": false,
     "start_time": "2021-12-19T09:15:58.804123",
     "status": "completed"
    },
    "tags": []
   },
   "outputs": [],
   "source": [
    "# In PyTotch\n",
    "# We can have three different tensors for three sentences\n",
    "pt_individual_tensors = [torch.tensor([i]) for i in ids]\n",
    "# We can have one tensor containing three sentences\n",
    "pt_batched_tensors = torch.tensor(rectangular_ids)"
   ]
  },
  {
   "cell_type": "markdown",
   "id": "d4bc4e3f",
   "metadata": {
    "papermill": {
     "duration": 0.051864,
     "end_time": "2021-12-19T09:15:58.967645",
     "exception": false,
     "start_time": "2021-12-19T09:15:58.915781",
     "status": "completed"
    },
    "tags": []
   },
   "source": [
    "# Issue #3 Attention Masking\n",
    "\n",
    "We have altered some inputs to match length of longest input. Will it affect the prediction?"
   ]
  },
  {
   "cell_type": "code",
   "execution_count": 20,
   "id": "5e8b1fc8",
   "metadata": {
    "execution": {
     "iopub.execute_input": "2021-12-19T09:15:59.074992Z",
     "iopub.status.busy": "2021-12-19T09:15:59.074333Z",
     "iopub.status.idle": "2021-12-19T09:15:59.812007Z",
     "shell.execute_reply": "2021-12-19T09:15:59.810314Z",
     "shell.execute_reply.started": "2021-11-18T07:38:52.848199Z"
    },
    "papermill": {
     "duration": 0.792191,
     "end_time": "2021-12-19T09:15:59.812216",
     "exception": false,
     "start_time": "2021-12-19T09:15:59.020025",
     "status": "completed"
    },
    "tags": []
   },
   "outputs": [
    {
     "name": "stdout",
     "output_type": "stream",
     "text": [
      "predict individual tensors\n",
      "[[-0.533927    0.02726544]]\n",
      "[[-0.3758095  0.1972964]]\n",
      "[[-0.34865278  0.14514713]]\n",
      "predict batched tensors\n",
      "[[-0.5339269   0.02726543]\n",
      " [-0.46882713  0.02681333]\n",
      " [-0.4703202   0.04923887]]\n"
     ]
    }
   ],
   "source": [
    "# In TensorFlow\n",
    "print(\"predict individual tensors\")\n",
    "for tensor in tf_individual_tensors:\n",
    "    print(tf_model(tensor).logits.numpy())\n",
    "    \n",
    "print(\"predict batched tensors\")\n",
    "print(tf_model(tf_batched_tensors).logits.numpy())"
   ]
  },
  {
   "cell_type": "code",
   "execution_count": 21,
   "id": "4da80896",
   "metadata": {
    "execution": {
     "iopub.execute_input": "2021-12-19T09:15:59.922218Z",
     "iopub.status.busy": "2021-12-19T09:15:59.921000Z",
     "iopub.status.idle": "2021-12-19T09:16:00.206969Z",
     "shell.execute_reply": "2021-12-19T09:16:00.206069Z",
     "shell.execute_reply.started": "2021-11-18T07:38:53.573704Z"
    },
    "papermill": {
     "duration": 0.342988,
     "end_time": "2021-12-19T09:16:00.207165",
     "exception": false,
     "start_time": "2021-12-19T09:15:59.864177",
     "status": "completed"
    },
    "tags": []
   },
   "outputs": [
    {
     "name": "stdout",
     "output_type": "stream",
     "text": [
      "predict individual tensors\n",
      "[[-0.36821926 -0.41824853]]\n",
      "[[-0.55537057  0.17383558]]\n",
      "[[-0.5711603   0.28696358]]\n",
      "predict batched tensors\n",
      "[[-0.36821926 -0.41824862]\n",
      " [-0.3734094  -0.30911833]\n",
      " [-0.49477753  0.0513556 ]]\n"
     ]
    }
   ],
   "source": [
    "# In PyTorch\n",
    "print(\"predict individual tensors\")\n",
    "for tensor in pt_individual_tensors:\n",
    "    print(pt_model(tensor).logits.detach().numpy())\n",
    "    \n",
    "print(\"predict batched tensors\")\n",
    "print(pt_model(pt_batched_tensors).logits.detach().numpy())"
   ]
  },
  {
   "cell_type": "markdown",
   "id": "4174ca68",
   "metadata": {
    "papermill": {
     "duration": 0.052414,
     "end_time": "2021-12-19T09:16:00.313254",
     "exception": false,
     "start_time": "2021-12-19T09:16:00.260840",
     "status": "completed"
    },
    "tags": []
   },
   "source": [
    "That's not good! When the first sentence attain same prediction as individual tensor and with the batched tensor, the next two sentences do have variations in logits values. It is the direct cause of padding.\n",
    "\n",
    "We know that we have padded the last sentences with zeros, but can our model know this and how can it handle the original input by truncating the padded values?\n",
    "\n",
    "Yes. Attenstion Masking emerges as the solution."
   ]
  },
  {
   "cell_type": "code",
   "execution_count": 22,
   "id": "7729a9be",
   "metadata": {
    "execution": {
     "iopub.execute_input": "2021-12-19T09:16:00.425986Z",
     "iopub.status.busy": "2021-12-19T09:16:00.425192Z",
     "iopub.status.idle": "2021-12-19T09:16:00.428959Z",
     "shell.execute_reply": "2021-12-19T09:16:00.428413Z",
     "shell.execute_reply.started": "2021-11-18T07:38:53.864721Z"
    },
    "papermill": {
     "duration": 0.062011,
     "end_time": "2021-12-19T09:16:00.429099",
     "exception": false,
     "start_time": "2021-12-19T09:16:00.367088",
     "status": "completed"
    },
    "tags": []
   },
   "outputs": [
    {
     "data": {
      "text/plain": [
       "array([[1, 1, 1, 1, 1, 1, 1, 1, 1, 1, 1],\n",
       "       [1, 1, 1, 1, 1, 1, 1, 0, 0, 0, 0],\n",
       "       [1, 1, 1, 1, 1, 1, 0, 0, 0, 0, 0]])"
      ]
     },
     "execution_count": 22,
     "metadata": {},
     "output_type": "execute_result"
    }
   ],
   "source": [
    "mask = np.zeros_like(rectangular_ids)\n",
    "for i in range(len(ids)):\n",
    "    # add 1 where there are elements in ids, leaving other positions with 0\n",
    "    mask[i][:len(ids[i])] = 1\n",
    "mask"
   ]
  },
  {
   "cell_type": "markdown",
   "id": "712a6a30",
   "metadata": {
    "papermill": {
     "duration": 0.052431,
     "end_time": "2021-12-19T09:16:00.533634",
     "exception": false,
     "start_time": "2021-12-19T09:16:00.481203",
     "status": "completed"
    },
    "tags": []
   },
   "source": [
    "We have our attention mask now. Let's try making predictions agian."
   ]
  },
  {
   "cell_type": "code",
   "execution_count": 23,
   "id": "234ac64b",
   "metadata": {
    "execution": {
     "iopub.execute_input": "2021-12-19T09:16:00.639719Z",
     "iopub.status.busy": "2021-12-19T09:16:00.639044Z",
     "iopub.status.idle": "2021-12-19T09:16:01.371780Z",
     "shell.execute_reply": "2021-12-19T09:16:01.370463Z",
     "shell.execute_reply.started": "2021-11-18T07:38:53.873334Z"
    },
    "papermill": {
     "duration": 0.786853,
     "end_time": "2021-12-19T09:16:01.372043",
     "exception": false,
     "start_time": "2021-12-19T09:16:00.585190",
     "status": "completed"
    },
    "tags": []
   },
   "outputs": [
    {
     "name": "stdout",
     "output_type": "stream",
     "text": [
      "predict individual tensors\n",
      "[[-0.533927    0.02726544]]\n",
      "[[-0.3758095  0.1972964]]\n",
      "[[-0.34865278  0.14514713]]\n",
      "predict batched tensors with masks\n",
      "[[-0.5339269   0.02726543]\n",
      " [-0.37580946  0.19729649]\n",
      " [-0.34865278  0.14514753]]\n"
     ]
    }
   ],
   "source": [
    "# In TensorFlow\n",
    "print(\"predict individual tensors\")\n",
    "for tensor in tf_individual_tensors:\n",
    "    print(tf_model(tensor).logits.numpy())\n",
    "    \n",
    "print(\"predict batched tensors with masks\")\n",
    "print(tf_model(tf_batched_tensors, \n",
    "               attention_mask=tf.constant(mask)).logits.numpy())"
   ]
  },
  {
   "cell_type": "code",
   "execution_count": 24,
   "id": "6db5d79a",
   "metadata": {
    "execution": {
     "iopub.execute_input": "2021-12-19T09:16:01.485476Z",
     "iopub.status.busy": "2021-12-19T09:16:01.483487Z",
     "iopub.status.idle": "2021-12-19T09:16:01.763738Z",
     "shell.execute_reply": "2021-12-19T09:16:01.764243Z",
     "shell.execute_reply.started": "2021-11-18T07:38:54.625947Z"
    },
    "papermill": {
     "duration": 0.338348,
     "end_time": "2021-12-19T09:16:01.764437",
     "exception": false,
     "start_time": "2021-12-19T09:16:01.426089",
     "status": "completed"
    },
    "tags": []
   },
   "outputs": [
    {
     "name": "stdout",
     "output_type": "stream",
     "text": [
      "predict individual tensors\n",
      "[[-0.36821926 -0.41824853]]\n",
      "[[-0.55537057  0.17383558]]\n",
      "[[-0.5711603   0.28696358]]\n",
      "predict batched tensors with mask\n",
      "[[-0.36821926 -0.41824862]\n",
      " [-0.5553706   0.17383553]\n",
      " [-0.5711604   0.28696287]]\n"
     ]
    }
   ],
   "source": [
    "# In PyTorch\n",
    "print(\"predict individual tensors\")\n",
    "for tensor in pt_individual_tensors:\n",
    "    print(pt_model(tensor).logits.detach().numpy())\n",
    "    \n",
    "print(\"predict batched tensors with mask\")\n",
    "print(pt_model(pt_batched_tensors, \n",
    "               attention_mask=torch.tensor(mask)).logits.detach().numpy())"
   ]
  },
  {
   "cell_type": "markdown",
   "id": "25abd514",
   "metadata": {
    "papermill": {
     "duration": 0.054493,
     "end_time": "2021-12-19T09:16:01.875799",
     "exception": false,
     "start_time": "2021-12-19T09:16:01.821306",
     "status": "completed"
    },
    "tags": []
   },
   "source": [
    "That's Fantastic. Our predictions are identical with either individual ids or batched ids!"
   ]
  },
  {
   "cell_type": "markdown",
   "id": "146e02a9",
   "metadata": {
    "papermill": {
     "duration": 0.054854,
     "end_time": "2021-12-19T09:16:01.984331",
     "exception": false,
     "start_time": "2021-12-19T09:16:01.929477",
     "status": "completed"
    },
    "tags": []
   },
   "source": [
    "# Issue #5 Truncating"
   ]
  },
  {
   "cell_type": "markdown",
   "id": "e19bc449",
   "metadata": {
    "papermill": {
     "duration": 0.052418,
     "end_time": "2021-12-19T09:16:02.091113",
     "exception": false,
     "start_time": "2021-12-19T09:16:02.038695",
     "status": "completed"
    },
    "tags": []
   },
   "source": [
    "Is there a maximum permissible length of inputs to a model? \n",
    "Yes. If it goes beyond the limit, model could not process it. "
   ]
  },
  {
   "cell_type": "code",
   "execution_count": 25,
   "id": "ba668082",
   "metadata": {
    "execution": {
     "iopub.execute_input": "2021-12-19T09:16:02.211342Z",
     "iopub.status.busy": "2021-12-19T09:16:02.210663Z",
     "iopub.status.idle": "2021-12-19T09:16:02.217352Z",
     "shell.execute_reply": "2021-12-19T09:16:02.216685Z",
     "shell.execute_reply.started": "2021-11-18T07:38:54.898739Z"
    },
    "papermill": {
     "duration": 0.073127,
     "end_time": "2021-12-19T09:16:02.217498",
     "exception": false,
     "start_time": "2021-12-19T09:16:02.144371",
     "status": "completed"
    },
    "tags": []
   },
   "outputs": [
    {
     "data": {
      "text/plain": [
       "\"I think that’s on them though. I stopped drinking for like 2 years or so just from health issues and didn’t want to risk anything happening. My friends were pretty supportive and I still had a lot of fun going out with them. I drink every now and then in moderation but i don’t get judged if I’m not drinking. I do agree that it can help and it’s really fun to get a few beers with friends after a long week, but it’s not always necessary to drink if you go out. I ain’t trying to change your mind because I’ll say that thank god someone actually thinks like this. I am currently in high school and I live in a city where many people above the age of 13 or 14 drink every week and some people even every day. They also take drugs like ecstasy and shit, along with the occasional marijuana cigarette. Can’t tell you how many times people are trying to get me to go to parties where they do this shit. They go with the “ it’s not that bad!” “ it’s just fun!”. Can’t wait till I never see those people again.  Just wait until OP finds out it's not just unpaid internships. You’ve mentioned that the particulars of the person or situation don’t matter but here is an extreme situation based on sadly common real life events: a person in an abusive relationship was told by their partner that they could not drink or wear certain clothes because they would “embarrass themselves.” In this instance, avoiding alcohol with the abused partner, whose normal alcohol intake was previously 1-2 drinks with other individuals who were also recreationally drinking and no solo drinking, would be complicit in engaging with the abusive partner’s controlling demands. This is a tricky situation - a morally gray area - where the assumptions underlying the drinking are particularly salient. In this case, offering a sip or one drink may be a fast way to challenge some of the assumptions underlying the refusal as well as model that the abusive partner does not necessarily control others’ behaviors.  Depends on the situation. Office party? Agreed. Someone you barely know? Agreed.\\n\\nBut it also depends on your culture. The norm in some cultures require the guest to first refuse several times before finally giving in and accepting. The host is expected to continue to offer and attempt to convince the guest until they accept. The guest in these situations often wants to drink, but must be polite and first refuse. This is especially true if the guest is a woman. It would be seen as rude or stingy for the host not to ask the guest several times if they would want a drink.\\n\\nSo what you see as pestering is, for the host, a social/cultural obligation. pestering someone into doing any kind of drug is reprehensible no matter what it is\""
      ]
     },
     "execution_count": 25,
     "metadata": {},
     "output_type": "execute_result"
    }
   ],
   "source": [
    "# merge some texts to formulate a big text\n",
    "text = data.loc[1083:1088,'txt'].to_list()\n",
    "text = ' '.join(text)\n",
    "text"
   ]
  },
  {
   "cell_type": "code",
   "execution_count": 26,
   "id": "b644f6cd",
   "metadata": {
    "execution": {
     "iopub.execute_input": "2021-12-19T09:16:02.381706Z",
     "iopub.status.busy": "2021-12-19T09:16:02.380746Z",
     "iopub.status.idle": "2021-12-19T09:16:02.390137Z",
     "shell.execute_reply": "2021-12-19T09:16:02.389541Z",
     "shell.execute_reply.started": "2021-11-18T07:38:54.907065Z"
    },
    "papermill": {
     "duration": 0.111925,
     "end_time": "2021-12-19T09:16:02.390310",
     "exception": false,
     "start_time": "2021-12-19T09:16:02.278385",
     "status": "completed"
    },
    "tags": []
   },
   "outputs": [
    {
     "name": "stderr",
     "output_type": "stream",
     "text": [
      "Token indices sequence length is longer than the specified maximum sequence length for this model (598 > 512). Running this sequence through the model will result in indexing errors\n"
     ]
    }
   ],
   "source": [
    "tokens = tokenizer.tokenize(text)\n",
    "ids = tokenizer.convert_tokens_to_ids(tokens)"
   ]
  },
  {
   "cell_type": "markdown",
   "id": "da39a976",
   "metadata": {
    "papermill": {
     "duration": 0.059465,
     "end_time": "2021-12-19T09:16:02.507318",
     "exception": false,
     "start_time": "2021-12-19T09:16:02.447853",
     "status": "completed"
    },
    "tags": []
   },
   "source": [
    "Great. We get the warning from the tokenizer beforehand!"
   ]
  },
  {
   "cell_type": "code",
   "execution_count": 27,
   "id": "63c33d4a",
   "metadata": {
    "execution": {
     "iopub.execute_input": "2021-12-19T09:16:02.632135Z",
     "iopub.status.busy": "2021-12-19T09:16:02.631473Z",
     "iopub.status.idle": "2021-12-19T09:16:02.639248Z",
     "shell.execute_reply": "2021-12-19T09:16:02.638155Z",
     "shell.execute_reply.started": "2021-11-18T07:38:54.92288Z"
    },
    "papermill": {
     "duration": 0.07473,
     "end_time": "2021-12-19T09:16:02.639531",
     "exception": false,
     "start_time": "2021-12-19T09:16:02.564801",
     "status": "completed"
    },
    "tags": []
   },
   "outputs": [
    {
     "name": "stdout",
     "output_type": "stream",
     "text": [
      "<class 'tensorflow.python.framework.errors_impl.InvalidArgumentError'>\n",
      "Error: indices[0,570] = 570 is not in [0, 512) [Op:ResourceGather]\n"
     ]
    }
   ],
   "source": [
    "# In TensorFlow\n",
    "try:\n",
    "    print(tf_model(tf.constant([ids])).logits.numpy())\n",
    "except Exception as e:\n",
    "    print(type(e))\n",
    "    print('Error:', e) "
   ]
  },
  {
   "cell_type": "code",
   "execution_count": 28,
   "id": "17a149c6",
   "metadata": {
    "execution": {
     "iopub.execute_input": "2021-12-19T09:16:02.761224Z",
     "iopub.status.busy": "2021-12-19T09:16:02.760193Z",
     "iopub.status.idle": "2021-12-19T09:16:02.860918Z",
     "shell.execute_reply": "2021-12-19T09:16:02.860100Z",
     "shell.execute_reply.started": "2021-11-18T07:38:54.939996Z"
    },
    "papermill": {
     "duration": 0.162858,
     "end_time": "2021-12-19T09:16:02.861070",
     "exception": false,
     "start_time": "2021-12-19T09:16:02.698212",
     "status": "completed"
    },
    "tags": []
   },
   "outputs": [
    {
     "name": "stdout",
     "output_type": "stream",
     "text": [
      "<class 'RuntimeError'>\n",
      "Error: The size of tensor a (598) must match the size of tensor b (512) at non-singleton dimension 1\n"
     ]
    }
   ],
   "source": [
    "# In PyTorch\n",
    "try:\n",
    "    print(pt_model(torch.tensor([ids])).logits.detach().numpy())\n",
    "except Exception as e:\n",
    "    print(type(e))\n",
    "    print('Error:', e) "
   ]
  },
  {
   "cell_type": "markdown",
   "id": "41368960",
   "metadata": {
    "papermill": {
     "duration": 0.058567,
     "end_time": "2021-12-19T09:16:02.978047",
     "exception": false,
     "start_time": "2021-12-19T09:16:02.919480",
     "status": "completed"
    },
    "tags": []
   },
   "source": [
    "There we must go with Truncating the extra length of input tensors."
   ]
  },
  {
   "cell_type": "code",
   "execution_count": 29,
   "id": "44b17214",
   "metadata": {
    "execution": {
     "iopub.execute_input": "2021-12-19T09:16:03.099879Z",
     "iopub.status.busy": "2021-12-19T09:16:03.099024Z",
     "iopub.status.idle": "2021-12-19T09:16:03.102599Z",
     "shell.execute_reply": "2021-12-19T09:16:03.103075Z",
     "shell.execute_reply.started": "2021-11-18T07:38:54.976342Z"
    },
    "papermill": {
     "duration": 0.067012,
     "end_time": "2021-12-19T09:16:03.103242",
     "exception": false,
     "start_time": "2021-12-19T09:16:03.036230",
     "status": "completed"
    },
    "tags": []
   },
   "outputs": [
    {
     "name": "stdout",
     "output_type": "stream",
     "text": [
      "Length of input ids before truncation: 598\n",
      "Length of input ids after truncation: 512\n"
     ]
    }
   ],
   "source": [
    "print('Length of input ids before truncation:', len(ids))\n",
    "# This BERT model accepts sequence ids of length up to 512\n",
    "ids = ids[:512]\n",
    "print('Length of input ids after truncation:', len(ids))"
   ]
  },
  {
   "cell_type": "markdown",
   "id": "d81627b5",
   "metadata": {
    "papermill": {
     "duration": 0.058724,
     "end_time": "2021-12-19T09:16:03.219849",
     "exception": false,
     "start_time": "2021-12-19T09:16:03.161125",
     "status": "completed"
    },
    "tags": []
   },
   "source": [
    "So far, we have dealt with the issues of tokenization and the remedial actions for each issue. \n",
    "HuggingFace's tokenizers can handle all these issues in one line on its own with a couple of arguments."
   ]
  },
  {
   "cell_type": "code",
   "execution_count": 30,
   "id": "04aaf6de",
   "metadata": {
    "execution": {
     "iopub.execute_input": "2021-12-19T09:16:03.338745Z",
     "iopub.status.busy": "2021-12-19T09:16:03.337713Z",
     "iopub.status.idle": "2021-12-19T09:16:03.365641Z",
     "shell.execute_reply": "2021-12-19T09:16:03.364794Z",
     "shell.execute_reply.started": "2021-11-18T07:38:54.983412Z"
    },
    "papermill": {
     "duration": 0.090016,
     "end_time": "2021-12-19T09:16:03.365815",
     "exception": false,
     "start_time": "2021-12-19T09:16:03.275799",
     "status": "completed"
    },
    "tags": []
   },
   "outputs": [
    {
     "name": "stdout",
     "output_type": "stream",
     "text": [
      "Number of Examples:  64\n",
      "dict_keys(['input_ids', 'token_type_ids', 'attention_mask'])\n",
      "dict_keys(['input_ids', 'token_type_ids', 'attention_mask'])\n"
     ]
    }
   ],
   "source": [
    "# extract the first 64 texts\n",
    "texts = data.txt.to_list()[:64]\n",
    "print('Number of Examples: ', len(texts))\n",
    "# tensorflow tensors\n",
    "tf_inputs = tokenizer(texts, padding='longest', truncation=True, return_tensors='tf')\n",
    "# pytorch tensors\n",
    "pt_inputs = tokenizer(texts, padding='longest', truncation=True, return_tensors='pt')\n",
    "\n",
    "print(tf_inputs.keys())\n",
    "print(pt_inputs.keys())"
   ]
  },
  {
   "cell_type": "markdown",
   "id": "1ae8e9a6",
   "metadata": {
    "papermill": {
     "duration": 0.055982,
     "end_time": "2021-12-19T09:16:03.478870",
     "exception": false,
     "start_time": "2021-12-19T09:16:03.422888",
     "status": "completed"
    },
    "tags": []
   },
   "source": [
    "A direct call on tokenizer performs all the duties including attention masks without any hazzle. Let's do modeling with this data."
   ]
  },
  {
   "cell_type": "code",
   "execution_count": 31,
   "id": "5e75d1e3",
   "metadata": {
    "execution": {
     "iopub.execute_input": "2021-12-19T09:16:03.617763Z",
     "iopub.status.busy": "2021-12-19T09:16:03.617075Z",
     "iopub.status.idle": "2021-12-19T09:16:30.680649Z",
     "shell.execute_reply": "2021-12-19T09:16:30.681239Z",
     "shell.execute_reply.started": "2021-11-18T07:38:55.017878Z"
    },
    "papermill": {
     "duration": 27.129195,
     "end_time": "2021-12-19T09:16:30.681412",
     "exception": false,
     "start_time": "2021-12-19T09:16:03.552217",
     "status": "completed"
    },
    "tags": []
   },
   "outputs": [
    {
     "data": {
      "text/plain": [
       "(64, 2)"
      ]
     },
     "execution_count": 31,
     "metadata": {},
     "output_type": "execute_result"
    }
   ],
   "source": [
    "# In TensorFlow\n",
    "results = tf_model(**tf_inputs).logits.numpy()\n",
    "results.shape"
   ]
  },
  {
   "cell_type": "code",
   "execution_count": 32,
   "id": "149875bf",
   "metadata": {
    "execution": {
     "iopub.execute_input": "2021-12-19T09:16:30.797528Z",
     "iopub.status.busy": "2021-12-19T09:16:30.796537Z",
     "iopub.status.idle": "2021-12-19T09:16:54.548328Z",
     "shell.execute_reply": "2021-12-19T09:16:54.547453Z",
     "shell.execute_reply.started": "2021-11-18T07:39:20.061504Z"
    },
    "papermill": {
     "duration": 23.810982,
     "end_time": "2021-12-19T09:16:54.548477",
     "exception": false,
     "start_time": "2021-12-19T09:16:30.737495",
     "status": "completed"
    },
    "tags": []
   },
   "outputs": [
    {
     "data": {
      "text/plain": [
       "(64, 2)"
      ]
     },
     "execution_count": 32,
     "metadata": {},
     "output_type": "execute_result"
    }
   ],
   "source": [
    "# In PyTorch\n",
    "results = pt_model(**pt_inputs).logits.detach().numpy()\n",
    "results.shape"
   ]
  },
  {
   "cell_type": "markdown",
   "id": "ab2d80a7",
   "metadata": {
    "papermill": {
     "duration": 0.058624,
     "end_time": "2021-12-19T09:16:54.664837",
     "exception": false,
     "start_time": "2021-12-19T09:16:54.606213",
     "status": "completed"
    },
    "tags": []
   },
   "source": [
    "### That's the end. We get a good understanding of HF's Tokenizers\n",
    "\n",
    "Key reference: [HuggingFace's NLP Course](https://huggingface.co/course)"
   ]
  },
  {
   "cell_type": "markdown",
   "id": "db9e2eea",
   "metadata": {
    "papermill": {
     "duration": 0.056995,
     "end_time": "2021-12-19T09:16:54.779857",
     "exception": false,
     "start_time": "2021-12-19T09:16:54.722862",
     "status": "completed"
    },
    "tags": []
   },
   "source": [
    "### Thank you for your valuable time!"
   ]
  }
 ],
 "metadata": {
  "kernelspec": {
   "display_name": "Python 3",
   "language": "python",
   "name": "python3"
  },
  "language_info": {
   "codemirror_mode": {
    "name": "ipython",
    "version": 3
   },
   "file_extension": ".py",
   "mimetype": "text/x-python",
   "name": "python",
   "nbconvert_exporter": "python",
   "pygments_lexer": "ipython3",
   "version": "3.7.10"
  },
  "papermill": {
   "default_parameters": {},
   "duration": 118.930484,
   "end_time": "2021-12-19T09:16:58.382582",
   "environment_variables": {},
   "exception": null,
   "input_path": "__notebook__.ipynb",
   "output_path": "__notebook__.ipynb",
   "parameters": {},
   "start_time": "2021-12-19T09:14:59.452098",
   "version": "2.3.3"
  },
  "widgets": {
   "application/vnd.jupyter.widget-state+json": {
    "state": {
     "0bdf761f3c80401c8f3983f917bfc921": {
      "model_module": "@jupyter-widgets/base",
      "model_module_version": "1.2.0",
      "model_name": "LayoutModel",
      "state": {
       "_model_module": "@jupyter-widgets/base",
       "_model_module_version": "1.2.0",
       "_model_name": "LayoutModel",
       "_view_count": null,
       "_view_module": "@jupyter-widgets/base",
       "_view_module_version": "1.2.0",
       "_view_name": "LayoutView",
       "align_content": null,
       "align_items": null,
       "align_self": null,
       "border": null,
       "bottom": null,
       "display": null,
       "flex": null,
       "flex_flow": null,
       "grid_area": null,
       "grid_auto_columns": null,
       "grid_auto_flow": null,
       "grid_auto_rows": null,
       "grid_column": null,
       "grid_gap": null,
       "grid_row": null,
       "grid_template_areas": null,
       "grid_template_columns": null,
       "grid_template_rows": null,
       "height": null,
       "justify_content": null,
       "justify_items": null,
       "left": null,
       "margin": null,
       "max_height": null,
       "max_width": null,
       "min_height": null,
       "min_width": null,
       "object_fit": null,
       "object_position": null,
       "order": null,
       "overflow": null,
       "overflow_x": null,
       "overflow_y": null,
       "padding": null,
       "right": null,
       "top": null,
       "visibility": null,
       "width": null
      }
     },
     "11fe2456e5784aedae81ded3ec31e71d": {
      "model_module": "@jupyter-widgets/controls",
      "model_module_version": "1.5.0",
      "model_name": "ProgressStyleModel",
      "state": {
       "_model_module": "@jupyter-widgets/controls",
       "_model_module_version": "1.5.0",
       "_model_name": "ProgressStyleModel",
       "_view_count": null,
       "_view_module": "@jupyter-widgets/base",
       "_view_module_version": "1.2.0",
       "_view_name": "StyleView",
       "bar_color": null,
       "description_width": ""
      }
     },
     "124e724fb74242bc8aed1a7519e1405e": {
      "model_module": "@jupyter-widgets/base",
      "model_module_version": "1.2.0",
      "model_name": "LayoutModel",
      "state": {
       "_model_module": "@jupyter-widgets/base",
       "_model_module_version": "1.2.0",
       "_model_name": "LayoutModel",
       "_view_count": null,
       "_view_module": "@jupyter-widgets/base",
       "_view_module_version": "1.2.0",
       "_view_name": "LayoutView",
       "align_content": null,
       "align_items": null,
       "align_self": null,
       "border": null,
       "bottom": null,
       "display": null,
       "flex": null,
       "flex_flow": null,
       "grid_area": null,
       "grid_auto_columns": null,
       "grid_auto_flow": null,
       "grid_auto_rows": null,
       "grid_column": null,
       "grid_gap": null,
       "grid_row": null,
       "grid_template_areas": null,
       "grid_template_columns": null,
       "grid_template_rows": null,
       "height": null,
       "justify_content": null,
       "justify_items": null,
       "left": null,
       "margin": null,
       "max_height": null,
       "max_width": null,
       "min_height": null,
       "min_width": null,
       "object_fit": null,
       "object_position": null,
       "order": null,
       "overflow": null,
       "overflow_x": null,
       "overflow_y": null,
       "padding": null,
       "right": null,
       "top": null,
       "visibility": null,
       "width": null
      }
     },
     "12ee14d7f9654b93b7ff67453fcc964b": {
      "model_module": "@jupyter-widgets/controls",
      "model_module_version": "1.5.0",
      "model_name": "DescriptionStyleModel",
      "state": {
       "_model_module": "@jupyter-widgets/controls",
       "_model_module_version": "1.5.0",
       "_model_name": "DescriptionStyleModel",
       "_view_count": null,
       "_view_module": "@jupyter-widgets/base",
       "_view_module_version": "1.2.0",
       "_view_name": "StyleView",
       "description_width": ""
      }
     },
     "203b3a8fe18f4bc59d54c03b65e6be0b": {
      "model_module": "@jupyter-widgets/base",
      "model_module_version": "1.2.0",
      "model_name": "LayoutModel",
      "state": {
       "_model_module": "@jupyter-widgets/base",
       "_model_module_version": "1.2.0",
       "_model_name": "LayoutModel",
       "_view_count": null,
       "_view_module": "@jupyter-widgets/base",
       "_view_module_version": "1.2.0",
       "_view_name": "LayoutView",
       "align_content": null,
       "align_items": null,
       "align_self": null,
       "border": null,
       "bottom": null,
       "display": null,
       "flex": null,
       "flex_flow": null,
       "grid_area": null,
       "grid_auto_columns": null,
       "grid_auto_flow": null,
       "grid_auto_rows": null,
       "grid_column": null,
       "grid_gap": null,
       "grid_row": null,
       "grid_template_areas": null,
       "grid_template_columns": null,
       "grid_template_rows": null,
       "height": null,
       "justify_content": null,
       "justify_items": null,
       "left": null,
       "margin": null,
       "max_height": null,
       "max_width": null,
       "min_height": null,
       "min_width": null,
       "object_fit": null,
       "object_position": null,
       "order": null,
       "overflow": null,
       "overflow_x": null,
       "overflow_y": null,
       "padding": null,
       "right": null,
       "top": null,
       "visibility": null,
       "width": null
      }
     },
     "24837254975143e788e1016a8e64172a": {
      "model_module": "@jupyter-widgets/base",
      "model_module_version": "1.2.0",
      "model_name": "LayoutModel",
      "state": {
       "_model_module": "@jupyter-widgets/base",
       "_model_module_version": "1.2.0",
       "_model_name": "LayoutModel",
       "_view_count": null,
       "_view_module": "@jupyter-widgets/base",
       "_view_module_version": "1.2.0",
       "_view_name": "LayoutView",
       "align_content": null,
       "align_items": null,
       "align_self": null,
       "border": null,
       "bottom": null,
       "display": null,
       "flex": null,
       "flex_flow": null,
       "grid_area": null,
       "grid_auto_columns": null,
       "grid_auto_flow": null,
       "grid_auto_rows": null,
       "grid_column": null,
       "grid_gap": null,
       "grid_row": null,
       "grid_template_areas": null,
       "grid_template_columns": null,
       "grid_template_rows": null,
       "height": null,
       "justify_content": null,
       "justify_items": null,
       "left": null,
       "margin": null,
       "max_height": null,
       "max_width": null,
       "min_height": null,
       "min_width": null,
       "object_fit": null,
       "object_position": null,
       "order": null,
       "overflow": null,
       "overflow_x": null,
       "overflow_y": null,
       "padding": null,
       "right": null,
       "top": null,
       "visibility": null,
       "width": null
      }
     },
     "2686fc861624462db78f9b32870358f1": {
      "model_module": "@jupyter-widgets/controls",
      "model_module_version": "1.5.0",
      "model_name": "ProgressStyleModel",
      "state": {
       "_model_module": "@jupyter-widgets/controls",
       "_model_module_version": "1.5.0",
       "_model_name": "ProgressStyleModel",
       "_view_count": null,
       "_view_module": "@jupyter-widgets/base",
       "_view_module_version": "1.2.0",
       "_view_name": "StyleView",
       "bar_color": null,
       "description_width": ""
      }
     },
     "296e71c68e7140f5818508417c1b2d5e": {
      "model_module": "@jupyter-widgets/controls",
      "model_module_version": "1.5.0",
      "model_name": "HBoxModel",
      "state": {
       "_dom_classes": [],
       "_model_module": "@jupyter-widgets/controls",
       "_model_module_version": "1.5.0",
       "_model_name": "HBoxModel",
       "_view_count": null,
       "_view_module": "@jupyter-widgets/controls",
       "_view_module_version": "1.5.0",
       "_view_name": "HBoxView",
       "box_style": "",
       "children": [
        "IPY_MODEL_b49c38f84be04294914faa6f2f2112c3",
        "IPY_MODEL_7d80b65c0cc04c359152d4e39e283dd8",
        "IPY_MODEL_4adb70dfdb874183a97b8b5a6faa414d"
       ],
       "layout": "IPY_MODEL_b294323b3c1443a0ae1936d2b76780db"
      }
     },
     "2be5725fe96244acbea15bd0e3357a33": {
      "model_module": "@jupyter-widgets/base",
      "model_module_version": "1.2.0",
      "model_name": "LayoutModel",
      "state": {
       "_model_module": "@jupyter-widgets/base",
       "_model_module_version": "1.2.0",
       "_model_name": "LayoutModel",
       "_view_count": null,
       "_view_module": "@jupyter-widgets/base",
       "_view_module_version": "1.2.0",
       "_view_name": "LayoutView",
       "align_content": null,
       "align_items": null,
       "align_self": null,
       "border": null,
       "bottom": null,
       "display": null,
       "flex": null,
       "flex_flow": null,
       "grid_area": null,
       "grid_auto_columns": null,
       "grid_auto_flow": null,
       "grid_auto_rows": null,
       "grid_column": null,
       "grid_gap": null,
       "grid_row": null,
       "grid_template_areas": null,
       "grid_template_columns": null,
       "grid_template_rows": null,
       "height": null,
       "justify_content": null,
       "justify_items": null,
       "left": null,
       "margin": null,
       "max_height": null,
       "max_width": null,
       "min_height": null,
       "min_width": null,
       "object_fit": null,
       "object_position": null,
       "order": null,
       "overflow": null,
       "overflow_x": null,
       "overflow_y": null,
       "padding": null,
       "right": null,
       "top": null,
       "visibility": null,
       "width": null
      }
     },
     "31ddf09da65e47d59535b674d06a0a2d": {
      "model_module": "@jupyter-widgets/base",
      "model_module_version": "1.2.0",
      "model_name": "LayoutModel",
      "state": {
       "_model_module": "@jupyter-widgets/base",
       "_model_module_version": "1.2.0",
       "_model_name": "LayoutModel",
       "_view_count": null,
       "_view_module": "@jupyter-widgets/base",
       "_view_module_version": "1.2.0",
       "_view_name": "LayoutView",
       "align_content": null,
       "align_items": null,
       "align_self": null,
       "border": null,
       "bottom": null,
       "display": null,
       "flex": null,
       "flex_flow": null,
       "grid_area": null,
       "grid_auto_columns": null,
       "grid_auto_flow": null,
       "grid_auto_rows": null,
       "grid_column": null,
       "grid_gap": null,
       "grid_row": null,
       "grid_template_areas": null,
       "grid_template_columns": null,
       "grid_template_rows": null,
       "height": null,
       "justify_content": null,
       "justify_items": null,
       "left": null,
       "margin": null,
       "max_height": null,
       "max_width": null,
       "min_height": null,
       "min_width": null,
       "object_fit": null,
       "object_position": null,
       "order": null,
       "overflow": null,
       "overflow_x": null,
       "overflow_y": null,
       "padding": null,
       "right": null,
       "top": null,
       "visibility": null,
       "width": null
      }
     },
     "346d8bc167114f9da0e04de54bd205b8": {
      "model_module": "@jupyter-widgets/controls",
      "model_module_version": "1.5.0",
      "model_name": "DescriptionStyleModel",
      "state": {
       "_model_module": "@jupyter-widgets/controls",
       "_model_module_version": "1.5.0",
       "_model_name": "DescriptionStyleModel",
       "_view_count": null,
       "_view_module": "@jupyter-widgets/base",
       "_view_module_version": "1.2.0",
       "_view_name": "StyleView",
       "description_width": ""
      }
     },
     "4353e5dddc9749d5a41b39686c936b3a": {
      "model_module": "@jupyter-widgets/base",
      "model_module_version": "1.2.0",
      "model_name": "LayoutModel",
      "state": {
       "_model_module": "@jupyter-widgets/base",
       "_model_module_version": "1.2.0",
       "_model_name": "LayoutModel",
       "_view_count": null,
       "_view_module": "@jupyter-widgets/base",
       "_view_module_version": "1.2.0",
       "_view_name": "LayoutView",
       "align_content": null,
       "align_items": null,
       "align_self": null,
       "border": null,
       "bottom": null,
       "display": null,
       "flex": null,
       "flex_flow": null,
       "grid_area": null,
       "grid_auto_columns": null,
       "grid_auto_flow": null,
       "grid_auto_rows": null,
       "grid_column": null,
       "grid_gap": null,
       "grid_row": null,
       "grid_template_areas": null,
       "grid_template_columns": null,
       "grid_template_rows": null,
       "height": null,
       "justify_content": null,
       "justify_items": null,
       "left": null,
       "margin": null,
       "max_height": null,
       "max_width": null,
       "min_height": null,
       "min_width": null,
       "object_fit": null,
       "object_position": null,
       "order": null,
       "overflow": null,
       "overflow_x": null,
       "overflow_y": null,
       "padding": null,
       "right": null,
       "top": null,
       "visibility": null,
       "width": null
      }
     },
     "46f7214b57b54274976471f4ddb82cfa": {
      "model_module": "@jupyter-widgets/controls",
      "model_module_version": "1.5.0",
      "model_name": "HTMLModel",
      "state": {
       "_dom_classes": [],
       "_model_module": "@jupyter-widgets/controls",
       "_model_module_version": "1.5.0",
       "_model_name": "HTMLModel",
       "_view_count": null,
       "_view_module": "@jupyter-widgets/controls",
       "_view_module_version": "1.5.0",
       "_view_name": "HTMLView",
       "description": "",
       "description_tooltip": null,
       "layout": "IPY_MODEL_7f22a2b56861418a9f3c0568f55a5038",
       "placeholder": "​",
       "style": "IPY_MODEL_dc9657ece97a415e9eb1772f51bdb912",
       "value": " 436M/436M [00:11&lt;00:00, 38.8MB/s]"
      }
     },
     "4865097026ed4296bdd9c55f2edcbcd7": {
      "model_module": "@jupyter-widgets/controls",
      "model_module_version": "1.5.0",
      "model_name": "HTMLModel",
      "state": {
       "_dom_classes": [],
       "_model_module": "@jupyter-widgets/controls",
       "_model_module_version": "1.5.0",
       "_model_name": "HTMLModel",
       "_view_count": null,
       "_view_module": "@jupyter-widgets/controls",
       "_view_module_version": "1.5.0",
       "_view_name": "HTMLView",
       "description": "",
       "description_tooltip": null,
       "layout": "IPY_MODEL_dabe71e248004ae9a666d43fe41538b6",
       "placeholder": "​",
       "style": "IPY_MODEL_820989d7b043481a9eaeb118a5103d3c",
       "value": "Downloading: 100%"
      }
     },
     "4930a4acfb5145df9c0fc358278915c2": {
      "model_module": "@jupyter-widgets/controls",
      "model_module_version": "1.5.0",
      "model_name": "HBoxModel",
      "state": {
       "_dom_classes": [],
       "_model_module": "@jupyter-widgets/controls",
       "_model_module_version": "1.5.0",
       "_model_name": "HBoxModel",
       "_view_count": null,
       "_view_module": "@jupyter-widgets/controls",
       "_view_module_version": "1.5.0",
       "_view_name": "HBoxView",
       "box_style": "",
       "children": [
        "IPY_MODEL_52ed9ba5c3ee44049367ea5acb400dec",
        "IPY_MODEL_de408de6a3ff4ac2a4e5f41578b2cf4f",
        "IPY_MODEL_6b4c4291538e482d90143dee1906b040"
       ],
       "layout": "IPY_MODEL_31ddf09da65e47d59535b674d06a0a2d"
      }
     },
     "4adb70dfdb874183a97b8b5a6faa414d": {
      "model_module": "@jupyter-widgets/controls",
      "model_module_version": "1.5.0",
      "model_name": "HTMLModel",
      "state": {
       "_dom_classes": [],
       "_model_module": "@jupyter-widgets/controls",
       "_model_module_version": "1.5.0",
       "_model_name": "HTMLModel",
       "_view_count": null,
       "_view_module": "@jupyter-widgets/controls",
       "_view_module_version": "1.5.0",
       "_view_name": "HTMLView",
       "description": "",
       "description_tooltip": null,
       "layout": "IPY_MODEL_124e724fb74242bc8aed1a7519e1405e",
       "placeholder": "​",
       "style": "IPY_MODEL_346d8bc167114f9da0e04de54bd205b8",
       "value": " 213k/213k [00:00&lt;00:00, 860kB/s]"
      }
     },
     "4cdde73b92dd49c199a60de4a47742e7": {
      "model_module": "@jupyter-widgets/controls",
      "model_module_version": "1.5.0",
      "model_name": "DescriptionStyleModel",
      "state": {
       "_model_module": "@jupyter-widgets/controls",
       "_model_module_version": "1.5.0",
       "_model_name": "DescriptionStyleModel",
       "_view_count": null,
       "_view_module": "@jupyter-widgets/base",
       "_view_module_version": "1.2.0",
       "_view_name": "StyleView",
       "description_width": ""
      }
     },
     "4e1adbcafdcd40b4b8a5ba6cc08ac923": {
      "model_module": "@jupyter-widgets/controls",
      "model_module_version": "1.5.0",
      "model_name": "FloatProgressModel",
      "state": {
       "_dom_classes": [],
       "_model_module": "@jupyter-widgets/controls",
       "_model_module_version": "1.5.0",
       "_model_name": "FloatProgressModel",
       "_view_count": null,
       "_view_module": "@jupyter-widgets/controls",
       "_view_module_version": "1.5.0",
       "_view_name": "ProgressView",
       "bar_style": "success",
       "description": "",
       "description_tooltip": null,
       "layout": "IPY_MODEL_ece313c394e94e6d9f177b96cf1dc1ae",
       "max": 435779157.0,
       "min": 0.0,
       "orientation": "horizontal",
       "style": "IPY_MODEL_729ff38ed6db49d8ac6ef1a969799066",
       "value": 435779157.0
      }
     },
     "5150ab6b98de4879895f00e8fe78bc57": {
      "model_module": "@jupyter-widgets/controls",
      "model_module_version": "1.5.0",
      "model_name": "ProgressStyleModel",
      "state": {
       "_model_module": "@jupyter-widgets/controls",
       "_model_module_version": "1.5.0",
       "_model_name": "ProgressStyleModel",
       "_view_count": null,
       "_view_module": "@jupyter-widgets/base",
       "_view_module_version": "1.2.0",
       "_view_name": "StyleView",
       "bar_color": null,
       "description_width": ""
      }
     },
     "51b032c511fb4472b586bc050713291a": {
      "model_module": "@jupyter-widgets/base",
      "model_module_version": "1.2.0",
      "model_name": "LayoutModel",
      "state": {
       "_model_module": "@jupyter-widgets/base",
       "_model_module_version": "1.2.0",
       "_model_name": "LayoutModel",
       "_view_count": null,
       "_view_module": "@jupyter-widgets/base",
       "_view_module_version": "1.2.0",
       "_view_name": "LayoutView",
       "align_content": null,
       "align_items": null,
       "align_self": null,
       "border": null,
       "bottom": null,
       "display": null,
       "flex": null,
       "flex_flow": null,
       "grid_area": null,
       "grid_auto_columns": null,
       "grid_auto_flow": null,
       "grid_auto_rows": null,
       "grid_column": null,
       "grid_gap": null,
       "grid_row": null,
       "grid_template_areas": null,
       "grid_template_columns": null,
       "grid_template_rows": null,
       "height": null,
       "justify_content": null,
       "justify_items": null,
       "left": null,
       "margin": null,
       "max_height": null,
       "max_width": null,
       "min_height": null,
       "min_width": null,
       "object_fit": null,
       "object_position": null,
       "order": null,
       "overflow": null,
       "overflow_x": null,
       "overflow_y": null,
       "padding": null,
       "right": null,
       "top": null,
       "visibility": null,
       "width": null
      }
     },
     "52ed9ba5c3ee44049367ea5acb400dec": {
      "model_module": "@jupyter-widgets/controls",
      "model_module_version": "1.5.0",
      "model_name": "HTMLModel",
      "state": {
       "_dom_classes": [],
       "_model_module": "@jupyter-widgets/controls",
       "_model_module_version": "1.5.0",
       "_model_name": "HTMLModel",
       "_view_count": null,
       "_view_module": "@jupyter-widgets/controls",
       "_view_module_version": "1.5.0",
       "_view_name": "HTMLView",
       "description": "",
       "description_tooltip": null,
       "layout": "IPY_MODEL_51b032c511fb4472b586bc050713291a",
       "placeholder": "​",
       "style": "IPY_MODEL_b1ac195377ff481e8496bb6a5c1280b5",
       "value": "Downloading: 100%"
      }
     },
     "531f51fd874c4d4bbf3fb051cc8b0890": {
      "model_module": "@jupyter-widgets/controls",
      "model_module_version": "1.5.0",
      "model_name": "DescriptionStyleModel",
      "state": {
       "_model_module": "@jupyter-widgets/controls",
       "_model_module_version": "1.5.0",
       "_model_name": "DescriptionStyleModel",
       "_view_count": null,
       "_view_module": "@jupyter-widgets/base",
       "_view_module_version": "1.2.0",
       "_view_name": "StyleView",
       "description_width": ""
      }
     },
     "539f0589b5ae48c88648fd1492eb16c6": {
      "model_module": "@jupyter-widgets/base",
      "model_module_version": "1.2.0",
      "model_name": "LayoutModel",
      "state": {
       "_model_module": "@jupyter-widgets/base",
       "_model_module_version": "1.2.0",
       "_model_name": "LayoutModel",
       "_view_count": null,
       "_view_module": "@jupyter-widgets/base",
       "_view_module_version": "1.2.0",
       "_view_name": "LayoutView",
       "align_content": null,
       "align_items": null,
       "align_self": null,
       "border": null,
       "bottom": null,
       "display": null,
       "flex": null,
       "flex_flow": null,
       "grid_area": null,
       "grid_auto_columns": null,
       "grid_auto_flow": null,
       "grid_auto_rows": null,
       "grid_column": null,
       "grid_gap": null,
       "grid_row": null,
       "grid_template_areas": null,
       "grid_template_columns": null,
       "grid_template_rows": null,
       "height": null,
       "justify_content": null,
       "justify_items": null,
       "left": null,
       "margin": null,
       "max_height": null,
       "max_width": null,
       "min_height": null,
       "min_width": null,
       "object_fit": null,
       "object_position": null,
       "order": null,
       "overflow": null,
       "overflow_x": null,
       "overflow_y": null,
       "padding": null,
       "right": null,
       "top": null,
       "visibility": null,
       "width": null
      }
     },
     "5b10fd719fa14953bbcfd5cfc887c06a": {
      "model_module": "@jupyter-widgets/controls",
      "model_module_version": "1.5.0",
      "model_name": "HBoxModel",
      "state": {
       "_dom_classes": [],
       "_model_module": "@jupyter-widgets/controls",
       "_model_module_version": "1.5.0",
       "_model_name": "HBoxModel",
       "_view_count": null,
       "_view_module": "@jupyter-widgets/controls",
       "_view_module_version": "1.5.0",
       "_view_name": "HBoxView",
       "box_style": "",
       "children": [
        "IPY_MODEL_8c823a72a52d4e4a9f8138518c75ccf1",
        "IPY_MODEL_dd88d6fe60c24dca8c16a97ce7497950",
        "IPY_MODEL_d0fda8892e95447085ab95588eb51819"
       ],
       "layout": "IPY_MODEL_9682617fef6c400285b521b7b073c163"
      }
     },
     "5db1db99bb16486f9a60dc9c295bfeec": {
      "model_module": "@jupyter-widgets/controls",
      "model_module_version": "1.5.0",
      "model_name": "DescriptionStyleModel",
      "state": {
       "_model_module": "@jupyter-widgets/controls",
       "_model_module_version": "1.5.0",
       "_model_name": "DescriptionStyleModel",
       "_view_count": null,
       "_view_module": "@jupyter-widgets/base",
       "_view_module_version": "1.2.0",
       "_view_name": "StyleView",
       "description_width": ""
      }
     },
     "5eaa88f87d58476dba246de3c38c2206": {
      "model_module": "@jupyter-widgets/controls",
      "model_module_version": "1.5.0",
      "model_name": "DescriptionStyleModel",
      "state": {
       "_model_module": "@jupyter-widgets/controls",
       "_model_module_version": "1.5.0",
       "_model_name": "DescriptionStyleModel",
       "_view_count": null,
       "_view_module": "@jupyter-widgets/base",
       "_view_module_version": "1.2.0",
       "_view_name": "StyleView",
       "description_width": ""
      }
     },
     "62e903b739314787b240a5c9d09e89ac": {
      "model_module": "@jupyter-widgets/controls",
      "model_module_version": "1.5.0",
      "model_name": "FloatProgressModel",
      "state": {
       "_dom_classes": [],
       "_model_module": "@jupyter-widgets/controls",
       "_model_module_version": "1.5.0",
       "_model_name": "FloatProgressModel",
       "_view_count": null,
       "_view_module": "@jupyter-widgets/controls",
       "_view_module_version": "1.5.0",
       "_view_name": "ProgressView",
       "bar_style": "success",
       "description": "",
       "description_tooltip": null,
       "layout": "IPY_MODEL_905b45818a8f4c9fa396947c5bd31583",
       "max": 435797.0,
       "min": 0.0,
       "orientation": "horizontal",
       "style": "IPY_MODEL_2686fc861624462db78f9b32870358f1",
       "value": 435797.0
      }
     },
     "6773f9ea89804d9aa47a50b1c6829de1": {
      "model_module": "@jupyter-widgets/base",
      "model_module_version": "1.2.0",
      "model_name": "LayoutModel",
      "state": {
       "_model_module": "@jupyter-widgets/base",
       "_model_module_version": "1.2.0",
       "_model_name": "LayoutModel",
       "_view_count": null,
       "_view_module": "@jupyter-widgets/base",
       "_view_module_version": "1.2.0",
       "_view_name": "LayoutView",
       "align_content": null,
       "align_items": null,
       "align_self": null,
       "border": null,
       "bottom": null,
       "display": null,
       "flex": null,
       "flex_flow": null,
       "grid_area": null,
       "grid_auto_columns": null,
       "grid_auto_flow": null,
       "grid_auto_rows": null,
       "grid_column": null,
       "grid_gap": null,
       "grid_row": null,
       "grid_template_areas": null,
       "grid_template_columns": null,
       "grid_template_rows": null,
       "height": null,
       "justify_content": null,
       "justify_items": null,
       "left": null,
       "margin": null,
       "max_height": null,
       "max_width": null,
       "min_height": null,
       "min_width": null,
       "object_fit": null,
       "object_position": null,
       "order": null,
       "overflow": null,
       "overflow_x": null,
       "overflow_y": null,
       "padding": null,
       "right": null,
       "top": null,
       "visibility": null,
       "width": null
      }
     },
     "6b4c4291538e482d90143dee1906b040": {
      "model_module": "@jupyter-widgets/controls",
      "model_module_version": "1.5.0",
      "model_name": "HTMLModel",
      "state": {
       "_dom_classes": [],
       "_model_module": "@jupyter-widgets/controls",
       "_model_module_version": "1.5.0",
       "_model_name": "HTMLModel",
       "_view_count": null,
       "_view_module": "@jupyter-widgets/controls",
       "_view_module_version": "1.5.0",
       "_view_name": "HTMLView",
       "description": "",
       "description_tooltip": null,
       "layout": "IPY_MODEL_4353e5dddc9749d5a41b39686c936b3a",
       "placeholder": "​",
       "style": "IPY_MODEL_5eaa88f87d58476dba246de3c38c2206",
       "value": " 527M/527M [00:13&lt;00:00, 39.5MB/s]"
      }
     },
     "729ff38ed6db49d8ac6ef1a969799066": {
      "model_module": "@jupyter-widgets/controls",
      "model_module_version": "1.5.0",
      "model_name": "ProgressStyleModel",
      "state": {
       "_model_module": "@jupyter-widgets/controls",
       "_model_module_version": "1.5.0",
       "_model_name": "ProgressStyleModel",
       "_view_count": null,
       "_view_module": "@jupyter-widgets/base",
       "_view_module_version": "1.2.0",
       "_view_name": "StyleView",
       "bar_color": null,
       "description_width": ""
      }
     },
     "77fa7fc56c97416aa930b155f77a45be": {
      "model_module": "@jupyter-widgets/controls",
      "model_module_version": "1.5.0",
      "model_name": "DescriptionStyleModel",
      "state": {
       "_model_module": "@jupyter-widgets/controls",
       "_model_module_version": "1.5.0",
       "_model_name": "DescriptionStyleModel",
       "_view_count": null,
       "_view_module": "@jupyter-widgets/base",
       "_view_module_version": "1.2.0",
       "_view_name": "StyleView",
       "description_width": ""
      }
     },
     "7c04719cbc6b4688afa9ceb56e8c571e": {
      "model_module": "@jupyter-widgets/controls",
      "model_module_version": "1.5.0",
      "model_name": "HBoxModel",
      "state": {
       "_dom_classes": [],
       "_model_module": "@jupyter-widgets/controls",
       "_model_module_version": "1.5.0",
       "_model_name": "HBoxModel",
       "_view_count": null,
       "_view_module": "@jupyter-widgets/controls",
       "_view_module_version": "1.5.0",
       "_view_name": "HBoxView",
       "box_style": "",
       "children": [
        "IPY_MODEL_a69ab6e5ea454f55b3056070ddf02883",
        "IPY_MODEL_4e1adbcafdcd40b4b8a5ba6cc08ac923",
        "IPY_MODEL_46f7214b57b54274976471f4ddb82cfa"
       ],
       "layout": "IPY_MODEL_e28b0bb23696441183a16adc13e7eab6"
      }
     },
     "7d80b65c0cc04c359152d4e39e283dd8": {
      "model_module": "@jupyter-widgets/controls",
      "model_module_version": "1.5.0",
      "model_name": "FloatProgressModel",
      "state": {
       "_dom_classes": [],
       "_model_module": "@jupyter-widgets/controls",
       "_model_module_version": "1.5.0",
       "_model_name": "FloatProgressModel",
       "_view_count": null,
       "_view_module": "@jupyter-widgets/controls",
       "_view_module_version": "1.5.0",
       "_view_name": "ProgressView",
       "bar_style": "success",
       "description": "",
       "description_tooltip": null,
       "layout": "IPY_MODEL_9ee836602139429d9ca88388fac87708",
       "max": 213450.0,
       "min": 0.0,
       "orientation": "horizontal",
       "style": "IPY_MODEL_a01dc3151f5d465ab5e2b591d1165d2d",
       "value": 213450.0
      }
     },
     "7ddbea0c24a245cda805242cf00cd7a1": {
      "model_module": "@jupyter-widgets/base",
      "model_module_version": "1.2.0",
      "model_name": "LayoutModel",
      "state": {
       "_model_module": "@jupyter-widgets/base",
       "_model_module_version": "1.2.0",
       "_model_name": "LayoutModel",
       "_view_count": null,
       "_view_module": "@jupyter-widgets/base",
       "_view_module_version": "1.2.0",
       "_view_name": "LayoutView",
       "align_content": null,
       "align_items": null,
       "align_self": null,
       "border": null,
       "bottom": null,
       "display": null,
       "flex": null,
       "flex_flow": null,
       "grid_area": null,
       "grid_auto_columns": null,
       "grid_auto_flow": null,
       "grid_auto_rows": null,
       "grid_column": null,
       "grid_gap": null,
       "grid_row": null,
       "grid_template_areas": null,
       "grid_template_columns": null,
       "grid_template_rows": null,
       "height": null,
       "justify_content": null,
       "justify_items": null,
       "left": null,
       "margin": null,
       "max_height": null,
       "max_width": null,
       "min_height": null,
       "min_width": null,
       "object_fit": null,
       "object_position": null,
       "order": null,
       "overflow": null,
       "overflow_x": null,
       "overflow_y": null,
       "padding": null,
       "right": null,
       "top": null,
       "visibility": null,
       "width": null
      }
     },
     "7f22a2b56861418a9f3c0568f55a5038": {
      "model_module": "@jupyter-widgets/base",
      "model_module_version": "1.2.0",
      "model_name": "LayoutModel",
      "state": {
       "_model_module": "@jupyter-widgets/base",
       "_model_module_version": "1.2.0",
       "_model_name": "LayoutModel",
       "_view_count": null,
       "_view_module": "@jupyter-widgets/base",
       "_view_module_version": "1.2.0",
       "_view_name": "LayoutView",
       "align_content": null,
       "align_items": null,
       "align_self": null,
       "border": null,
       "bottom": null,
       "display": null,
       "flex": null,
       "flex_flow": null,
       "grid_area": null,
       "grid_auto_columns": null,
       "grid_auto_flow": null,
       "grid_auto_rows": null,
       "grid_column": null,
       "grid_gap": null,
       "grid_row": null,
       "grid_template_areas": null,
       "grid_template_columns": null,
       "grid_template_rows": null,
       "height": null,
       "justify_content": null,
       "justify_items": null,
       "left": null,
       "margin": null,
       "max_height": null,
       "max_width": null,
       "min_height": null,
       "min_width": null,
       "object_fit": null,
       "object_position": null,
       "order": null,
       "overflow": null,
       "overflow_x": null,
       "overflow_y": null,
       "padding": null,
       "right": null,
       "top": null,
       "visibility": null,
       "width": null
      }
     },
     "820989d7b043481a9eaeb118a5103d3c": {
      "model_module": "@jupyter-widgets/controls",
      "model_module_version": "1.5.0",
      "model_name": "DescriptionStyleModel",
      "state": {
       "_model_module": "@jupyter-widgets/controls",
       "_model_module_version": "1.5.0",
       "_model_name": "DescriptionStyleModel",
       "_view_count": null,
       "_view_module": "@jupyter-widgets/base",
       "_view_module_version": "1.2.0",
       "_view_name": "StyleView",
       "description_width": ""
      }
     },
     "86ca3a98847741739f12799060330286": {
      "model_module": "@jupyter-widgets/base",
      "model_module_version": "1.2.0",
      "model_name": "LayoutModel",
      "state": {
       "_model_module": "@jupyter-widgets/base",
       "_model_module_version": "1.2.0",
       "_model_name": "LayoutModel",
       "_view_count": null,
       "_view_module": "@jupyter-widgets/base",
       "_view_module_version": "1.2.0",
       "_view_name": "LayoutView",
       "align_content": null,
       "align_items": null,
       "align_self": null,
       "border": null,
       "bottom": null,
       "display": null,
       "flex": null,
       "flex_flow": null,
       "grid_area": null,
       "grid_auto_columns": null,
       "grid_auto_flow": null,
       "grid_auto_rows": null,
       "grid_column": null,
       "grid_gap": null,
       "grid_row": null,
       "grid_template_areas": null,
       "grid_template_columns": null,
       "grid_template_rows": null,
       "height": null,
       "justify_content": null,
       "justify_items": null,
       "left": null,
       "margin": null,
       "max_height": null,
       "max_width": null,
       "min_height": null,
       "min_width": null,
       "object_fit": null,
       "object_position": null,
       "order": null,
       "overflow": null,
       "overflow_x": null,
       "overflow_y": null,
       "padding": null,
       "right": null,
       "top": null,
       "visibility": null,
       "width": null
      }
     },
     "8c823a72a52d4e4a9f8138518c75ccf1": {
      "model_module": "@jupyter-widgets/controls",
      "model_module_version": "1.5.0",
      "model_name": "HTMLModel",
      "state": {
       "_dom_classes": [],
       "_model_module": "@jupyter-widgets/controls",
       "_model_module_version": "1.5.0",
       "_model_name": "HTMLModel",
       "_view_count": null,
       "_view_module": "@jupyter-widgets/controls",
       "_view_module_version": "1.5.0",
       "_view_name": "HTMLView",
       "description": "",
       "description_tooltip": null,
       "layout": "IPY_MODEL_e0293ea7a3694000b3fcb446ce43b556",
       "placeholder": "​",
       "style": "IPY_MODEL_12ee14d7f9654b93b7ff67453fcc964b",
       "value": "Downloading: 100%"
      }
     },
     "905b45818a8f4c9fa396947c5bd31583": {
      "model_module": "@jupyter-widgets/base",
      "model_module_version": "1.2.0",
      "model_name": "LayoutModel",
      "state": {
       "_model_module": "@jupyter-widgets/base",
       "_model_module_version": "1.2.0",
       "_model_name": "LayoutModel",
       "_view_count": null,
       "_view_module": "@jupyter-widgets/base",
       "_view_module_version": "1.2.0",
       "_view_name": "LayoutView",
       "align_content": null,
       "align_items": null,
       "align_self": null,
       "border": null,
       "bottom": null,
       "display": null,
       "flex": null,
       "flex_flow": null,
       "grid_area": null,
       "grid_auto_columns": null,
       "grid_auto_flow": null,
       "grid_auto_rows": null,
       "grid_column": null,
       "grid_gap": null,
       "grid_row": null,
       "grid_template_areas": null,
       "grid_template_columns": null,
       "grid_template_rows": null,
       "height": null,
       "justify_content": null,
       "justify_items": null,
       "left": null,
       "margin": null,
       "max_height": null,
       "max_width": null,
       "min_height": null,
       "min_width": null,
       "object_fit": null,
       "object_position": null,
       "order": null,
       "overflow": null,
       "overflow_x": null,
       "overflow_y": null,
       "padding": null,
       "right": null,
       "top": null,
       "visibility": null,
       "width": null
      }
     },
     "963bc750791841e1bc9154f0a5043292": {
      "model_module": "@jupyter-widgets/controls",
      "model_module_version": "1.5.0",
      "model_name": "HBoxModel",
      "state": {
       "_dom_classes": [],
       "_model_module": "@jupyter-widgets/controls",
       "_model_module_version": "1.5.0",
       "_model_name": "HBoxModel",
       "_view_count": null,
       "_view_module": "@jupyter-widgets/controls",
       "_view_module_version": "1.5.0",
       "_view_name": "HBoxView",
       "box_style": "",
       "children": [
        "IPY_MODEL_97bc8e36abd742f0878e6ace8cd57079",
        "IPY_MODEL_ca04454714a44cbc9db40fbed2c4b264",
        "IPY_MODEL_ec4a5cd16972468fbe9ca30f970ef27f"
       ],
       "layout": "IPY_MODEL_2be5725fe96244acbea15bd0e3357a33"
      }
     },
     "9682617fef6c400285b521b7b073c163": {
      "model_module": "@jupyter-widgets/base",
      "model_module_version": "1.2.0",
      "model_name": "LayoutModel",
      "state": {
       "_model_module": "@jupyter-widgets/base",
       "_model_module_version": "1.2.0",
       "_model_name": "LayoutModel",
       "_view_count": null,
       "_view_module": "@jupyter-widgets/base",
       "_view_module_version": "1.2.0",
       "_view_name": "LayoutView",
       "align_content": null,
       "align_items": null,
       "align_self": null,
       "border": null,
       "bottom": null,
       "display": null,
       "flex": null,
       "flex_flow": null,
       "grid_area": null,
       "grid_auto_columns": null,
       "grid_auto_flow": null,
       "grid_auto_rows": null,
       "grid_column": null,
       "grid_gap": null,
       "grid_row": null,
       "grid_template_areas": null,
       "grid_template_columns": null,
       "grid_template_rows": null,
       "height": null,
       "justify_content": null,
       "justify_items": null,
       "left": null,
       "margin": null,
       "max_height": null,
       "max_width": null,
       "min_height": null,
       "min_width": null,
       "object_fit": null,
       "object_position": null,
       "order": null,
       "overflow": null,
       "overflow_x": null,
       "overflow_y": null,
       "padding": null,
       "right": null,
       "top": null,
       "visibility": null,
       "width": null
      }
     },
     "97bc8e36abd742f0878e6ace8cd57079": {
      "model_module": "@jupyter-widgets/controls",
      "model_module_version": "1.5.0",
      "model_name": "HTMLModel",
      "state": {
       "_dom_classes": [],
       "_model_module": "@jupyter-widgets/controls",
       "_model_module_version": "1.5.0",
       "_model_name": "HTMLModel",
       "_view_count": null,
       "_view_module": "@jupyter-widgets/controls",
       "_view_module_version": "1.5.0",
       "_view_name": "HTMLView",
       "description": "",
       "description_tooltip": null,
       "layout": "IPY_MODEL_f469385ef8b54bf6841ee9e31d3b0abc",
       "placeholder": "​",
       "style": "IPY_MODEL_5db1db99bb16486f9a60dc9c295bfeec",
       "value": "Downloading: 100%"
      }
     },
     "9a4d5ce2a26142e5aa05889b19b339bd": {
      "model_module": "@jupyter-widgets/controls",
      "model_module_version": "1.5.0",
      "model_name": "HTMLModel",
      "state": {
       "_dom_classes": [],
       "_model_module": "@jupyter-widgets/controls",
       "_model_module_version": "1.5.0",
       "_model_name": "HTMLModel",
       "_view_count": null,
       "_view_module": "@jupyter-widgets/controls",
       "_view_module_version": "1.5.0",
       "_view_name": "HTMLView",
       "description": "",
       "description_tooltip": null,
       "layout": "IPY_MODEL_bdab2f79317d4277b780037583b42001",
       "placeholder": "​",
       "style": "IPY_MODEL_4cdde73b92dd49c199a60de4a47742e7",
       "value": " 436k/436k [00:00&lt;00:00, 782kB/s]"
      }
     },
     "9ee836602139429d9ca88388fac87708": {
      "model_module": "@jupyter-widgets/base",
      "model_module_version": "1.2.0",
      "model_name": "LayoutModel",
      "state": {
       "_model_module": "@jupyter-widgets/base",
       "_model_module_version": "1.2.0",
       "_model_name": "LayoutModel",
       "_view_count": null,
       "_view_module": "@jupyter-widgets/base",
       "_view_module_version": "1.2.0",
       "_view_name": "LayoutView",
       "align_content": null,
       "align_items": null,
       "align_self": null,
       "border": null,
       "bottom": null,
       "display": null,
       "flex": null,
       "flex_flow": null,
       "grid_area": null,
       "grid_auto_columns": null,
       "grid_auto_flow": null,
       "grid_auto_rows": null,
       "grid_column": null,
       "grid_gap": null,
       "grid_row": null,
       "grid_template_areas": null,
       "grid_template_columns": null,
       "grid_template_rows": null,
       "height": null,
       "justify_content": null,
       "justify_items": null,
       "left": null,
       "margin": null,
       "max_height": null,
       "max_width": null,
       "min_height": null,
       "min_width": null,
       "object_fit": null,
       "object_position": null,
       "order": null,
       "overflow": null,
       "overflow_x": null,
       "overflow_y": null,
       "padding": null,
       "right": null,
       "top": null,
       "visibility": null,
       "width": null
      }
     },
     "a01dc3151f5d465ab5e2b591d1165d2d": {
      "model_module": "@jupyter-widgets/controls",
      "model_module_version": "1.5.0",
      "model_name": "ProgressStyleModel",
      "state": {
       "_model_module": "@jupyter-widgets/controls",
       "_model_module_version": "1.5.0",
       "_model_name": "ProgressStyleModel",
       "_view_count": null,
       "_view_module": "@jupyter-widgets/base",
       "_view_module_version": "1.2.0",
       "_view_name": "StyleView",
       "bar_color": null,
       "description_width": ""
      }
     },
     "a69ab6e5ea454f55b3056070ddf02883": {
      "model_module": "@jupyter-widgets/controls",
      "model_module_version": "1.5.0",
      "model_name": "HTMLModel",
      "state": {
       "_dom_classes": [],
       "_model_module": "@jupyter-widgets/controls",
       "_model_module_version": "1.5.0",
       "_model_name": "HTMLModel",
       "_view_count": null,
       "_view_module": "@jupyter-widgets/controls",
       "_view_module_version": "1.5.0",
       "_view_name": "HTMLView",
       "description": "",
       "description_tooltip": null,
       "layout": "IPY_MODEL_6773f9ea89804d9aa47a50b1c6829de1",
       "placeholder": "​",
       "style": "IPY_MODEL_e04810c4855242ba811b334b346a5ab3",
       "value": "Downloading: 100%"
      }
     },
     "b1ac195377ff481e8496bb6a5c1280b5": {
      "model_module": "@jupyter-widgets/controls",
      "model_module_version": "1.5.0",
      "model_name": "DescriptionStyleModel",
      "state": {
       "_model_module": "@jupyter-widgets/controls",
       "_model_module_version": "1.5.0",
       "_model_name": "DescriptionStyleModel",
       "_view_count": null,
       "_view_module": "@jupyter-widgets/base",
       "_view_module_version": "1.2.0",
       "_view_name": "StyleView",
       "description_width": ""
      }
     },
     "b294323b3c1443a0ae1936d2b76780db": {
      "model_module": "@jupyter-widgets/base",
      "model_module_version": "1.2.0",
      "model_name": "LayoutModel",
      "state": {
       "_model_module": "@jupyter-widgets/base",
       "_model_module_version": "1.2.0",
       "_model_name": "LayoutModel",
       "_view_count": null,
       "_view_module": "@jupyter-widgets/base",
       "_view_module_version": "1.2.0",
       "_view_name": "LayoutView",
       "align_content": null,
       "align_items": null,
       "align_self": null,
       "border": null,
       "bottom": null,
       "display": null,
       "flex": null,
       "flex_flow": null,
       "grid_area": null,
       "grid_auto_columns": null,
       "grid_auto_flow": null,
       "grid_auto_rows": null,
       "grid_column": null,
       "grid_gap": null,
       "grid_row": null,
       "grid_template_areas": null,
       "grid_template_columns": null,
       "grid_template_rows": null,
       "height": null,
       "justify_content": null,
       "justify_items": null,
       "left": null,
       "margin": null,
       "max_height": null,
       "max_width": null,
       "min_height": null,
       "min_width": null,
       "object_fit": null,
       "object_position": null,
       "order": null,
       "overflow": null,
       "overflow_x": null,
       "overflow_y": null,
       "padding": null,
       "right": null,
       "top": null,
       "visibility": null,
       "width": null
      }
     },
     "b49c38f84be04294914faa6f2f2112c3": {
      "model_module": "@jupyter-widgets/controls",
      "model_module_version": "1.5.0",
      "model_name": "HTMLModel",
      "state": {
       "_dom_classes": [],
       "_model_module": "@jupyter-widgets/controls",
       "_model_module_version": "1.5.0",
       "_model_name": "HTMLModel",
       "_view_count": null,
       "_view_module": "@jupyter-widgets/controls",
       "_view_module_version": "1.5.0",
       "_view_name": "HTMLView",
       "description": "",
       "description_tooltip": null,
       "layout": "IPY_MODEL_e7dc64f2e80f4a1ca4b1085dafa36650",
       "placeholder": "​",
       "style": "IPY_MODEL_531f51fd874c4d4bbf3fb051cc8b0890",
       "value": "Downloading: 100%"
      }
     },
     "b54ac768133e4f3d833276d10fcef479": {
      "model_module": "@jupyter-widgets/controls",
      "model_module_version": "1.5.0",
      "model_name": "ProgressStyleModel",
      "state": {
       "_model_module": "@jupyter-widgets/controls",
       "_model_module_version": "1.5.0",
       "_model_name": "ProgressStyleModel",
       "_view_count": null,
       "_view_module": "@jupyter-widgets/base",
       "_view_module_version": "1.2.0",
       "_view_name": "StyleView",
       "bar_color": null,
       "description_width": ""
      }
     },
     "bdab2f79317d4277b780037583b42001": {
      "model_module": "@jupyter-widgets/base",
      "model_module_version": "1.2.0",
      "model_name": "LayoutModel",
      "state": {
       "_model_module": "@jupyter-widgets/base",
       "_model_module_version": "1.2.0",
       "_model_name": "LayoutModel",
       "_view_count": null,
       "_view_module": "@jupyter-widgets/base",
       "_view_module_version": "1.2.0",
       "_view_name": "LayoutView",
       "align_content": null,
       "align_items": null,
       "align_self": null,
       "border": null,
       "bottom": null,
       "display": null,
       "flex": null,
       "flex_flow": null,
       "grid_area": null,
       "grid_auto_columns": null,
       "grid_auto_flow": null,
       "grid_auto_rows": null,
       "grid_column": null,
       "grid_gap": null,
       "grid_row": null,
       "grid_template_areas": null,
       "grid_template_columns": null,
       "grid_template_rows": null,
       "height": null,
       "justify_content": null,
       "justify_items": null,
       "left": null,
       "margin": null,
       "max_height": null,
       "max_width": null,
       "min_height": null,
       "min_width": null,
       "object_fit": null,
       "object_position": null,
       "order": null,
       "overflow": null,
       "overflow_x": null,
       "overflow_y": null,
       "padding": null,
       "right": null,
       "top": null,
       "visibility": null,
       "width": null
      }
     },
     "c189727e9fd54f9ab10911f59fdd1b57": {
      "model_module": "@jupyter-widgets/controls",
      "model_module_version": "1.5.0",
      "model_name": "DescriptionStyleModel",
      "state": {
       "_model_module": "@jupyter-widgets/controls",
       "_model_module_version": "1.5.0",
       "_model_name": "DescriptionStyleModel",
       "_view_count": null,
       "_view_module": "@jupyter-widgets/base",
       "_view_module_version": "1.2.0",
       "_view_name": "StyleView",
       "description_width": ""
      }
     },
     "ca04454714a44cbc9db40fbed2c4b264": {
      "model_module": "@jupyter-widgets/controls",
      "model_module_version": "1.5.0",
      "model_name": "FloatProgressModel",
      "state": {
       "_dom_classes": [],
       "_model_module": "@jupyter-widgets/controls",
       "_model_module_version": "1.5.0",
       "_model_name": "FloatProgressModel",
       "_view_count": null,
       "_view_module": "@jupyter-widgets/controls",
       "_view_module_version": "1.5.0",
       "_view_name": "ProgressView",
       "bar_style": "success",
       "description": "",
       "description_tooltip": null,
       "layout": "IPY_MODEL_86ca3a98847741739f12799060330286",
       "max": 29.0,
       "min": 0.0,
       "orientation": "horizontal",
       "style": "IPY_MODEL_b54ac768133e4f3d833276d10fcef479",
       "value": 29.0
      }
     },
     "cbb535596efc43a29a4ce43af058ac65": {
      "model_module": "@jupyter-widgets/controls",
      "model_module_version": "1.5.0",
      "model_name": "HBoxModel",
      "state": {
       "_dom_classes": [],
       "_model_module": "@jupyter-widgets/controls",
       "_model_module_version": "1.5.0",
       "_model_name": "HBoxModel",
       "_view_count": null,
       "_view_module": "@jupyter-widgets/controls",
       "_view_module_version": "1.5.0",
       "_view_name": "HBoxView",
       "box_style": "",
       "children": [
        "IPY_MODEL_4865097026ed4296bdd9c55f2edcbcd7",
        "IPY_MODEL_62e903b739314787b240a5c9d09e89ac",
        "IPY_MODEL_9a4d5ce2a26142e5aa05889b19b339bd"
       ],
       "layout": "IPY_MODEL_203b3a8fe18f4bc59d54c03b65e6be0b"
      }
     },
     "d0fda8892e95447085ab95588eb51819": {
      "model_module": "@jupyter-widgets/controls",
      "model_module_version": "1.5.0",
      "model_name": "HTMLModel",
      "state": {
       "_dom_classes": [],
       "_model_module": "@jupyter-widgets/controls",
       "_model_module_version": "1.5.0",
       "_model_name": "HTMLModel",
       "_view_count": null,
       "_view_module": "@jupyter-widgets/controls",
       "_view_module_version": "1.5.0",
       "_view_name": "HTMLView",
       "description": "",
       "description_tooltip": null,
       "layout": "IPY_MODEL_7ddbea0c24a245cda805242cf00cd7a1",
       "placeholder": "​",
       "style": "IPY_MODEL_c189727e9fd54f9ab10911f59fdd1b57",
       "value": " 570/570 [00:00&lt;00:00, 16.5kB/s]"
      }
     },
     "dabe71e248004ae9a666d43fe41538b6": {
      "model_module": "@jupyter-widgets/base",
      "model_module_version": "1.2.0",
      "model_name": "LayoutModel",
      "state": {
       "_model_module": "@jupyter-widgets/base",
       "_model_module_version": "1.2.0",
       "_model_name": "LayoutModel",
       "_view_count": null,
       "_view_module": "@jupyter-widgets/base",
       "_view_module_version": "1.2.0",
       "_view_name": "LayoutView",
       "align_content": null,
       "align_items": null,
       "align_self": null,
       "border": null,
       "bottom": null,
       "display": null,
       "flex": null,
       "flex_flow": null,
       "grid_area": null,
       "grid_auto_columns": null,
       "grid_auto_flow": null,
       "grid_auto_rows": null,
       "grid_column": null,
       "grid_gap": null,
       "grid_row": null,
       "grid_template_areas": null,
       "grid_template_columns": null,
       "grid_template_rows": null,
       "height": null,
       "justify_content": null,
       "justify_items": null,
       "left": null,
       "margin": null,
       "max_height": null,
       "max_width": null,
       "min_height": null,
       "min_width": null,
       "object_fit": null,
       "object_position": null,
       "order": null,
       "overflow": null,
       "overflow_x": null,
       "overflow_y": null,
       "padding": null,
       "right": null,
       "top": null,
       "visibility": null,
       "width": null
      }
     },
     "dc9657ece97a415e9eb1772f51bdb912": {
      "model_module": "@jupyter-widgets/controls",
      "model_module_version": "1.5.0",
      "model_name": "DescriptionStyleModel",
      "state": {
       "_model_module": "@jupyter-widgets/controls",
       "_model_module_version": "1.5.0",
       "_model_name": "DescriptionStyleModel",
       "_view_count": null,
       "_view_module": "@jupyter-widgets/base",
       "_view_module_version": "1.2.0",
       "_view_name": "StyleView",
       "description_width": ""
      }
     },
     "dd88d6fe60c24dca8c16a97ce7497950": {
      "model_module": "@jupyter-widgets/controls",
      "model_module_version": "1.5.0",
      "model_name": "FloatProgressModel",
      "state": {
       "_dom_classes": [],
       "_model_module": "@jupyter-widgets/controls",
       "_model_module_version": "1.5.0",
       "_model_name": "FloatProgressModel",
       "_view_count": null,
       "_view_module": "@jupyter-widgets/controls",
       "_view_module_version": "1.5.0",
       "_view_name": "ProgressView",
       "bar_style": "success",
       "description": "",
       "description_tooltip": null,
       "layout": "IPY_MODEL_539f0589b5ae48c88648fd1492eb16c6",
       "max": 570.0,
       "min": 0.0,
       "orientation": "horizontal",
       "style": "IPY_MODEL_11fe2456e5784aedae81ded3ec31e71d",
       "value": 570.0
      }
     },
     "de408de6a3ff4ac2a4e5f41578b2cf4f": {
      "model_module": "@jupyter-widgets/controls",
      "model_module_version": "1.5.0",
      "model_name": "FloatProgressModel",
      "state": {
       "_dom_classes": [],
       "_model_module": "@jupyter-widgets/controls",
       "_model_module_version": "1.5.0",
       "_model_name": "FloatProgressModel",
       "_view_count": null,
       "_view_module": "@jupyter-widgets/controls",
       "_view_module_version": "1.5.0",
       "_view_name": "ProgressView",
       "bar_style": "success",
       "description": "",
       "description_tooltip": null,
       "layout": "IPY_MODEL_0bdf761f3c80401c8f3983f917bfc921",
       "max": 526681800.0,
       "min": 0.0,
       "orientation": "horizontal",
       "style": "IPY_MODEL_5150ab6b98de4879895f00e8fe78bc57",
       "value": 526681800.0
      }
     },
     "e0293ea7a3694000b3fcb446ce43b556": {
      "model_module": "@jupyter-widgets/base",
      "model_module_version": "1.2.0",
      "model_name": "LayoutModel",
      "state": {
       "_model_module": "@jupyter-widgets/base",
       "_model_module_version": "1.2.0",
       "_model_name": "LayoutModel",
       "_view_count": null,
       "_view_module": "@jupyter-widgets/base",
       "_view_module_version": "1.2.0",
       "_view_name": "LayoutView",
       "align_content": null,
       "align_items": null,
       "align_self": null,
       "border": null,
       "bottom": null,
       "display": null,
       "flex": null,
       "flex_flow": null,
       "grid_area": null,
       "grid_auto_columns": null,
       "grid_auto_flow": null,
       "grid_auto_rows": null,
       "grid_column": null,
       "grid_gap": null,
       "grid_row": null,
       "grid_template_areas": null,
       "grid_template_columns": null,
       "grid_template_rows": null,
       "height": null,
       "justify_content": null,
       "justify_items": null,
       "left": null,
       "margin": null,
       "max_height": null,
       "max_width": null,
       "min_height": null,
       "min_width": null,
       "object_fit": null,
       "object_position": null,
       "order": null,
       "overflow": null,
       "overflow_x": null,
       "overflow_y": null,
       "padding": null,
       "right": null,
       "top": null,
       "visibility": null,
       "width": null
      }
     },
     "e04810c4855242ba811b334b346a5ab3": {
      "model_module": "@jupyter-widgets/controls",
      "model_module_version": "1.5.0",
      "model_name": "DescriptionStyleModel",
      "state": {
       "_model_module": "@jupyter-widgets/controls",
       "_model_module_version": "1.5.0",
       "_model_name": "DescriptionStyleModel",
       "_view_count": null,
       "_view_module": "@jupyter-widgets/base",
       "_view_module_version": "1.2.0",
       "_view_name": "StyleView",
       "description_width": ""
      }
     },
     "e28b0bb23696441183a16adc13e7eab6": {
      "model_module": "@jupyter-widgets/base",
      "model_module_version": "1.2.0",
      "model_name": "LayoutModel",
      "state": {
       "_model_module": "@jupyter-widgets/base",
       "_model_module_version": "1.2.0",
       "_model_name": "LayoutModel",
       "_view_count": null,
       "_view_module": "@jupyter-widgets/base",
       "_view_module_version": "1.2.0",
       "_view_name": "LayoutView",
       "align_content": null,
       "align_items": null,
       "align_self": null,
       "border": null,
       "bottom": null,
       "display": null,
       "flex": null,
       "flex_flow": null,
       "grid_area": null,
       "grid_auto_columns": null,
       "grid_auto_flow": null,
       "grid_auto_rows": null,
       "grid_column": null,
       "grid_gap": null,
       "grid_row": null,
       "grid_template_areas": null,
       "grid_template_columns": null,
       "grid_template_rows": null,
       "height": null,
       "justify_content": null,
       "justify_items": null,
       "left": null,
       "margin": null,
       "max_height": null,
       "max_width": null,
       "min_height": null,
       "min_width": null,
       "object_fit": null,
       "object_position": null,
       "order": null,
       "overflow": null,
       "overflow_x": null,
       "overflow_y": null,
       "padding": null,
       "right": null,
       "top": null,
       "visibility": null,
       "width": null
      }
     },
     "e7dc64f2e80f4a1ca4b1085dafa36650": {
      "model_module": "@jupyter-widgets/base",
      "model_module_version": "1.2.0",
      "model_name": "LayoutModel",
      "state": {
       "_model_module": "@jupyter-widgets/base",
       "_model_module_version": "1.2.0",
       "_model_name": "LayoutModel",
       "_view_count": null,
       "_view_module": "@jupyter-widgets/base",
       "_view_module_version": "1.2.0",
       "_view_name": "LayoutView",
       "align_content": null,
       "align_items": null,
       "align_self": null,
       "border": null,
       "bottom": null,
       "display": null,
       "flex": null,
       "flex_flow": null,
       "grid_area": null,
       "grid_auto_columns": null,
       "grid_auto_flow": null,
       "grid_auto_rows": null,
       "grid_column": null,
       "grid_gap": null,
       "grid_row": null,
       "grid_template_areas": null,
       "grid_template_columns": null,
       "grid_template_rows": null,
       "height": null,
       "justify_content": null,
       "justify_items": null,
       "left": null,
       "margin": null,
       "max_height": null,
       "max_width": null,
       "min_height": null,
       "min_width": null,
       "object_fit": null,
       "object_position": null,
       "order": null,
       "overflow": null,
       "overflow_x": null,
       "overflow_y": null,
       "padding": null,
       "right": null,
       "top": null,
       "visibility": null,
       "width": null
      }
     },
     "ec4a5cd16972468fbe9ca30f970ef27f": {
      "model_module": "@jupyter-widgets/controls",
      "model_module_version": "1.5.0",
      "model_name": "HTMLModel",
      "state": {
       "_dom_classes": [],
       "_model_module": "@jupyter-widgets/controls",
       "_model_module_version": "1.5.0",
       "_model_name": "HTMLModel",
       "_view_count": null,
       "_view_module": "@jupyter-widgets/controls",
       "_view_module_version": "1.5.0",
       "_view_name": "HTMLView",
       "description": "",
       "description_tooltip": null,
       "layout": "IPY_MODEL_24837254975143e788e1016a8e64172a",
       "placeholder": "​",
       "style": "IPY_MODEL_77fa7fc56c97416aa930b155f77a45be",
       "value": " 29.0/29.0 [00:00&lt;00:00, 972B/s]"
      }
     },
     "ece313c394e94e6d9f177b96cf1dc1ae": {
      "model_module": "@jupyter-widgets/base",
      "model_module_version": "1.2.0",
      "model_name": "LayoutModel",
      "state": {
       "_model_module": "@jupyter-widgets/base",
       "_model_module_version": "1.2.0",
       "_model_name": "LayoutModel",
       "_view_count": null,
       "_view_module": "@jupyter-widgets/base",
       "_view_module_version": "1.2.0",
       "_view_name": "LayoutView",
       "align_content": null,
       "align_items": null,
       "align_self": null,
       "border": null,
       "bottom": null,
       "display": null,
       "flex": null,
       "flex_flow": null,
       "grid_area": null,
       "grid_auto_columns": null,
       "grid_auto_flow": null,
       "grid_auto_rows": null,
       "grid_column": null,
       "grid_gap": null,
       "grid_row": null,
       "grid_template_areas": null,
       "grid_template_columns": null,
       "grid_template_rows": null,
       "height": null,
       "justify_content": null,
       "justify_items": null,
       "left": null,
       "margin": null,
       "max_height": null,
       "max_width": null,
       "min_height": null,
       "min_width": null,
       "object_fit": null,
       "object_position": null,
       "order": null,
       "overflow": null,
       "overflow_x": null,
       "overflow_y": null,
       "padding": null,
       "right": null,
       "top": null,
       "visibility": null,
       "width": null
      }
     },
     "f469385ef8b54bf6841ee9e31d3b0abc": {
      "model_module": "@jupyter-widgets/base",
      "model_module_version": "1.2.0",
      "model_name": "LayoutModel",
      "state": {
       "_model_module": "@jupyter-widgets/base",
       "_model_module_version": "1.2.0",
       "_model_name": "LayoutModel",
       "_view_count": null,
       "_view_module": "@jupyter-widgets/base",
       "_view_module_version": "1.2.0",
       "_view_name": "LayoutView",
       "align_content": null,
       "align_items": null,
       "align_self": null,
       "border": null,
       "bottom": null,
       "display": null,
       "flex": null,
       "flex_flow": null,
       "grid_area": null,
       "grid_auto_columns": null,
       "grid_auto_flow": null,
       "grid_auto_rows": null,
       "grid_column": null,
       "grid_gap": null,
       "grid_row": null,
       "grid_template_areas": null,
       "grid_template_columns": null,
       "grid_template_rows": null,
       "height": null,
       "justify_content": null,
       "justify_items": null,
       "left": null,
       "margin": null,
       "max_height": null,
       "max_width": null,
       "min_height": null,
       "min_width": null,
       "object_fit": null,
       "object_position": null,
       "order": null,
       "overflow": null,
       "overflow_x": null,
       "overflow_y": null,
       "padding": null,
       "right": null,
       "top": null,
       "visibility": null,
       "width": null
      }
     }
    },
    "version_major": 2,
    "version_minor": 0
   }
  }
 },
 "nbformat": 4,
 "nbformat_minor": 5
}
