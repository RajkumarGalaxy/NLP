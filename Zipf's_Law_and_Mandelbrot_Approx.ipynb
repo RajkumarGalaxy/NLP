{
  "nbformat": 4,
  "nbformat_minor": 0,
  "metadata": {
    "colab": {
      "name": "Zipf's_Law_and_Mandelbrot_Approx.ipynb",
      "provenance": [],
      "authorship_tag": "ABX9TyMd4oue/BA3jpMSVfnjS9W6",
      "include_colab_link": true
    },
    "kernelspec": {
      "name": "python3",
      "display_name": "Python 3"
    }
  },
  "cells": [
    {
      "cell_type": "markdown",
      "metadata": {
        "id": "view-in-github",
        "colab_type": "text"
      },
      "source": [
        "<a href=\"https://colab.research.google.com/github/RajkumarGalaxy/rajkumar_nltk/blob/master/Zipf's_Law_and_Mandelbrot_Approx.ipynb\" target=\"_parent\"><img src=\"https://colab.research.google.com/assets/colab-badge.svg\" alt=\"Open In Colab\"/></a>"
      ]
    },
    {
      "cell_type": "markdown",
      "metadata": {
        "id": "N53yKnKFSJIZ",
        "colab_type": "text"
      },
      "source": [
        "# Establishment of Zipf's Law and Mandelbrot Approximation, and their validation\n",
        "\n",
        "### Jupyter Notebook on NLP using *nltk* platform\n",
        "\n",
        "#### By [Rajkumar Lakshmanamoorthy](https://github.com/RajkumarGalaxy)"
      ]
    },
    {
      "cell_type": "markdown",
      "metadata": {
        "id": "N0vmlklgVZpx",
        "colab_type": "text"
      },
      "source": [
        "### Import libraries"
      ]
    },
    {
      "cell_type": "code",
      "metadata": {
        "id": "f8VCtfFPR5NB",
        "colab_type": "code",
        "colab": {}
      },
      "source": [
        "import nltk\n",
        "import pandas as pd"
      ],
      "execution_count": 20,
      "outputs": []
    },
    {
      "cell_type": "markdown",
      "metadata": {
        "id": "kgqD8n6kVhep",
        "colab_type": "text"
      },
      "source": [
        "### Download necessary document from corpus"
      ]
    },
    {
      "cell_type": "code",
      "metadata": {
        "id": "Ioe6Wl8KUwjD",
        "colab_type": "code",
        "colab": {
          "base_uri": "https://localhost:8080/",
          "height": 68
        },
        "outputId": "17014585-5836-4071-ff61-5eeaf42539cd"
      },
      "source": [
        "nltk.download('gutenberg')"
      ],
      "execution_count": 21,
      "outputs": [
        {
          "output_type": "stream",
          "text": [
            "[nltk_data] Downloading package gutenberg to /root/nltk_data...\n",
            "[nltk_data]   Package gutenberg is already up-to-date!\n"
          ],
          "name": "stdout"
        },
        {
          "output_type": "execute_result",
          "data": {
            "text/plain": [
              "True"
            ]
          },
          "metadata": {
            "tags": []
          },
          "execution_count": 21
        }
      ]
    },
    {
      "cell_type": "code",
      "metadata": {
        "id": "qG3Zv96hXyNu",
        "colab_type": "code",
        "colab": {
          "base_uri": "https://localhost:8080/",
          "height": 68
        },
        "outputId": "4a7ad9dd-59b7-4374-eec5-b6775917af7d"
      },
      "source": [
        "nltk.download('stopwords')"
      ],
      "execution_count": 22,
      "outputs": [
        {
          "output_type": "stream",
          "text": [
            "[nltk_data] Downloading package stopwords to /root/nltk_data...\n",
            "[nltk_data]   Package stopwords is already up-to-date!\n"
          ],
          "name": "stdout"
        },
        {
          "output_type": "execute_result",
          "data": {
            "text/plain": [
              "True"
            ]
          },
          "metadata": {
            "tags": []
          },
          "execution_count": 22
        }
      ]
    },
    {
      "cell_type": "markdown",
      "metadata": {
        "id": "BtwETc39Voxw",
        "colab_type": "text"
      },
      "source": [
        "### Calculate word frequency"
      ]
    },
    {
      "cell_type": "code",
      "metadata": {
        "id": "LdV6yx6sS3Bi",
        "colab_type": "code",
        "colab": {}
      },
      "source": [
        "words = nltk.Text(nltk.corpus.gutenberg.words('austen-emma.txt'))\n",
        "stop = set(nltk.corpus.stopwords.words('english'))\n",
        "words = [i.lower() for i in words if i.isalpha() and i not in stop]\n",
        "\n",
        "frequency = {}\n",
        "for w in words:\n",
        "  if w not in frequency.keys():\n",
        "    frequency[w] = 1\n",
        "  else:\n",
        "    frequency[w] += 1"
      ],
      "execution_count": 23,
      "outputs": []
    },
    {
      "cell_type": "markdown",
      "metadata": {
        "id": "XsLu5SvtVtqg",
        "colab_type": "text"
      },
      "source": [
        "### Calculate rank\n",
        "### Calculate Zipf's constant and Mandelbrot constant\n",
        "## ------------------------------------------------\n",
        "#### Zipf's constant = frequency * rank\n",
        "#### Mandelbrot constant = frequency * (rank + 2.7)\n"
      ]
    },
    {
      "cell_type": "code",
      "metadata": {
        "id": "mjo0GPhzUma9",
        "colab_type": "code",
        "colab": {}
      },
      "source": [
        "rank = 1\n",
        "beta = 2.7\n",
        "\n",
        "table = pd.DataFrame(columns=['Rank','Frequency',\"Zipf's Constant\", \"Mandelbrot Constant\"])\n",
        "\n",
        "for word, f in sorted(frequency.items(), key=lambda x: x[1], reverse=True):\n",
        "  table.loc[word] = [rank, f, (rank*f), ((rank+beta)*f)]\n",
        "  rank += 1\n"
      ],
      "execution_count": 24,
      "outputs": []
    },
    {
      "cell_type": "code",
      "metadata": {
        "id": "hBW8jdTMZVUd",
        "colab_type": "code",
        "colab": {
          "base_uri": "https://localhost:8080/",
          "height": 1000
        },
        "outputId": "ec532a87-a488-4ad2-879b-406e6b5d7414"
      },
      "source": [
        "print(table.head(50).describe())\n",
        "print('*'*100)\n",
        "print(table.head(50))"
      ],
      "execution_count": 25,
      "outputs": [
        {
          "output_type": "stream",
          "text": [
            "           Rank    Frequency  Zipf's Constant  Mandelbrot Constant\n",
            "count  50.00000    50.000000        50.000000            50.000000\n",
            "mean   25.50000   450.240000      7772.660000          8988.308000\n",
            "std    14.57738   439.956193      2381.632176          1844.645741\n",
            "min     1.00000   209.000000      2306.000000          4930.500000\n",
            "25%    13.25000   244.750000      5950.500000          7470.525000\n",
            "50%    25.50000   357.500000      9013.500000          9919.350000\n",
            "75%    37.75000   449.250000      9571.000000         10263.600000\n",
            "max    50.00000  3178.000000     10486.000000         11758.600000\n",
            "****************************************************************************************************\n",
            "           Rank  Frequency  Zipf's Constant  Mandelbrot Constant\n",
            "i           1.0     3178.0           3178.0              11758.6\n",
            "mr          2.0     1153.0           2306.0               5419.1\n",
            "emma        3.0      865.0           2595.0               4930.5\n",
            "could       4.0      837.0           3348.0               5607.9\n",
            "would       5.0      820.0           4100.0               6314.0\n",
            "mrs         6.0      699.0           4194.0               6081.3\n",
            "miss        7.0      599.0           4193.0               5810.3\n",
            "must        8.0      567.0           4536.0               6066.9\n",
            "she         9.0      562.0           5058.0               6575.4\n",
            "harriet    10.0      506.0           5060.0               6426.2\n",
            "much       11.0      486.0           5346.0               6658.2\n",
            "said       12.0      484.0           5808.0               7114.8\n",
            "one        13.0      452.0           5876.0               7096.4\n",
            "he         14.0      441.0           6174.0               7364.7\n",
            "weston     15.0      440.0           6600.0               7788.0\n",
            "every      16.0      435.0           6960.0               8134.5\n",
            "well       17.0      401.0           6817.0               7899.7\n",
            "it         18.0      400.0           7200.0               8280.0\n",
            "thing      19.0      398.0           7562.0               8636.6\n",
            "knightley  20.0      389.0           7780.0               8830.3\n",
            "elton      21.0      385.0           8085.0               9124.5\n",
            "think      22.0      383.0           8426.0               9460.1\n",
            "little     23.0      359.0           8257.0               9226.3\n",
            "never      24.0      358.0           8592.0               9558.6\n",
            "good       25.0      358.0           8950.0               9916.6\n",
            "the        26.0      357.0           9282.0              10245.9\n",
            "know       27.0      337.0           9099.0              10008.9\n",
            "might      28.0      326.0           9128.0              10008.2\n",
            "woodhouse  29.0      313.0           9077.0               9922.1\n",
            "say        30.0      310.0           9300.0              10137.0\n",
            "you        31.0      303.0           9393.0              10211.1\n",
            "jane       32.0      301.0           9632.0              10444.7\n",
            "but        33.0      293.0           9669.0              10460.1\n",
            "quite      34.0      282.0           9588.0              10349.4\n",
            "time       35.0      279.0           9765.0              10518.3\n",
            "great      36.0      264.0           9504.0              10216.8\n",
            "nothing    37.0      256.0           9472.0              10163.2\n",
            "dear       38.0      241.0           9158.0               9808.7\n",
            "fairfax    39.0      241.0           9399.0              10049.7\n",
            "always     40.0      238.0           9520.0              10162.6\n",
            "man        41.0      235.0           9635.0              10269.5\n",
            "thought    42.0      226.0           9492.0              10102.2\n",
            "soon       43.0      224.0           9632.0              10236.8\n",
            "and        44.0      224.0           9856.0              10460.8\n",
            "churchill  45.0      224.0          10080.0              10684.8\n",
            "see        46.0      222.0          10212.0              10811.4\n",
            "may        47.0      221.0          10387.0              10983.7\n",
            "shall      48.0      217.0          10416.0              11001.9\n",
            "without    49.0      214.0          10486.0              11063.8\n",
            "first      50.0      209.0          10450.0              11014.3\n"
          ],
          "name": "stdout"
        }
      ]
    },
    {
      "cell_type": "code",
      "metadata": {
        "id": "KRmUwdsXZeaL",
        "colab_type": "code",
        "colab": {
          "base_uri": "https://localhost:8080/",
          "height": 1000
        },
        "outputId": "6feb35f6-229d-4135-f29a-24eaff22a594"
      },
      "source": [
        "print(table.sample(50).describe())\n",
        "print('*'*100)\n",
        "print(table.sample(50))\n"
      ],
      "execution_count": 26,
      "outputs": [
        {
          "output_type": "stream",
          "text": [
            "              Rank   Frequency  Zipf's Constant  Mandelbrot Constant\n",
            "count    50.000000   50.000000        50.000000            50.000000\n",
            "mean   3294.520000   10.520000      8984.680000          9013.084000\n",
            "std    2035.458402   26.116099      3663.224137          3692.109452\n",
            "min      63.000000    1.000000      4315.000000          4317.700000\n",
            "25%    1490.750000    1.000000      5598.000000          5600.700000\n",
            "50%    3262.500000    2.500000      8054.500000          8061.250000\n",
            "75%    5147.000000    8.000000     11733.000000         11753.250000\n",
            "max    6801.000000  177.000000     15651.000000         15750.900000\n",
            "****************************************************************************************************\n",
            "                  Rank  Frequency  Zipf's Constant  Mandelbrot Constant\n",
            "fasten          3990.0        2.0           7980.0               7985.4\n",
            "prize           2640.0        4.0          10560.0              10570.8\n",
            "treasure        3050.0        3.0           9150.0               9158.1\n",
            "everyday        3961.0        2.0           7922.0               7927.4\n",
            "recollections   1890.0        6.0          11340.0              11356.2\n",
            "strengthened    2316.0        4.0           9264.0               9274.8\n",
            "affectionately  6931.0        1.0           6931.0               6933.7\n",
            "grievance       3334.0        2.0           6668.0               6673.4\n",
            "refuse           879.0       16.0          14064.0              14107.2\n",
            "covered         3008.0        3.0           9024.0               9032.1\n",
            "resist          2130.0        5.0          10650.0              10663.5\n",
            "objectionable   4284.0        2.0           8568.0               8573.4\n",
            "important        718.0       20.0          14360.0              14414.0\n",
            "commend         5834.0        1.0           5834.0               5836.7\n",
            "deficiency      2367.0        4.0           9468.0               9478.8\n",
            "even              86.0      132.0          11352.0              11708.4\n",
            "embarrassed     4025.0        2.0           8050.0               8055.4\n",
            "coachmen        5028.0        1.0           5028.0               5030.7\n",
            "analogy         5092.0        1.0           5092.0               5094.7\n",
            "face             471.0       32.0          15072.0              15158.4\n",
            "alarming        1835.0        6.0          11010.0              11026.2\n",
            "delicacy         882.0       16.0          14112.0              14155.2\n",
            "imaginations    3464.0        2.0           6928.0               6933.4\n",
            "downright       2049.0        5.0          10245.0              10258.5\n",
            "head             380.0       40.0          15200.0              15308.0\n",
            "appeared         315.0       49.0          15435.0              15567.3\n",
            "welcomed        2342.0        4.0           9368.0               9378.8\n",
            "precaution      6007.0        1.0           6007.0               6009.7\n",
            "chuses          2552.0        4.0          10208.0              10218.8\n",
            "mute            5986.0        1.0           5986.0               5988.7\n",
            "weak            1883.0        6.0          11298.0              11314.2\n",
            "intends         6951.0        1.0           6951.0               6953.7\n",
            "diligence       4443.0        1.0           4443.0               4445.7\n",
            "dancing          465.0       33.0          15345.0              15434.1\n",
            "briskly         4012.0        2.0           8024.0               8029.4\n",
            "sufferable      4466.0        1.0           4466.0               4468.7\n",
            "family           177.0       77.0          13629.0              13836.9\n",
            "unpermitted     4968.0        1.0           4968.0               4970.7\n",
            "grammarian      6177.0        1.0           6177.0               6179.7\n",
            "plotting        6718.0        1.0           6718.0               6720.7\n",
            "blinds          4605.0        1.0           4605.0               4607.7\n",
            "timber          6307.0        1.0           6307.0               6309.7\n",
            "bushel          5631.0        1.0           5631.0               5633.7\n",
            "deplorable      3118.0        3.0           9354.0               9362.1\n",
            "copying         4465.0        1.0           4465.0               4467.7\n",
            "sorry            240.0       61.0          14640.0              14804.7\n",
            "striving        3758.0        2.0           7516.0               7521.4\n",
            "action          1939.0        6.0          11634.0              11650.2\n",
            "embodied        4338.0        1.0           4338.0               4340.7\n",
            "ii              2304.0        4.0           9216.0               9226.8\n"
          ],
          "name": "stdout"
        }
      ]
    },
    {
      "cell_type": "code",
      "metadata": {
        "id": "YixaNiWHZhI_",
        "colab_type": "code",
        "colab": {
          "base_uri": "https://localhost:8080/",
          "height": 1000
        },
        "outputId": "14b5dabb-8d94-4f62-c220-c94284b7e9b3"
      },
      "source": [
        "print(table.tail(50).describe())\n",
        "print('*'*100)\n",
        "print(table.tail(50))"
      ],
      "execution_count": 27,
      "outputs": [
        {
          "output_type": "stream",
          "text": [
            "             Rank  Frequency  Zipf's Constant  Mandelbrot Constant\n",
            "count    50.00000       50.0         50.00000             50.00000\n",
            "mean   7020.50000        1.0       7020.50000           7023.20000\n",
            "std      14.57738        0.0         14.57738             14.57738\n",
            "min    6996.00000        1.0       6996.00000           6998.70000\n",
            "25%    7008.25000        1.0       7008.25000           7010.95000\n",
            "50%    7020.50000        1.0       7020.50000           7023.20000\n",
            "75%    7032.75000        1.0       7032.75000           7035.45000\n",
            "max    7045.00000        1.0       7045.00000           7047.70000\n",
            "****************************************************************************************************\n",
            "                  Rank  Frequency  Zipf's Constant  Mandelbrot Constant\n",
            "gesture         6996.0        1.0           6996.0               6998.7\n",
            "inclining       6997.0        1.0           6997.0               6999.7\n",
            "jewels          6998.0        1.0           6998.0               7000.7\n",
            "ornament        6999.0        1.0           6999.0               7001.7\n",
            "commended       7000.0        1.0           7000.0               7002.7\n",
            "disordered      7001.0        1.0           7001.0               7003.7\n",
            "partly          7002.0        1.0           7002.0               7004.7\n",
            "obtrude         7003.0        1.0           7003.0               7005.7\n",
            "entertainingly  7004.0        1.0           7004.0               7006.7\n",
            "regarding       7005.0        1.0           7005.0               7007.7\n",
            "completion      7006.0        1.0           7006.0               7008.7\n",
            "xix             7007.0        1.0           7007.0               7009.7\n",
            "intervals       7008.0        1.0           7008.0               7010.7\n",
            "unbiased        7009.0        1.0           7009.0               7011.7\n",
            "presumptuous    7010.0        1.0           7010.0               7012.7\n",
            "unqualified     7011.0        1.0           7011.0               7013.7\n",
            "unintelligible  7012.0        1.0           7012.0               7014.7\n",
            "tradesman       7013.0        1.0           7013.0               7015.7\n",
            "decent          7014.0        1.0           7014.0               7016.7\n",
            "vouch           7015.0        1.0           7015.0               7017.7\n",
            "unbleached      7016.0        1.0           7016.0               7018.7\n",
            "nobility        7017.0        1.0           7017.0               7019.7\n",
            "liberally       7018.0        1.0           7018.0               7020.7\n",
            "created         7019.0        1.0           7019.0               7021.7\n",
            "gradual         7020.0        1.0           7020.0               7022.7\n",
            "impair          7021.0        1.0           7021.0               7023.7\n",
            "clergyman       7022.0        1.0           7022.0               7024.7\n",
            "altar           7023.0        1.0           7023.0               7025.7\n",
            "intermediate    7024.0        1.0           7024.0               7026.7\n",
            "seaside         7025.0        1.0           7025.0               7027.7\n",
            "sounded         7026.0        1.0           7026.0               7028.7\n",
            "hopeless        7027.0        1.0           7027.0               7029.7\n",
            "resignation     7028.0        1.0           7028.0               7030.7\n",
            "acquiesced      7029.0        1.0           7029.0               7031.7\n",
            "befriended      7030.0        1.0           7030.0               7032.7\n",
            "illumination    7031.0        1.0           7031.0               7033.7\n",
            "robbed          7032.0        1.0           7032.0               7034.7\n",
            "turkeys         7033.0        1.0           7033.0               7035.7\n",
            "other           7034.0        1.0           7034.0               7036.7\n",
            "pilfering       7035.0        1.0           7035.0               7037.7\n",
            "protected       7036.0        1.0           7036.0               7038.7\n",
            "weddings        7037.0        1.0           7037.0               7039.7\n",
            "detailed        7038.0        1.0           7038.0               7040.7\n",
            "satin           7039.0        1.0           7039.0               7041.7\n",
            "veils           7040.0        1.0           7040.0               7042.7\n",
            "stare           7041.0        1.0           7041.0               7043.7\n",
            "deficiencies    7042.0        1.0           7042.0               7044.7\n",
            "predictions     7043.0        1.0           7043.0               7045.7\n",
            "band            7044.0        1.0           7044.0               7046.7\n",
            "finis           7045.0        1.0           7045.0               7047.7\n"
          ],
          "name": "stdout"
        }
      ]
    },
    {
      "cell_type": "markdown",
      "metadata": {
        "id": "5Epi8YIbavM1",
        "colab_type": "text"
      },
      "source": [
        "## Insight:\n",
        "\n",
        "### Both Zipf's law and Mandelbrot's Approximation are not strictly followed for top ranks (lowest rank values such as 1, 2, 3, ...).\n",
        "\n",
        "### On the other hand, these empirical rules are strictly followed for bottom ranks (highest rank values such as 7000's)"
      ]
    },
    {
      "cell_type": "code",
      "metadata": {
        "id": "BsG1Uoqmbb_7",
        "colab_type": "code",
        "colab": {
          "base_uri": "https://localhost:8080/",
          "height": 297
        },
        "outputId": "e24f8269-4d49-41f7-ddbd-478691efd487"
      },
      "source": [
        "table.describe()"
      ],
      "execution_count": 28,
      "outputs": [
        {
          "output_type": "execute_result",
          "data": {
            "text/html": [
              "<div>\n",
              "<style scoped>\n",
              "    .dataframe tbody tr th:only-of-type {\n",
              "        vertical-align: middle;\n",
              "    }\n",
              "\n",
              "    .dataframe tbody tr th {\n",
              "        vertical-align: top;\n",
              "    }\n",
              "\n",
              "    .dataframe thead th {\n",
              "        text-align: right;\n",
              "    }\n",
              "</style>\n",
              "<table border=\"1\" class=\"dataframe\">\n",
              "  <thead>\n",
              "    <tr style=\"text-align: right;\">\n",
              "      <th></th>\n",
              "      <th>Rank</th>\n",
              "      <th>Frequency</th>\n",
              "      <th>Zipf's Constant</th>\n",
              "      <th>Mandelbrot Constant</th>\n",
              "    </tr>\n",
              "  </thead>\n",
              "  <tbody>\n",
              "    <tr>\n",
              "      <th>count</th>\n",
              "      <td>7045.000000</td>\n",
              "      <td>7045.000000</td>\n",
              "      <td>7045.000000</td>\n",
              "      <td>7045.000000</td>\n",
              "    </tr>\n",
              "    <tr>\n",
              "      <th>mean</th>\n",
              "      <td>3523.000000</td>\n",
              "      <td>11.557275</td>\n",
              "      <td>8790.820724</td>\n",
              "      <td>8822.025366</td>\n",
              "    </tr>\n",
              "    <tr>\n",
              "      <th>std</th>\n",
              "      <td>2033.860656</td>\n",
              "      <td>55.584714</td>\n",
              "      <td>3285.386985</td>\n",
              "      <td>3308.978038</td>\n",
              "    </tr>\n",
              "    <tr>\n",
              "      <th>min</th>\n",
              "      <td>1.000000</td>\n",
              "      <td>1.000000</td>\n",
              "      <td>2306.000000</td>\n",
              "      <td>4302.700000</td>\n",
              "    </tr>\n",
              "    <tr>\n",
              "      <th>25%</th>\n",
              "      <td>1762.000000</td>\n",
              "      <td>1.000000</td>\n",
              "      <td>6048.000000</td>\n",
              "      <td>6059.700000</td>\n",
              "    </tr>\n",
              "    <tr>\n",
              "      <th>50%</th>\n",
              "      <td>3523.000000</td>\n",
              "      <td>2.000000</td>\n",
              "      <td>8046.000000</td>\n",
              "      <td>8061.400000</td>\n",
              "    </tr>\n",
              "    <tr>\n",
              "      <th>75%</th>\n",
              "      <td>5284.000000</td>\n",
              "      <td>7.000000</td>\n",
              "      <td>11352.000000</td>\n",
              "      <td>11400.300000</td>\n",
              "    </tr>\n",
              "    <tr>\n",
              "      <th>max</th>\n",
              "      <td>7045.000000</td>\n",
              "      <td>3178.000000</td>\n",
              "      <td>15846.000000</td>\n",
              "      <td>15948.600000</td>\n",
              "    </tr>\n",
              "  </tbody>\n",
              "</table>\n",
              "</div>"
            ],
            "text/plain": [
              "              Rank    Frequency  Zipf's Constant  Mandelbrot Constant\n",
              "count  7045.000000  7045.000000      7045.000000          7045.000000\n",
              "mean   3523.000000    11.557275      8790.820724          8822.025366\n",
              "std    2033.860656    55.584714      3285.386985          3308.978038\n",
              "min       1.000000     1.000000      2306.000000          4302.700000\n",
              "25%    1762.000000     1.000000      6048.000000          6059.700000\n",
              "50%    3523.000000     2.000000      8046.000000          8061.400000\n",
              "75%    5284.000000     7.000000     11352.000000         11400.300000\n",
              "max    7045.000000  3178.000000     15846.000000         15948.600000"
            ]
          },
          "metadata": {
            "tags": []
          },
          "execution_count": 28
        }
      ]
    },
    {
      "cell_type": "code",
      "metadata": {
        "id": "iIgQGbBZbs0M",
        "colab_type": "code",
        "colab": {
          "base_uri": "https://localhost:8080/",
          "height": 720
        },
        "outputId": "97127789-b286-4db6-a6a2-9d89d6031fed"
      },
      "source": [
        "from matplotlib import pyplot, rcParams\n",
        "import seaborn as sns\n",
        "import matplotlib as mpl\n",
        "rcParams.update({'font.size':12, 'figure.figsize':(14,12)})\n",
        "\n",
        "fig, ax = pyplot.subplots(2,2)\n",
        "sns.set_style('darkgrid')\n",
        "sns.boxplot(table[\"Zipf's Constant\"], ax=ax[0][0])\n",
        "sns.boxplot(table[\"Mandelbrot Constant\"], ax=ax[0][1])\n",
        "sns.distplot(table[\"Zipf's Constant\"], kde=False, ax=ax[1][0])\n",
        "sns.distplot(table[\"Mandelbrot Constant\"], kde=False, ax=ax[1][1])\n",
        "pyplot.show()"
      ],
      "execution_count": 31,
      "outputs": [
        {
          "output_type": "display_data",
          "data": {
            "image/png": "[encoded data removed]",
            "text/plain": [
              "<Figure size 1008x864 with 4 Axes>"
            ]
          },
          "metadata": {
            "tags": []
          }
        }
      ]
    },
    {
      "cell_type": "markdown",
      "metadata": {
        "id": "vXcIUSEXn_QR",
        "colab_type": "text"
      },
      "source": [
        "## Insights:\n",
        "\n",
        "### By visualizing boxplots, it can be expressed that mean, median, first quartile and third quartile values of empirical constants are almost equal for both empirical laws. Maximum value of empirical constant is also almost same for both laws. However minimum value of empirical constant of Zipf's law is much lower than that of Mandelbrot's approximation. \n",
        "\n",
        "### By visualizing distribution plots, it can be concluded that Mandelbrot's approximation is convincing for top ranks (such as 1, 2, 3,....) compared to Zipf's law. However both performs almost in the same way as rank lowers."
      ]
    },
    {
      "cell_type": "markdown",
      "metadata": {
        "id": "w6Kt7CvPqE0-",
        "colab_type": "text"
      },
      "source": [
        "#### Let's meet with some other analysis later!"
      ]
    }
  ]
}