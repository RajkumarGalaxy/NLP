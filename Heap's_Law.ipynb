{
  "nbformat": 4,
  "nbformat_minor": 0,
  "metadata": {
    "colab": {
      "name": "Heap's_Law.ipynb",
      "provenance": [],
      "authorship_tag": "ABX9TyMl798GFnakOxae8zzy68za",
      "include_colab_link": true
    },
    "kernelspec": {
      "name": "python3",
      "display_name": "Python 3"
    }
  },
  "cells": [
    {
      "cell_type": "markdown",
      "metadata": {
        "id": "view-in-github",
        "colab_type": "text"
      },
      "source": [
        "<a href=\"https://colab.research.google.com/github/RajkumarGalaxy/rajkumar_nltk/blob/master/Heap's_Law.ipynb\" target=\"_parent\"><img src=\"https://colab.research.google.com/assets/colab-badge.svg\" alt=\"Open In Colab\"/></a>"
      ]
    },
    {
      "cell_type": "markdown",
      "metadata": {
        "id": "CJ-ID4qRq9nP",
        "colab_type": "text"
      },
      "source": [
        "# Establishment of Heap's Law and its validation\n",
        "\n",
        "### Jupyter Notebook on NLP using *nltk* platform\n",
        "\n",
        "#### By [Rajkumar Lakshmanamoorthy](https://github.com/RajkumarGalaxy)"
      ]
    },
    {
      "cell_type": "markdown",
      "metadata": {
        "id": "vvv84JeTsLw8",
        "colab_type": "text"
      },
      "source": [
        "### Heap's Law :     M = k * (T^b)\n",
        "where\n",
        "\n",
        "*   M = Vocabulary count in document\n",
        "*   T = Token count in document\n",
        "*   k = proportionality constant such that 30<=k<=100\n",
        "*   b = constant, approximately equal to 0.49\n",
        "\n"
      ]
    },
    {
      "cell_type": "markdown",
      "metadata": {
        "id": "q6mq0mz9tL8G",
        "colab_type": "text"
      },
      "source": [
        "### *Let's Python*"
      ]
    },
    {
      "cell_type": "markdown",
      "metadata": {
        "id": "2AWC-8W5rxDK",
        "colab_type": "text"
      },
      "source": [
        "Import libraries"
      ]
    },
    {
      "cell_type": "code",
      "metadata": {
        "id": "Ps7Id0lZq7pr",
        "colab_type": "code",
        "colab": {}
      },
      "source": [
        "import nltk\n",
        "import pandas as pd\n",
        "import numpy as np\n",
        "import matplotlib.pyplot as plt\n",
        "from matplotlib import rcParams\n",
        "import seaborn as sns"
      ],
      "execution_count": 32,
      "outputs": []
    },
    {
      "cell_type": "markdown",
      "metadata": {
        "id": "bgH73gQ9rr81",
        "colab_type": "text"
      },
      "source": [
        "Download document from corpus"
      ]
    },
    {
      "cell_type": "code",
      "metadata": {
        "id": "9-epZmXvr100",
        "colab_type": "code",
        "colab": {
          "base_uri": "https://localhost:8080/",
          "height": 68
        },
        "outputId": "26879f38-598f-4f5f-c500-1e3e96ec66c6"
      },
      "source": [
        "nltk.download('gutenberg')"
      ],
      "execution_count": 33,
      "outputs": [
        {
          "output_type": "stream",
          "text": [
            "[nltk_data] Downloading package gutenberg to /root/nltk_data...\n",
            "[nltk_data]   Package gutenberg is already up-to-date!\n"
          ],
          "name": "stdout"
        },
        {
          "output_type": "execute_result",
          "data": {
            "text/plain": [
              "True"
            ]
          },
          "metadata": {
            "tags": []
          },
          "execution_count": 33
        }
      ]
    },
    {
      "cell_type": "code",
      "metadata": {
        "id": "wk7S4C8ptVgA",
        "colab_type": "code",
        "colab": {
          "base_uri": "https://localhost:8080/",
          "height": 68
        },
        "outputId": "2f316b47-af2b-410d-a187-0b9d9c0634e7"
      },
      "source": [
        "nltk.download('stopwords')"
      ],
      "execution_count": 34,
      "outputs": [
        {
          "output_type": "stream",
          "text": [
            "[nltk_data] Downloading package stopwords to /root/nltk_data...\n",
            "[nltk_data]   Package stopwords is already up-to-date!\n"
          ],
          "name": "stdout"
        },
        {
          "output_type": "execute_result",
          "data": {
            "text/plain": [
              "True"
            ]
          },
          "metadata": {
            "tags": []
          },
          "execution_count": 34
        }
      ]
    },
    {
      "cell_type": "markdown",
      "metadata": {
        "id": "4s3BtSeJttza",
        "colab_type": "text"
      },
      "source": [
        "Extract words by tokenization, preprocess, remove stopwords"
      ]
    },
    {
      "cell_type": "code",
      "metadata": {
        "id": "xcAd0Hq-t3Hz",
        "colab_type": "code",
        "colab": {}
      },
      "source": [
        "stop = set(nltk.corpus.stopwords.words('english'))\n",
        "words = nltk.Text(nltk.corpus.gutenberg.words('austen-emma.txt'))\n",
        "\n",
        "words = [i.lower() for i in words if i.isalpha() and i not in stop]"
      ],
      "execution_count": 35,
      "outputs": []
    },
    {
      "cell_type": "markdown",
      "metadata": {
        "id": "3b3NVxXpvK7T",
        "colab_type": "text"
      },
      "source": [
        "Calculate token count and actual vocabulary count\n"
      ]
    },
    {
      "cell_type": "code",
      "metadata": {
        "id": "M0FLvbYGvVE4",
        "colab_type": "code",
        "colab": {
          "base_uri": "https://localhost:8080/",
          "height": 34
        },
        "outputId": "e6f85145-bd20-49b8-9b3a-a0042d268bbe"
      },
      "source": [
        "v = len(set(words))\n",
        "t = len(words)\n",
        "\n",
        "print('Actual Vocabulary count is {} and Token count is {}'.format(v,t))"
      ],
      "execution_count": 36,
      "outputs": [
        {
          "output_type": "stream",
          "text": [
            "Actual Vocabulary count is 7045 and Token count is 81421\n"
          ],
          "name": "stdout"
        }
      ]
    },
    {
      "cell_type": "code",
      "metadata": {
        "id": "DGXNIOKcy1MS",
        "colab_type": "code",
        "colab": {
          "base_uri": "https://localhost:8080/",
          "height": 187
        },
        "outputId": "215ebf0a-6dfd-41b4-b15d-a7e1ca3eeb04"
      },
      "source": [
        "df = pd.DataFrame(columns=['constant k', 'Predicted Vocabulary', 'Actual Vocabulary' ])\n",
        "\n",
        "b=0.49            #  power constant\n",
        "for i, k in enumerate(np.arange(20,110,10)):\n",
        "  df.loc[i] = [k, k*t**b, v]\n",
        "\n",
        "print(df)"
      ],
      "execution_count": 37,
      "outputs": [
        {
          "output_type": "stream",
          "text": [
            "   constant k  Predicted Vocabulary  Actual Vocabulary\n",
            "0        20.0           5096.720846             7045.0\n",
            "1        30.0           7645.081269             7045.0\n",
            "2        40.0          10193.441692             7045.0\n",
            "3        50.0          12741.802114             7045.0\n",
            "4        60.0          15290.162537             7045.0\n",
            "5        70.0          17838.522960             7045.0\n",
            "6        80.0          20386.883383             7045.0\n",
            "7        90.0          22935.243806             7045.0\n",
            "8       100.0          25483.604229             7045.0\n"
          ],
          "name": "stdout"
        }
      ]
    },
    {
      "cell_type": "code",
      "metadata": {
        "id": "TlLjIbAC1oSq",
        "colab_type": "code",
        "colab": {
          "base_uri": "https://localhost:8080/",
          "height": 394
        },
        "outputId": "e3701334-ba87-4287-c8c7-0eca26a0186a"
      },
      "source": [
        "rcParams.update({'figure.figsize':[12,6], 'font.size':12})\n",
        "sns.lineplot(x=df['constant k'], y=df['Predicted Vocabulary'], label ='Predicted')\n",
        "sns.lineplot(x=df['constant k'], y=df['Actual Vocabulary'], label ='Actual')\n",
        "plt.ylabel('Vocabulary Count')\n",
        "plt.show()"
      ],
      "execution_count": 38,
      "outputs": [
        {
          "output_type": "display_data",
          "data": {
            "image/png": "[encoded data removed]",
            "text/plain": [
              "<Figure size 864x432 with 1 Axes>"
            ]
          },
          "metadata": {
            "tags": [],
            "needs_background": "light"
          }
        }
      ]
    },
    {
      "cell_type": "markdown",
      "metadata": {
        "id": "UvoeAICe3kxT",
        "colab_type": "text"
      },
      "source": [
        "Calculation of correct value of k for given document"
      ]
    },
    {
      "cell_type": "code",
      "metadata": {
        "id": "eRYHR8gT3pQU",
        "colab_type": "code",
        "colab": {
          "base_uri": "https://localhost:8080/",
          "height": 34
        },
        "outputId": "e9279d3e-b367-48ed-bd27-aa09d28192fa"
      },
      "source": [
        "print('Correct value of k is: % .2f' %(v/t**b))"
      ],
      "execution_count": 39,
      "outputs": [
        {
          "output_type": "stream",
          "text": [
            "Correct value of k is:  27.65\n"
          ],
          "name": "stdout"
        }
      ]
    },
    {
      "cell_type": "markdown",
      "metadata": {
        "id": "66zTOP3V4Wkm",
        "colab_type": "text"
      },
      "source": [
        "## Let's check for some other document ***bryant-stories***"
      ]
    },
    {
      "cell_type": "code",
      "metadata": {
        "id": "rMOQ1-Kx4Vy9",
        "colab_type": "code",
        "colab": {
          "base_uri": "https://localhost:8080/",
          "height": 734
        },
        "outputId": "d8204625-3f3e-44e1-87ec-b18226bcde20"
      },
      "source": [
        "stop = set(nltk.corpus.stopwords.words('english'))\n",
        "words = nltk.Text(nltk.corpus.gutenberg.words('bryant-stories.txt'))\n",
        "\n",
        "words = [i.lower() for i in words if i.isalpha() and i not in stop]\n",
        "v = len(set(words))\n",
        "t = len(words)\n",
        "\n",
        "print('\\n\\nActual Vocabulary count is {} and Token count is {} \\n\\n\\n'.format(v,t))\n",
        "df = pd.DataFrame(columns=['constant k', 'Predicted Vocabulary', 'Actual Vocabulary' ])\n",
        "\n",
        "b=0.49            #  power constant\n",
        "for i, k in enumerate(np.arange(20,110,10)):\n",
        "  df.loc[i] = [k, k*t**b, v]\n",
        "\n",
        "print(df, end='\\n'*2)\n",
        "rcParams.update({'figure.figsize':[12,6], 'font.size':12})\n",
        "sns.lineplot(x=df['constant k'], y=df['Predicted Vocabulary'], label ='Predicted')\n",
        "sns.lineplot(x=df['constant k'], y=df['Actual Vocabulary'], label ='Actual')\n",
        "plt.ylabel('Vocabulary Count')\n",
        "plt.show()\n",
        "print('\\n\\nCorrect value of k for bryant-stories is: % .2f' %(v/t**b))\n"
      ],
      "execution_count": 40,
      "outputs": [
        {
          "output_type": "stream",
          "text": [
            "\n",
            "\n",
            "Actual Vocabulary count is 3775 and Token count is 24472 \n",
            "\n",
            "\n",
            "\n",
            "   constant k  Predicted Vocabulary  Actual Vocabulary\n",
            "0        20.0           2827.991065             3775.0\n",
            "1        30.0           4241.986598             3775.0\n",
            "2        40.0           5655.982130             3775.0\n",
            "3        50.0           7069.977663             3775.0\n",
            "4        60.0           8483.973196             3775.0\n",
            "5        70.0           9897.968728             3775.0\n",
            "6        80.0          11311.964261             3775.0\n",
            "7        90.0          12725.959793             3775.0\n",
            "8       100.0          14139.955326             3775.0\n",
            "\n"
          ],
          "name": "stdout"
        },
        {
          "output_type": "display_data",
          "data": {
            "image/png": "[encoded data removed]",
            "text/plain": [
              "<Figure size 864x432 with 1 Axes>"
            ]
          },
          "metadata": {
            "tags": [],
            "needs_background": "light"
          }
        },
        {
          "output_type": "stream",
          "text": [
            "\n",
            "\n",
            "Correct value of k for bryant-stories is:  26.70\n"
          ],
          "name": "stdout"
        }
      ]
    },
    {
      "cell_type": "markdown",
      "metadata": {
        "id": "cMVlVLo-5t-G",
        "colab_type": "text"
      },
      "source": [
        "## Insight:\n",
        "\n",
        "Wow! Heap's Law is validated successfully.\n",
        "However the value of proportionality constant is not in between 30 and 100.\n",
        "It is around 27 for the given 2 documents\n",
        "\n",
        "Since we have not tested for a large number of documents or corpora, we cannot really comment on the ***Law*** or its suggested ***constant k*** at present ;)"
      ]
    },
    {
      "cell_type": "markdown",
      "metadata": {
        "id": "X-8z2yBY69hz",
        "colab_type": "text"
      },
      "source": [
        "### Further note:\n",
        "\n",
        "I tested law with *raw* tokens without *stopwords* removed (not shown in notebook). Then it gives a value lesser than 20 for constant k. \n",
        "\n",
        "So we can assume that **Heap's Law** is suitable for *preprocessed* tokens of a document.\n",
        "\n",
        "Since we just removed stopwords as preprocessing work and didn't concentrate on other methods such as stemming/lemmatization, etc., we can safely assume that constant k may fall in the *said* limit of [30, 100] if properly preprocessed.\n",
        "\n",
        "Meet later."
      ]
    }
  ]
}